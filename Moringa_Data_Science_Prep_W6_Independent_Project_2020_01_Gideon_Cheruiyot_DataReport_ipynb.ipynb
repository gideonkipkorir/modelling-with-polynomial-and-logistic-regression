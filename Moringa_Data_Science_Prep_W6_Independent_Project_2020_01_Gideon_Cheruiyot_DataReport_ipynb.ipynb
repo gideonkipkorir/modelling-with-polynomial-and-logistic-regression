{
  "nbformat": 4,
  "nbformat_minor": 0,
  "metadata": {
    "colab": {
      "name": "Moringa_Data_Science_Prep_W6_Independent_Project_2020_01_Gideon_Cheruiyot_DataReport_ipynb.ipynb",
      "provenance": [],
      "include_colab_link": true
    },
    "kernelspec": {
      "display_name": "Python 3",
      "language": "python",
      "name": "python3"
    },
    "language_info": {
      "codemirror_mode": {
        "name": "ipython",
        "version": 3
      },
      "file_extension": ".py",
      "mimetype": "text/x-python",
      "name": "python",
      "nbconvert_exporter": "python",
      "pygments_lexer": "ipython3",
      "version": "3.7.4"
    }
  },
  "cells": [
    {
      "cell_type": "markdown",
      "metadata": {
        "id": "view-in-github",
        "colab_type": "text"
      },
      "source": [
        "<a href=\"https://colab.research.google.com/github/pkor725/modelling-with-polynomial-and-logistic-regression/blob/master/Moringa_Data_Science_Prep_W6_Independent_Project_2020_01_Gideon_Cheruiyot_DataReport_ipynb.ipynb\" target=\"_parent\"><img src=\"https://colab.research.google.com/assets/colab-badge.svg\" alt=\"Open In Colab\"/></a>"
      ]
    },
    {
      "cell_type": "markdown",
      "metadata": {
        "id": "ZXU9KTfDfpMh",
        "colab_type": "text"
      },
      "source": [
        "## Problem statement\n",
        "\n",
        "Create a model that predicts results of a game between team 1 and team 2, based on who's home and who's away, and on whether or not the game is friendly (include rank in your training).\n",
        "\n",
        "You have two possible approaches (as  shown below) given the datasets that will be provided\n",
        "\n",
        "Input: Home team, Away team, Tournament type (World cup, Friendly, Other)\n",
        "\n",
        "**Approach 1:** Polynomial approach\n",
        "\n",
        "What to train given:\n",
        "\n",
        "1. Rank of home team\n",
        "2. Rank of away team\n",
        "3. Tournament type\n",
        "\n",
        "***Model 1:*** Predict how many goals the home team scores.\n",
        "\n",
        "***Model 2:*** Predict how many goals the away team scores.\n",
        "\n",
        "**Approach 2:** Logistic approach\n",
        "\n",
        "Feature Engineering: Figure out from the home team’s perspective if the game is a Win, Lose or Draw (W, L, D)\n",
        "\n",
        "### metric of success:  have a model that can predict with above 50% accuracy"
      ]
    },
    {
      "cell_type": "code",
      "metadata": {
        "id": "3praHjKafpMm",
        "colab_type": "code",
        "colab": {}
      },
      "source": [
        "#importing libriaries\n",
        "import pandas as pd\n",
        "import numpy as np\n",
        "import seaborn as sbn"
      ],
      "execution_count": 0,
      "outputs": []
    },
    {
      "cell_type": "code",
      "metadata": {
        "id": "Ey9u6ywKfpMq",
        "colab_type": "code",
        "colab": {}
      },
      "source": [
        "#loading our datasets\n",
        "results = pd.read_csv(r'C:\\Users\\Gideon Kipkorir\\Desktop\\colab\\Week 6 IP Datasets\\results.csv')\n",
        "ranking = pd.read_csv(r'C:\\Users\\Gideon Kipkorir\\Desktop\\colab\\Week 6 IP Datasets\\fifa_ranking.csv')"
      ],
      "execution_count": 0,
      "outputs": []
    },
    {
      "cell_type": "code",
      "metadata": {
        "id": "WU2FE2ExfpMu",
        "colab_type": "code",
        "colab": {},
        "outputId": "800ae6c5-5b27-45e9-ce73-639595fc18f6"
      },
      "source": [
        "results.head()"
      ],
      "execution_count": 0,
      "outputs": [
        {
          "output_type": "execute_result",
          "data": {
            "text/html": [
              "<div>\n",
              "<style scoped>\n",
              "    .dataframe tbody tr th:only-of-type {\n",
              "        vertical-align: middle;\n",
              "    }\n",
              "\n",
              "    .dataframe tbody tr th {\n",
              "        vertical-align: top;\n",
              "    }\n",
              "\n",
              "    .dataframe thead th {\n",
              "        text-align: right;\n",
              "    }\n",
              "</style>\n",
              "<table border=\"1\" class=\"dataframe\">\n",
              "  <thead>\n",
              "    <tr style=\"text-align: right;\">\n",
              "      <th></th>\n",
              "      <th>date</th>\n",
              "      <th>home_team</th>\n",
              "      <th>away_team</th>\n",
              "      <th>home_score</th>\n",
              "      <th>away_score</th>\n",
              "      <th>tournament</th>\n",
              "      <th>city</th>\n",
              "      <th>country</th>\n",
              "      <th>neutral</th>\n",
              "    </tr>\n",
              "  </thead>\n",
              "  <tbody>\n",
              "    <tr>\n",
              "      <td>0</td>\n",
              "      <td>1872-11-30</td>\n",
              "      <td>Scotland</td>\n",
              "      <td>England</td>\n",
              "      <td>0</td>\n",
              "      <td>0</td>\n",
              "      <td>Friendly</td>\n",
              "      <td>Glasgow</td>\n",
              "      <td>Scotland</td>\n",
              "      <td>False</td>\n",
              "    </tr>\n",
              "    <tr>\n",
              "      <td>1</td>\n",
              "      <td>1873-03-08</td>\n",
              "      <td>England</td>\n",
              "      <td>Scotland</td>\n",
              "      <td>4</td>\n",
              "      <td>2</td>\n",
              "      <td>Friendly</td>\n",
              "      <td>London</td>\n",
              "      <td>England</td>\n",
              "      <td>False</td>\n",
              "    </tr>\n",
              "    <tr>\n",
              "      <td>2</td>\n",
              "      <td>1874-03-07</td>\n",
              "      <td>Scotland</td>\n",
              "      <td>England</td>\n",
              "      <td>2</td>\n",
              "      <td>1</td>\n",
              "      <td>Friendly</td>\n",
              "      <td>Glasgow</td>\n",
              "      <td>Scotland</td>\n",
              "      <td>False</td>\n",
              "    </tr>\n",
              "    <tr>\n",
              "      <td>3</td>\n",
              "      <td>1875-03-06</td>\n",
              "      <td>England</td>\n",
              "      <td>Scotland</td>\n",
              "      <td>2</td>\n",
              "      <td>2</td>\n",
              "      <td>Friendly</td>\n",
              "      <td>London</td>\n",
              "      <td>England</td>\n",
              "      <td>False</td>\n",
              "    </tr>\n",
              "    <tr>\n",
              "      <td>4</td>\n",
              "      <td>1876-03-04</td>\n",
              "      <td>Scotland</td>\n",
              "      <td>England</td>\n",
              "      <td>3</td>\n",
              "      <td>0</td>\n",
              "      <td>Friendly</td>\n",
              "      <td>Glasgow</td>\n",
              "      <td>Scotland</td>\n",
              "      <td>False</td>\n",
              "    </tr>\n",
              "  </tbody>\n",
              "</table>\n",
              "</div>"
            ],
            "text/plain": [
              "         date home_team away_team  home_score  away_score tournament     city  \\\n",
              "0  1872-11-30  Scotland   England           0           0   Friendly  Glasgow   \n",
              "1  1873-03-08   England  Scotland           4           2   Friendly   London   \n",
              "2  1874-03-07  Scotland   England           2           1   Friendly  Glasgow   \n",
              "3  1875-03-06   England  Scotland           2           2   Friendly   London   \n",
              "4  1876-03-04  Scotland   England           3           0   Friendly  Glasgow   \n",
              "\n",
              "    country  neutral  \n",
              "0  Scotland    False  \n",
              "1   England    False  \n",
              "2  Scotland    False  \n",
              "3   England    False  \n",
              "4  Scotland    False  "
            ]
          },
          "metadata": {
            "tags": []
          },
          "execution_count": 4
        }
      ]
    },
    {
      "cell_type": "code",
      "metadata": {
        "id": "Xon_QBlofpM1",
        "colab_type": "code",
        "colab": {},
        "outputId": "74cb0444-713f-4906-9941-31c40663ca75"
      },
      "source": [
        "#previewing 'ranking' dataset\n",
        "ranking.head()"
      ],
      "execution_count": 0,
      "outputs": [
        {
          "output_type": "execute_result",
          "data": {
            "text/html": [
              "<div>\n",
              "<style scoped>\n",
              "    .dataframe tbody tr th:only-of-type {\n",
              "        vertical-align: middle;\n",
              "    }\n",
              "\n",
              "    .dataframe tbody tr th {\n",
              "        vertical-align: top;\n",
              "    }\n",
              "\n",
              "    .dataframe thead th {\n",
              "        text-align: right;\n",
              "    }\n",
              "</style>\n",
              "<table border=\"1\" class=\"dataframe\">\n",
              "  <thead>\n",
              "    <tr style=\"text-align: right;\">\n",
              "      <th></th>\n",
              "      <th>rank</th>\n",
              "      <th>country_full</th>\n",
              "      <th>country_abrv</th>\n",
              "      <th>total_points</th>\n",
              "      <th>previous_points</th>\n",
              "      <th>rank_change</th>\n",
              "      <th>cur_year_avg</th>\n",
              "      <th>cur_year_avg_weighted</th>\n",
              "      <th>last_year_avg</th>\n",
              "      <th>last_year_avg_weighted</th>\n",
              "      <th>two_year_ago_avg</th>\n",
              "      <th>two_year_ago_weighted</th>\n",
              "      <th>three_year_ago_avg</th>\n",
              "      <th>three_year_ago_weighted</th>\n",
              "      <th>confederation</th>\n",
              "      <th>rank_date</th>\n",
              "    </tr>\n",
              "  </thead>\n",
              "  <tbody>\n",
              "    <tr>\n",
              "      <td>0</td>\n",
              "      <td>1</td>\n",
              "      <td>Germany</td>\n",
              "      <td>GER</td>\n",
              "      <td>0.0</td>\n",
              "      <td>57</td>\n",
              "      <td>0</td>\n",
              "      <td>0.0</td>\n",
              "      <td>0.0</td>\n",
              "      <td>0.0</td>\n",
              "      <td>0.0</td>\n",
              "      <td>0.0</td>\n",
              "      <td>0.0</td>\n",
              "      <td>0.0</td>\n",
              "      <td>0.0</td>\n",
              "      <td>UEFA</td>\n",
              "      <td>1993-08-08</td>\n",
              "    </tr>\n",
              "    <tr>\n",
              "      <td>1</td>\n",
              "      <td>2</td>\n",
              "      <td>Italy</td>\n",
              "      <td>ITA</td>\n",
              "      <td>0.0</td>\n",
              "      <td>57</td>\n",
              "      <td>0</td>\n",
              "      <td>0.0</td>\n",
              "      <td>0.0</td>\n",
              "      <td>0.0</td>\n",
              "      <td>0.0</td>\n",
              "      <td>0.0</td>\n",
              "      <td>0.0</td>\n",
              "      <td>0.0</td>\n",
              "      <td>0.0</td>\n",
              "      <td>UEFA</td>\n",
              "      <td>1993-08-08</td>\n",
              "    </tr>\n",
              "    <tr>\n",
              "      <td>2</td>\n",
              "      <td>3</td>\n",
              "      <td>Switzerland</td>\n",
              "      <td>SUI</td>\n",
              "      <td>0.0</td>\n",
              "      <td>50</td>\n",
              "      <td>9</td>\n",
              "      <td>0.0</td>\n",
              "      <td>0.0</td>\n",
              "      <td>0.0</td>\n",
              "      <td>0.0</td>\n",
              "      <td>0.0</td>\n",
              "      <td>0.0</td>\n",
              "      <td>0.0</td>\n",
              "      <td>0.0</td>\n",
              "      <td>UEFA</td>\n",
              "      <td>1993-08-08</td>\n",
              "    </tr>\n",
              "    <tr>\n",
              "      <td>3</td>\n",
              "      <td>4</td>\n",
              "      <td>Sweden</td>\n",
              "      <td>SWE</td>\n",
              "      <td>0.0</td>\n",
              "      <td>55</td>\n",
              "      <td>0</td>\n",
              "      <td>0.0</td>\n",
              "      <td>0.0</td>\n",
              "      <td>0.0</td>\n",
              "      <td>0.0</td>\n",
              "      <td>0.0</td>\n",
              "      <td>0.0</td>\n",
              "      <td>0.0</td>\n",
              "      <td>0.0</td>\n",
              "      <td>UEFA</td>\n",
              "      <td>1993-08-08</td>\n",
              "    </tr>\n",
              "    <tr>\n",
              "      <td>4</td>\n",
              "      <td>5</td>\n",
              "      <td>Argentina</td>\n",
              "      <td>ARG</td>\n",
              "      <td>0.0</td>\n",
              "      <td>51</td>\n",
              "      <td>5</td>\n",
              "      <td>0.0</td>\n",
              "      <td>0.0</td>\n",
              "      <td>0.0</td>\n",
              "      <td>0.0</td>\n",
              "      <td>0.0</td>\n",
              "      <td>0.0</td>\n",
              "      <td>0.0</td>\n",
              "      <td>0.0</td>\n",
              "      <td>CONMEBOL</td>\n",
              "      <td>1993-08-08</td>\n",
              "    </tr>\n",
              "  </tbody>\n",
              "</table>\n",
              "</div>"
            ],
            "text/plain": [
              "   rank country_full country_abrv  total_points  previous_points  rank_change  \\\n",
              "0     1      Germany          GER           0.0               57            0   \n",
              "1     2        Italy          ITA           0.0               57            0   \n",
              "2     3  Switzerland          SUI           0.0               50            9   \n",
              "3     4       Sweden          SWE           0.0               55            0   \n",
              "4     5    Argentina          ARG           0.0               51            5   \n",
              "\n",
              "   cur_year_avg  cur_year_avg_weighted  last_year_avg  last_year_avg_weighted  \\\n",
              "0           0.0                    0.0            0.0                     0.0   \n",
              "1           0.0                    0.0            0.0                     0.0   \n",
              "2           0.0                    0.0            0.0                     0.0   \n",
              "3           0.0                    0.0            0.0                     0.0   \n",
              "4           0.0                    0.0            0.0                     0.0   \n",
              "\n",
              "   two_year_ago_avg  two_year_ago_weighted  three_year_ago_avg  \\\n",
              "0               0.0                    0.0                 0.0   \n",
              "1               0.0                    0.0                 0.0   \n",
              "2               0.0                    0.0                 0.0   \n",
              "3               0.0                    0.0                 0.0   \n",
              "4               0.0                    0.0                 0.0   \n",
              "\n",
              "   three_year_ago_weighted confederation   rank_date  \n",
              "0                      0.0          UEFA  1993-08-08  \n",
              "1                      0.0          UEFA  1993-08-08  \n",
              "2                      0.0          UEFA  1993-08-08  \n",
              "3                      0.0          UEFA  1993-08-08  \n",
              "4                      0.0      CONMEBOL  1993-08-08  "
            ]
          },
          "metadata": {
            "tags": []
          },
          "execution_count": 5
        }
      ]
    },
    {
      "cell_type": "code",
      "metadata": {
        "id": "Hy7at93CfpM4",
        "colab_type": "code",
        "colab": {}
      },
      "source": [
        "#Renaming column 'country columns' to acheive similarity before merging the dataset\n",
        "\n",
        "ranking = ranking.rename(columns = {'country_full':'country'})\n",
        "\n",
        "ranking = ranking.drop(columns = ['cur_year_avg', 'cur_year_avg_weighted', 'last_year_avg',\n",
        "       'last_year_avg_weighted', 'two_year_ago_avg', 'two_year_ago_weighted',\n",
        "       'three_year_ago_avg', 'three_year_ago_weighted', 'confederation','country_abrv','total_points','previous_points','rank_change','rank_date'])"
      ],
      "execution_count": 0,
      "outputs": []
    },
    {
      "cell_type": "markdown",
      "metadata": {
        "id": "HhyuQgs4fpM6",
        "colab_type": "text"
      },
      "source": [
        "merging allows us to get the home_team ranking and the away_team ranking"
      ]
    },
    {
      "cell_type": "code",
      "metadata": {
        "id": "iOwho_vafpM7",
        "colab_type": "code",
        "colab": {},
        "outputId": "c1845e8f-71c2-4920-f73c-fa624e81cc58"
      },
      "source": [
        "ranking.head()"
      ],
      "execution_count": 0,
      "outputs": [
        {
          "output_type": "execute_result",
          "data": {
            "text/html": [
              "<div>\n",
              "<style scoped>\n",
              "    .dataframe tbody tr th:only-of-type {\n",
              "        vertical-align: middle;\n",
              "    }\n",
              "\n",
              "    .dataframe tbody tr th {\n",
              "        vertical-align: top;\n",
              "    }\n",
              "\n",
              "    .dataframe thead th {\n",
              "        text-align: right;\n",
              "    }\n",
              "</style>\n",
              "<table border=\"1\" class=\"dataframe\">\n",
              "  <thead>\n",
              "    <tr style=\"text-align: right;\">\n",
              "      <th></th>\n",
              "      <th>rank</th>\n",
              "      <th>country</th>\n",
              "    </tr>\n",
              "  </thead>\n",
              "  <tbody>\n",
              "    <tr>\n",
              "      <td>0</td>\n",
              "      <td>1</td>\n",
              "      <td>Germany</td>\n",
              "    </tr>\n",
              "    <tr>\n",
              "      <td>1</td>\n",
              "      <td>2</td>\n",
              "      <td>Italy</td>\n",
              "    </tr>\n",
              "    <tr>\n",
              "      <td>2</td>\n",
              "      <td>3</td>\n",
              "      <td>Switzerland</td>\n",
              "    </tr>\n",
              "    <tr>\n",
              "      <td>3</td>\n",
              "      <td>4</td>\n",
              "      <td>Sweden</td>\n",
              "    </tr>\n",
              "    <tr>\n",
              "      <td>4</td>\n",
              "      <td>5</td>\n",
              "      <td>Argentina</td>\n",
              "    </tr>\n",
              "  </tbody>\n",
              "</table>\n",
              "</div>"
            ],
            "text/plain": [
              "   rank      country\n",
              "0     1      Germany\n",
              "1     2        Italy\n",
              "2     3  Switzerland\n",
              "3     4       Sweden\n",
              "4     5    Argentina"
            ]
          },
          "metadata": {
            "tags": []
          },
          "execution_count": 7
        }
      ]
    },
    {
      "cell_type": "code",
      "metadata": {
        "id": "N3zWpHs5fpM9",
        "colab_type": "code",
        "colab": {}
      },
      "source": [
        "results = results.drop(columns = ['date', 'city', 'country', 'neutral'])"
      ],
      "execution_count": 0,
      "outputs": []
    },
    {
      "cell_type": "code",
      "metadata": {
        "id": "mYfkkgvUfpM_",
        "colab_type": "code",
        "colab": {},
        "outputId": "ce0810c4-9305-4197-f5cb-64aa6bbb9e82"
      },
      "source": [
        "\n",
        "#merging datasets to get 'home_team' ranking\n",
        "\n",
        "ranking_home_team = ranking.rename(columns= {'rank': 'home_team raking', 'country':'home_team'})#renaming to allow for merging of datasets\n",
        "rrevised = pd.merge(results, ranking_home_team , on = 'home_team', how='left')\n",
        "rrevised.to_csv(r'C:\\Users\\Gideon Kipkorir\\Desktop\\colab\\Week 6 IP Datasets\\hmranking.csv')\n",
        "rrevised.head()"
      ],
      "execution_count": 0,
      "outputs": [
        {
          "output_type": "execute_result",
          "data": {
            "text/html": [
              "<div>\n",
              "<style scoped>\n",
              "    .dataframe tbody tr th:only-of-type {\n",
              "        vertical-align: middle;\n",
              "    }\n",
              "\n",
              "    .dataframe tbody tr th {\n",
              "        vertical-align: top;\n",
              "    }\n",
              "\n",
              "    .dataframe thead th {\n",
              "        text-align: right;\n",
              "    }\n",
              "</style>\n",
              "<table border=\"1\" class=\"dataframe\">\n",
              "  <thead>\n",
              "    <tr style=\"text-align: right;\">\n",
              "      <th></th>\n",
              "      <th>home_team</th>\n",
              "      <th>away_team</th>\n",
              "      <th>home_score</th>\n",
              "      <th>away_score</th>\n",
              "      <th>tournament</th>\n",
              "      <th>home_team raking</th>\n",
              "    </tr>\n",
              "  </thead>\n",
              "  <tbody>\n",
              "    <tr>\n",
              "      <td>0</td>\n",
              "      <td>Scotland</td>\n",
              "      <td>England</td>\n",
              "      <td>0</td>\n",
              "      <td>0</td>\n",
              "      <td>Friendly</td>\n",
              "      <td>30.0</td>\n",
              "    </tr>\n",
              "    <tr>\n",
              "      <td>1</td>\n",
              "      <td>Scotland</td>\n",
              "      <td>England</td>\n",
              "      <td>0</td>\n",
              "      <td>0</td>\n",
              "      <td>Friendly</td>\n",
              "      <td>28.0</td>\n",
              "    </tr>\n",
              "    <tr>\n",
              "      <td>2</td>\n",
              "      <td>Scotland</td>\n",
              "      <td>England</td>\n",
              "      <td>0</td>\n",
              "      <td>0</td>\n",
              "      <td>Friendly</td>\n",
              "      <td>29.0</td>\n",
              "    </tr>\n",
              "    <tr>\n",
              "      <td>3</td>\n",
              "      <td>Scotland</td>\n",
              "      <td>England</td>\n",
              "      <td>0</td>\n",
              "      <td>0</td>\n",
              "      <td>Friendly</td>\n",
              "      <td>25.0</td>\n",
              "    </tr>\n",
              "    <tr>\n",
              "      <td>4</td>\n",
              "      <td>Scotland</td>\n",
              "      <td>England</td>\n",
              "      <td>0</td>\n",
              "      <td>0</td>\n",
              "      <td>Friendly</td>\n",
              "      <td>24.0</td>\n",
              "    </tr>\n",
              "  </tbody>\n",
              "</table>\n",
              "</div>"
            ],
            "text/plain": [
              "  home_team away_team  home_score  away_score tournament  home_team raking\n",
              "0  Scotland   England           0           0   Friendly              30.0\n",
              "1  Scotland   England           0           0   Friendly              28.0\n",
              "2  Scotland   England           0           0   Friendly              29.0\n",
              "3  Scotland   England           0           0   Friendly              25.0\n",
              "4  Scotland   England           0           0   Friendly              24.0"
            ]
          },
          "metadata": {
            "tags": []
          },
          "execution_count": 36
        }
      ]
    },
    {
      "cell_type": "markdown",
      "metadata": {
        "id": "j1Ld7IH7fpNC",
        "colab_type": "text"
      },
      "source": [
        "***Due to memmory problems the dataset was merger externally as the procedure below failed on my pc***"
      ]
    },
    {
      "cell_type": "code",
      "metadata": {
        "id": "t2uHdg-TfpNC",
        "colab_type": "code",
        "colab": {},
        "outputId": "3c1f69cb-8f4d-408d-9eb8-35a07f2c14ff"
      },
      "source": [
        "#merging datasets to get 'home_team' ranking\n",
        "\n",
        "# ranking_away_team = ranking.rename(columns= {'rank': 'away_team raking', 'country':'away_team'})#renaming to allow for merging of datasets\n",
        "# both_ranking = pd.merge(rrevised, ranking_away_team , on = 'away_team', how='left')\n",
        "# due to memmory problems the dataset was merger externall as the above procedure failed on my pc)\n",
        "\n",
        "both_ranking = pd.read_csv(r'C:\\Users\\Gideon Kipkorir\\Desktop\\colab\\Week 6 IP Datasets\\both_ranking.csv', index_col = 0)\n",
        "both_ranking.head()\n"
      ],
      "execution_count": 0,
      "outputs": [
        {
          "output_type": "stream",
          "text": [
            "C:\\Users\\Gideon Kipkorir\\Anaconda3\\lib\\site-packages\\numpy\\lib\\arraysetops.py:569: FutureWarning: elementwise comparison failed; returning scalar instead, but in the future will perform elementwise comparison\n",
            "  mask |= (ar1 == a)\n"
          ],
          "name": "stderr"
        },
        {
          "output_type": "execute_result",
          "data": {
            "text/html": [
              "<div>\n",
              "<style scoped>\n",
              "    .dataframe tbody tr th:only-of-type {\n",
              "        vertical-align: middle;\n",
              "    }\n",
              "\n",
              "    .dataframe tbody tr th {\n",
              "        vertical-align: top;\n",
              "    }\n",
              "\n",
              "    .dataframe thead th {\n",
              "        text-align: right;\n",
              "    }\n",
              "</style>\n",
              "<table border=\"1\" class=\"dataframe\">\n",
              "  <thead>\n",
              "    <tr style=\"text-align: right;\">\n",
              "      <th></th>\n",
              "      <th>home_team</th>\n",
              "      <th>away_team</th>\n",
              "      <th>home_score</th>\n",
              "      <th>away_score</th>\n",
              "      <th>tournament</th>\n",
              "      <th>home_team raking</th>\n",
              "      <th>away_team raking</th>\n",
              "    </tr>\n",
              "  </thead>\n",
              "  <tbody>\n",
              "    <tr>\n",
              "      <td>0</td>\n",
              "      <td>Scotland</td>\n",
              "      <td>England</td>\n",
              "      <td>0</td>\n",
              "      <td>0</td>\n",
              "      <td>Friendly</td>\n",
              "      <td>30.0</td>\n",
              "      <td>11.0</td>\n",
              "    </tr>\n",
              "    <tr>\n",
              "      <td>1</td>\n",
              "      <td>Scotland</td>\n",
              "      <td>England</td>\n",
              "      <td>0</td>\n",
              "      <td>0</td>\n",
              "      <td>Friendly</td>\n",
              "      <td>28.0</td>\n",
              "      <td>5.0</td>\n",
              "    </tr>\n",
              "    <tr>\n",
              "      <td>2</td>\n",
              "      <td>Scotland</td>\n",
              "      <td>England</td>\n",
              "      <td>0</td>\n",
              "      <td>0</td>\n",
              "      <td>Friendly</td>\n",
              "      <td>29.0</td>\n",
              "      <td>10.0</td>\n",
              "    </tr>\n",
              "    <tr>\n",
              "      <td>3</td>\n",
              "      <td>Scotland</td>\n",
              "      <td>England</td>\n",
              "      <td>0</td>\n",
              "      <td>0</td>\n",
              "      <td>Friendly</td>\n",
              "      <td>25.0</td>\n",
              "      <td>8.0</td>\n",
              "    </tr>\n",
              "    <tr>\n",
              "      <td>4</td>\n",
              "      <td>Scotland</td>\n",
              "      <td>England</td>\n",
              "      <td>0</td>\n",
              "      <td>0</td>\n",
              "      <td>Friendly</td>\n",
              "      <td>24.0</td>\n",
              "      <td>11.0</td>\n",
              "    </tr>\n",
              "  </tbody>\n",
              "</table>\n",
              "</div>"
            ],
            "text/plain": [
              "  home_team away_team  home_score  away_score tournament  home_team raking  \\\n",
              "0  Scotland   England           0           0   Friendly              30.0   \n",
              "1  Scotland   England           0           0   Friendly              28.0   \n",
              "2  Scotland   England           0           0   Friendly              29.0   \n",
              "3  Scotland   England           0           0   Friendly              25.0   \n",
              "4  Scotland   England           0           0   Friendly              24.0   \n",
              "\n",
              "   away_team raking  \n",
              "0              11.0  \n",
              "1               5.0  \n",
              "2              10.0  \n",
              "3               8.0  \n",
              "4              11.0  "
            ]
          },
          "metadata": {
            "tags": []
          },
          "execution_count": 37
        }
      ]
    },
    {
      "cell_type": "code",
      "metadata": {
        "id": "tukbh5SufpNF",
        "colab_type": "code",
        "colab": {},
        "outputId": "87048f08-85ea-4586-b514-4c0b0dac2cda"
      },
      "source": [
        "#Understanding our data types in our dataset\n",
        "both_ranking.info()"
      ],
      "execution_count": 0,
      "outputs": [
        {
          "output_type": "stream",
          "text": [
            "<class 'pandas.core.frame.DataFrame'>\n",
            "Int64Index: 1048575 entries, 0 to 1048574\n",
            "Data columns (total 7 columns):\n",
            "home_team           1048575 non-null object\n",
            "away_team           1048575 non-null object\n",
            "home_score          1048575 non-null int64\n",
            "away_score          1048575 non-null int64\n",
            "tournament          1048575 non-null object\n",
            "home_team raking    1048374 non-null float64\n",
            "away_team raking    1048316 non-null float64\n",
            "dtypes: float64(2), int64(2), object(3)\n",
            "memory usage: 64.0+ MB\n"
          ],
          "name": "stdout"
        }
      ]
    },
    {
      "cell_type": "code",
      "metadata": {
        "id": "jLDFKmB1fpNH",
        "colab_type": "code",
        "colab": {},
        "outputId": "027c7b7c-7ff1-47bb-b34b-6048ca636899"
      },
      "source": [
        "#converting categorical subsets into intergers through label encoding\n",
        "\n",
        "from sklearn import preprocessing\n",
        "le = preprocessing.LabelEncoder()\n",
        "# both_ranking['home_team'] = le.fit_transform(both_ranking['home_team'])\n",
        "# both_ranking['away_team']=le.fit_transform(both_ranking['away_team'])\n",
        "both_ranking['tournament']= le.fit_transform(both_ranking['tournament'])\n",
        "both_ranking.head()\n"
      ],
      "execution_count": 0,
      "outputs": [
        {
          "output_type": "execute_result",
          "data": {
            "text/html": [
              "<div>\n",
              "<style scoped>\n",
              "    .dataframe tbody tr th:only-of-type {\n",
              "        vertical-align: middle;\n",
              "    }\n",
              "\n",
              "    .dataframe tbody tr th {\n",
              "        vertical-align: top;\n",
              "    }\n",
              "\n",
              "    .dataframe thead th {\n",
              "        text-align: right;\n",
              "    }\n",
              "</style>\n",
              "<table border=\"1\" class=\"dataframe\">\n",
              "  <thead>\n",
              "    <tr style=\"text-align: right;\">\n",
              "      <th></th>\n",
              "      <th>home_team</th>\n",
              "      <th>away_team</th>\n",
              "      <th>home_score</th>\n",
              "      <th>away_score</th>\n",
              "      <th>tournament</th>\n",
              "      <th>home_team raking</th>\n",
              "      <th>away_team raking</th>\n",
              "    </tr>\n",
              "  </thead>\n",
              "  <tbody>\n",
              "    <tr>\n",
              "      <td>0</td>\n",
              "      <td>Scotland</td>\n",
              "      <td>England</td>\n",
              "      <td>0</td>\n",
              "      <td>0</td>\n",
              "      <td>18</td>\n",
              "      <td>30.0</td>\n",
              "      <td>11.0</td>\n",
              "    </tr>\n",
              "    <tr>\n",
              "      <td>1</td>\n",
              "      <td>Scotland</td>\n",
              "      <td>England</td>\n",
              "      <td>0</td>\n",
              "      <td>0</td>\n",
              "      <td>18</td>\n",
              "      <td>28.0</td>\n",
              "      <td>5.0</td>\n",
              "    </tr>\n",
              "    <tr>\n",
              "      <td>2</td>\n",
              "      <td>Scotland</td>\n",
              "      <td>England</td>\n",
              "      <td>0</td>\n",
              "      <td>0</td>\n",
              "      <td>18</td>\n",
              "      <td>29.0</td>\n",
              "      <td>10.0</td>\n",
              "    </tr>\n",
              "    <tr>\n",
              "      <td>3</td>\n",
              "      <td>Scotland</td>\n",
              "      <td>England</td>\n",
              "      <td>0</td>\n",
              "      <td>0</td>\n",
              "      <td>18</td>\n",
              "      <td>25.0</td>\n",
              "      <td>8.0</td>\n",
              "    </tr>\n",
              "    <tr>\n",
              "      <td>4</td>\n",
              "      <td>Scotland</td>\n",
              "      <td>England</td>\n",
              "      <td>0</td>\n",
              "      <td>0</td>\n",
              "      <td>18</td>\n",
              "      <td>24.0</td>\n",
              "      <td>11.0</td>\n",
              "    </tr>\n",
              "  </tbody>\n",
              "</table>\n",
              "</div>"
            ],
            "text/plain": [
              "  home_team away_team  home_score  away_score  tournament  home_team raking  \\\n",
              "0  Scotland   England           0           0          18              30.0   \n",
              "1  Scotland   England           0           0          18              28.0   \n",
              "2  Scotland   England           0           0          18              29.0   \n",
              "3  Scotland   England           0           0          18              25.0   \n",
              "4  Scotland   England           0           0          18              24.0   \n",
              "\n",
              "   away_team raking  \n",
              "0              11.0  \n",
              "1               5.0  \n",
              "2              10.0  \n",
              "3               8.0  \n",
              "4              11.0  "
            ]
          },
          "metadata": {
            "tags": []
          },
          "execution_count": 39
        }
      ]
    },
    {
      "cell_type": "code",
      "metadata": {
        "id": "52r2J_uhfpNK",
        "colab_type": "code",
        "colab": {},
        "outputId": "70d72a6a-100f-4080-98e8-59df07139c19"
      },
      "source": [
        "#checking for null values\n",
        "both_ranking.isnull().sum()"
      ],
      "execution_count": 0,
      "outputs": [
        {
          "output_type": "execute_result",
          "data": {
            "text/plain": [
              "home_team             0\n",
              "away_team             0\n",
              "home_score            0\n",
              "away_score            0\n",
              "tournament            0\n",
              "home_team raking    201\n",
              "away_team raking    259\n",
              "dtype: int64"
            ]
          },
          "metadata": {
            "tags": []
          },
          "execution_count": 40
        }
      ]
    },
    {
      "cell_type": "code",
      "metadata": {
        "id": "eUu4rE7JfpNN",
        "colab_type": "code",
        "colab": {}
      },
      "source": [
        "#deleting null values\n",
        "both_ranking = both_ranking.dropna()"
      ],
      "execution_count": 0,
      "outputs": []
    },
    {
      "cell_type": "code",
      "metadata": {
        "id": "fw59irbqfpNQ",
        "colab_type": "code",
        "colab": {},
        "outputId": "1f8fd225-2ad3-4a37-ad09-49af6cd32603"
      },
      "source": [
        "both_ranking.isnull().sum()"
      ],
      "execution_count": 0,
      "outputs": [
        {
          "output_type": "execute_result",
          "data": {
            "text/plain": [
              "home_team           0\n",
              "away_team           0\n",
              "home_score          0\n",
              "away_score          0\n",
              "tournament          0\n",
              "home_team raking    0\n",
              "away_team raking    0\n",
              "dtype: int64"
            ]
          },
          "metadata": {
            "tags": []
          },
          "execution_count": 42
        }
      ]
    },
    {
      "cell_type": "markdown",
      "metadata": {
        "id": "BCfYXezDfpNS",
        "colab_type": "text"
      },
      "source": [
        "# Approach 1: Polynomial approach\n",
        "## Model 1: Predict how many goals the home team scores."
      ]
    },
    {
      "cell_type": "code",
      "metadata": {
        "id": "NSuFX2UrfpNS",
        "colab_type": "code",
        "colab": {}
      },
      "source": [
        "#diving our dataset into dependent and inpendent variables\n",
        "\n",
        "x = both_ranking[['home_team raking','away_team raking', 'tournament' ]]\n",
        "y = both_ranking['home_score']"
      ],
      "execution_count": 0,
      "outputs": []
    },
    {
      "cell_type": "code",
      "metadata": {
        "id": "N3TYx-oWfpNV",
        "colab_type": "code",
        "colab": {},
        "outputId": "a963f6f3-c348-4b08-8ab5-f467c25e3afa"
      },
      "source": [
        "#getting hints of multicolinearity using correlation test\n",
        "import seaborn as snb\n",
        "snb.heatmap(x.corr(), annot= True)\n",
        "correlations = x.corr()\n",
        "correlations"
      ],
      "execution_count": 0,
      "outputs": [
        {
          "output_type": "execute_result",
          "data": {
            "text/html": [
              "<div>\n",
              "<style scoped>\n",
              "    .dataframe tbody tr th:only-of-type {\n",
              "        vertical-align: middle;\n",
              "    }\n",
              "\n",
              "    .dataframe tbody tr th {\n",
              "        vertical-align: top;\n",
              "    }\n",
              "\n",
              "    .dataframe thead th {\n",
              "        text-align: right;\n",
              "    }\n",
              "</style>\n",
              "<table border=\"1\" class=\"dataframe\">\n",
              "  <thead>\n",
              "    <tr style=\"text-align: right;\">\n",
              "      <th></th>\n",
              "      <th>home_team raking</th>\n",
              "      <th>away_team raking</th>\n",
              "      <th>tournament</th>\n",
              "    </tr>\n",
              "  </thead>\n",
              "  <tbody>\n",
              "    <tr>\n",
              "      <td>home_team raking</td>\n",
              "      <td>1.000000</td>\n",
              "      <td>0.034272</td>\n",
              "      <td>0.008650</td>\n",
              "    </tr>\n",
              "    <tr>\n",
              "      <td>away_team raking</td>\n",
              "      <td>0.034272</td>\n",
              "      <td>1.000000</td>\n",
              "      <td>0.003639</td>\n",
              "    </tr>\n",
              "    <tr>\n",
              "      <td>tournament</td>\n",
              "      <td>0.008650</td>\n",
              "      <td>0.003639</td>\n",
              "      <td>1.000000</td>\n",
              "    </tr>\n",
              "  </tbody>\n",
              "</table>\n",
              "</div>"
            ],
            "text/plain": [
              "                  home_team raking  away_team raking  tournament\n",
              "home_team raking          1.000000          0.034272    0.008650\n",
              "away_team raking          0.034272          1.000000    0.003639\n",
              "tournament                0.008650          0.003639    1.000000"
            ]
          },
          "metadata": {
            "tags": []
          },
          "execution_count": 44
        },
        {
          "output_type": "display_data",
          "data": {
            "image/png": "[encoded data removed]",
            "text/plain": [
              "<Figure size 432x288 with 2 Axes>"
            ]
          },
          "metadata": {
            "tags": [],
            "needs_background": "light"
          }
        }
      ]
    },
    {
      "cell_type": "markdown",
      "metadata": {
        "id": "WOMSiOILfpNY",
        "colab_type": "text"
      },
      "source": [
        "there is no correlation between indpendent variables thus fullfils the requirements for linear regression."
      ]
    },
    {
      "cell_type": "code",
      "metadata": {
        "id": "hyXR_5z4fpNY",
        "colab_type": "code",
        "colab": {},
        "outputId": "1e0efd40-0106-4a2e-cd61-d747fa0f3e16"
      },
      "source": [
        "#test for multicollinearity using variance inflation factor\n",
        "\n",
        "pd.DataFrame(np.linalg.inv(correlations.values), index = correlations.index, columns=correlations.columns)"
      ],
      "execution_count": 0,
      "outputs": [
        {
          "output_type": "execute_result",
          "data": {
            "text/html": [
              "<div>\n",
              "<style scoped>\n",
              "    .dataframe tbody tr th:only-of-type {\n",
              "        vertical-align: middle;\n",
              "    }\n",
              "\n",
              "    .dataframe tbody tr th {\n",
              "        vertical-align: top;\n",
              "    }\n",
              "\n",
              "    .dataframe thead th {\n",
              "        text-align: right;\n",
              "    }\n",
              "</style>\n",
              "<table border=\"1\" class=\"dataframe\">\n",
              "  <thead>\n",
              "    <tr style=\"text-align: right;\">\n",
              "      <th></th>\n",
              "      <th>home_team raking</th>\n",
              "      <th>away_team raking</th>\n",
              "      <th>tournament</th>\n",
              "    </tr>\n",
              "  </thead>\n",
              "  <tbody>\n",
              "    <tr>\n",
              "      <td>home_team raking</td>\n",
              "      <td>1.001249</td>\n",
              "      <td>-0.034284</td>\n",
              "      <td>-0.008536</td>\n",
              "    </tr>\n",
              "    <tr>\n",
              "      <td>away_team raking</td>\n",
              "      <td>-0.034284</td>\n",
              "      <td>1.001187</td>\n",
              "      <td>-0.003347</td>\n",
              "    </tr>\n",
              "    <tr>\n",
              "      <td>tournament</td>\n",
              "      <td>-0.008536</td>\n",
              "      <td>-0.003347</td>\n",
              "      <td>1.000086</td>\n",
              "    </tr>\n",
              "  </tbody>\n",
              "</table>\n",
              "</div>"
            ],
            "text/plain": [
              "                  home_team raking  away_team raking  tournament\n",
              "home_team raking          1.001249         -0.034284   -0.008536\n",
              "away_team raking         -0.034284          1.001187   -0.003347\n",
              "tournament               -0.008536         -0.003347    1.000086"
            ]
          },
          "metadata": {
            "tags": []
          },
          "execution_count": 45
        }
      ]
    },
    {
      "cell_type": "markdown",
      "metadata": {
        "id": "QeGziw1LfpNb",
        "colab_type": "text"
      },
      "source": [
        "**vif** reveals a score of less than 5 whcih could suggest possible multicolinearity in our indpendent variables.However, since we are more focussed in making prediction and not the contribution of each feature to the dependent variable, we will ignore the multicolinearity.\n"
      ]
    },
    {
      "cell_type": "code",
      "metadata": {
        "id": "jgIA-iyufpNb",
        "colab_type": "code",
        "colab": {}
      },
      "source": [
        "#spliting our dataset into train and test\n",
        "\n",
        "from sklearn.model_selection import train_test_split\n",
        "x_train,x_test,y_train,y_test = train_test_split(x,y, test_size = 0.6, random_state =0)"
      ],
      "execution_count": 0,
      "outputs": []
    },
    {
      "cell_type": "markdown",
      "metadata": {
        "id": "p3TsiV_WfpNd",
        "colab_type": "text"
      },
      "source": [
        "this is for learning purpose, a huge dataset for training overwhelms my pc thus ,  i split the dataset into almost equal subsets "
      ]
    },
    {
      "cell_type": "code",
      "metadata": {
        "id": "X4YcQ-gOfpNg",
        "colab_type": "code",
        "colab": {},
        "outputId": "58c65d7c-d52f-4f0a-872e-d231437cf1ae"
      },
      "source": [
        "#Fiting the polynomial Regression into the dataset\n",
        "\n",
        "from sklearn.preprocessing import PolynomialFeatures\n",
        "from sklearn.linear_model import LinearRegression\n",
        "LinReg = LinearRegression()\n",
        "#transforming features\n",
        "\n",
        "poly_reg = PolynomialFeatures(degree = 4)\n",
        "xp_train = poly_reg.fit_transform(x_train)\n",
        "xp_test  = poly_reg.fit_transform(x_test)\n",
        "LinReg.fit(xp_train, y_train)\n"
      ],
      "execution_count": 0,
      "outputs": [
        {
          "output_type": "execute_result",
          "data": {
            "text/plain": [
              "LinearRegression(copy_X=True, fit_intercept=True, n_jobs=None, normalize=False)"
            ]
          },
          "metadata": {
            "tags": []
          },
          "execution_count": 47
        }
      ]
    },
    {
      "cell_type": "markdown",
      "metadata": {
        "id": "3mbQIhqZfpNk",
        "colab_type": "text"
      },
      "source": [
        "We can improve the accuracy of our model by adjusting the degree"
      ]
    },
    {
      "cell_type": "code",
      "metadata": {
        "id": "ZGubjXZKfpNm",
        "colab_type": "code",
        "colab": {},
        "outputId": "2ef12aed-4bce-470e-83cf-5ab9589ea4c5"
      },
      "source": [
        "#predicting with the model\n",
        "\n",
        "from sklearn import metrics\n",
        "y_pred = LinReg.predict(xp_test)\n",
        "rmse_value =  np.sqrt(metrics.mean_squared_error(y_test, y_pred))\n",
        "print(\"root mean square  error:\"+str(rmse_value))"
      ],
      "execution_count": 0,
      "outputs": [
        {
          "output_type": "stream",
          "text": [
            "root mean square  error:2.0411494401430503\n"
          ],
          "name": "stdout"
        }
      ]
    },
    {
      "cell_type": "code",
      "metadata": {
        "id": "riVAlSs2fpNp",
        "colab_type": "code",
        "colab": {},
        "outputId": "6818fc69-6fa2-443a-fbbe-e08ea8fcaaf6"
      },
      "source": [
        "#residual plots\n",
        "\n",
        "residuals =np.subtract(y_pred, y_test)\n",
        "pd.DataFrame(residuals).describe()\n"
      ],
      "execution_count": 0,
      "outputs": [
        {
          "output_type": "execute_result",
          "data": {
            "text/html": [
              "<div>\n",
              "<style scoped>\n",
              "    .dataframe tbody tr th:only-of-type {\n",
              "        vertical-align: middle;\n",
              "    }\n",
              "\n",
              "    .dataframe tbody tr th {\n",
              "        vertical-align: top;\n",
              "    }\n",
              "\n",
              "    .dataframe thead th {\n",
              "        text-align: right;\n",
              "    }\n",
              "</style>\n",
              "<table border=\"1\" class=\"dataframe\">\n",
              "  <thead>\n",
              "    <tr style=\"text-align: right;\">\n",
              "      <th></th>\n",
              "      <th>home_score</th>\n",
              "    </tr>\n",
              "  </thead>\n",
              "  <tbody>\n",
              "    <tr>\n",
              "      <td>count</td>\n",
              "      <td>628869.000000</td>\n",
              "    </tr>\n",
              "    <tr>\n",
              "      <td>mean</td>\n",
              "      <td>-0.000947</td>\n",
              "    </tr>\n",
              "    <tr>\n",
              "      <td>std</td>\n",
              "      <td>2.041151</td>\n",
              "    </tr>\n",
              "    <tr>\n",
              "      <td>min</td>\n",
              "      <td>-13.105468</td>\n",
              "    </tr>\n",
              "    <tr>\n",
              "      <td>25%</td>\n",
              "      <td>-0.783304</td>\n",
              "    </tr>\n",
              "    <tr>\n",
              "      <td>50%</td>\n",
              "      <td>0.428909</td>\n",
              "    </tr>\n",
              "    <tr>\n",
              "      <td>75%</td>\n",
              "      <td>1.461908</td>\n",
              "    </tr>\n",
              "    <tr>\n",
              "      <td>max</td>\n",
              "      <td>3.278020</td>\n",
              "    </tr>\n",
              "  </tbody>\n",
              "</table>\n",
              "</div>"
            ],
            "text/plain": [
              "          home_score\n",
              "count  628869.000000\n",
              "mean       -0.000947\n",
              "std         2.041151\n",
              "min       -13.105468\n",
              "25%        -0.783304\n",
              "50%         0.428909\n",
              "75%         1.461908\n",
              "max         3.278020"
            ]
          },
          "metadata": {
            "tags": []
          },
          "execution_count": 51
        }
      ]
    },
    {
      "cell_type": "code",
      "metadata": {
        "id": "oLrMn9z_fpNr",
        "colab_type": "code",
        "colab": {},
        "outputId": "13303967-157e-4cd9-828b-24d82a058437"
      },
      "source": [
        "print(residuals.mean())"
      ],
      "execution_count": 0,
      "outputs": [
        {
          "output_type": "stream",
          "text": [
            "-0.0009466738373710572\n"
          ],
          "name": "stdout"
        }
      ]
    },
    {
      "cell_type": "code",
      "metadata": {
        "id": "J-YC8NHCfpNt",
        "colab_type": "code",
        "colab": {},
        "outputId": "d3efd7c8-064e-493d-8a89-a2f09b6bae62"
      },
      "source": [
        "import matplotlib.pyplot as plt\n",
        "plt.scatter(y_pred,residuals, color = 'green' )\n",
        "plt.axhline(y= residuals.mean(), color='red', linewidth=1)\n",
        "plt.ylabel('residual')\n",
        "plt.xlabel('fitted values')\n"
      ],
      "execution_count": 0,
      "outputs": [
        {
          "output_type": "execute_result",
          "data": {
            "text/plain": [
              "Text(0.5, 0, 'fitted values')"
            ]
          },
          "metadata": {
            "tags": []
          },
          "execution_count": 53
        },
        {
          "output_type": "display_data",
          "data": {
            "image/png": "[encoded data removed]",
            "text/plain": [
              "<Figure size 432x288 with 1 Axes>"
            ]
          },
          "metadata": {
            "tags": [],
            "needs_background": "light"
          }
        }
      ]
    },
    {
      "cell_type": "markdown",
      "metadata": {
        "id": "EEwq0w7vfpNw",
        "colab_type": "text"
      },
      "source": [
        "our minimum seems to be a little bit  distant from the mean indicating possible presence of outliersn while the maximum value  is fairly within range.Nevertheless, our mean is close to 0, indicating that we are fairly correctly."
      ]
    },
    {
      "cell_type": "code",
      "metadata": {
        "id": "rkVQf4hJfpNx",
        "colab_type": "code",
        "colab": {},
        "outputId": "8547882c-ad64-4311-d83b-d7c95c76b74b"
      },
      "source": [
        "import scipy as sp\n",
        "\n",
        "test_result, p_value = sp.stats.bartlett(y_pred, residuals)\n",
        "degree_of_freedom = len(y_pred)-1\n",
        "probability = 1 - p_value\n",
        "\n",
        "critical_value = sp.stats.chi2.ppf(probability, degree_of_freedom)\n",
        "print(critical_value)\n",
        "\n",
        "if (test_result > critical_value):\n",
        "  print('the variances are unequal, and the model should be reassessed')\n",
        "else:\n",
        "  print('the variances are homogeneous!')\n"
      ],
      "execution_count": 0,
      "outputs": [
        {
          "output_type": "stream",
          "text": [
            "inf\n",
            "the variances are homogeneous!\n"
          ],
          "name": "stdout"
        }
      ]
    },
    {
      "cell_type": "markdown",
      "metadata": {
        "id": "cPL10Y35fpNz",
        "colab_type": "text"
      },
      "source": [
        "## cross validation"
      ]
    },
    {
      "cell_type": "code",
      "metadata": {
        "id": "AJaGrUZofpNz",
        "colab_type": "code",
        "colab": {},
        "outputId": "51a983bc-d13c-435a-ff5b-0c253c8ffb65"
      },
      "source": [
        "from sklearn.model_selection import KFold\n",
        "from sklearn import metrics\n",
        "\n",
        "folds  = KFold(n_splits = 5)\n",
        "RMSES = []\n",
        "count = 1\n",
        "print('we are using ' +str(folds.get_n_splits(x)) + ' folds')\n",
        "\n",
        "for train_index, test_index in folds.split(x):\n",
        "  print('\\nTraining model ' + str(count))\n",
        "x_train, x_test = x[train_index], x[train_index]\n",
        "y_train, y_train = y[train_index], y[train_index]\n",
        "\n",
        "\n",
        "#fiting the model to our dataset\n",
        "\n",
        "X_train = poly_reg.fit_transform(x_train)\n",
        "X_test = poly_reg.fit_transform(x_test)\n",
        "\n",
        "LinReg.fit(X_train, y_train)\n",
        "\n",
        "#using the model for prediction\n",
        "\n",
        "y_pred =LinReg.predict(X_test)\n",
        "rsme_value = np.substract(y_pred, y_test)\n",
        "RMSES.append(rsme_value)\n",
        "print('Model ' + str(count) + ' Root Mean Squared Error:',rmse_value)\n",
        "count = count + 1\n",
        "\n"
      ],
      "execution_count": 0,
      "outputs": [
        {
          "output_type": "stream",
          "text": [
            "we are using 5 folds\n",
            "\n",
            "Training model 1\n",
            "\n",
            "Training model 1\n",
            "\n",
            "Training model 1\n",
            "\n",
            "Training model 1\n",
            "\n",
            "Training model 1\n"
          ],
          "name": "stdout"
        },
        {
          "output_type": "error",
          "ename": "KeyError",
          "evalue": "\"None of [Int64Index([     0,      1,      2,      3,      4,      5,      6,      7,\\n                 8,      9,\\n            ...\\n            838482, 838483, 838484, 838485, 838486, 838487, 838488, 838489,\\n            838490, 838491],\\n           dtype='int64', length=838492)] are in the [columns]\"",
          "traceback": [
            "\u001b[1;31m---------------------------------------------------------------------------\u001b[0m",
            "\u001b[1;31mKeyError\u001b[0m                                  Traceback (most recent call last)",
            "\u001b[1;32m<ipython-input-55-66d9423d3731>\u001b[0m in \u001b[0;36m<module>\u001b[1;34m\u001b[0m\n\u001b[0;32m      9\u001b[0m \u001b[1;32mfor\u001b[0m \u001b[0mtrain_index\u001b[0m\u001b[1;33m,\u001b[0m \u001b[0mtest_index\u001b[0m \u001b[1;32min\u001b[0m \u001b[0mfolds\u001b[0m\u001b[1;33m.\u001b[0m\u001b[0msplit\u001b[0m\u001b[1;33m(\u001b[0m\u001b[0mx\u001b[0m\u001b[1;33m)\u001b[0m\u001b[1;33m:\u001b[0m\u001b[1;33m\u001b[0m\u001b[1;33m\u001b[0m\u001b[0m\n\u001b[0;32m     10\u001b[0m   \u001b[0mprint\u001b[0m\u001b[1;33m(\u001b[0m\u001b[1;34m'\\nTraining model '\u001b[0m \u001b[1;33m+\u001b[0m \u001b[0mstr\u001b[0m\u001b[1;33m(\u001b[0m\u001b[0mcount\u001b[0m\u001b[1;33m)\u001b[0m\u001b[1;33m)\u001b[0m\u001b[1;33m\u001b[0m\u001b[1;33m\u001b[0m\u001b[0m\n\u001b[1;32m---> 11\u001b[1;33m \u001b[0mx_train\u001b[0m\u001b[1;33m,\u001b[0m \u001b[0mx_test\u001b[0m \u001b[1;33m=\u001b[0m \u001b[0mx\u001b[0m\u001b[1;33m[\u001b[0m\u001b[0mtrain_index\u001b[0m\u001b[1;33m]\u001b[0m\u001b[1;33m,\u001b[0m \u001b[0mx\u001b[0m\u001b[1;33m[\u001b[0m\u001b[0mtrain_index\u001b[0m\u001b[1;33m]\u001b[0m\u001b[1;33m\u001b[0m\u001b[1;33m\u001b[0m\u001b[0m\n\u001b[0m\u001b[0;32m     12\u001b[0m \u001b[0my_train\u001b[0m\u001b[1;33m,\u001b[0m \u001b[0my_train\u001b[0m \u001b[1;33m=\u001b[0m \u001b[0my\u001b[0m\u001b[1;33m[\u001b[0m\u001b[0mtrain_index\u001b[0m\u001b[1;33m]\u001b[0m\u001b[1;33m,\u001b[0m \u001b[0my\u001b[0m\u001b[1;33m[\u001b[0m\u001b[0mtrain_index\u001b[0m\u001b[1;33m]\u001b[0m\u001b[1;33m\u001b[0m\u001b[1;33m\u001b[0m\u001b[0m\n\u001b[0;32m     13\u001b[0m \u001b[1;33m\u001b[0m\u001b[0m\n",
            "\u001b[1;32m~\\Anaconda3\\lib\\site-packages\\pandas\\core\\frame.py\u001b[0m in \u001b[0;36m__getitem__\u001b[1;34m(self, key)\u001b[0m\n\u001b[0;32m   2984\u001b[0m             \u001b[1;32mif\u001b[0m \u001b[0mis_iterator\u001b[0m\u001b[1;33m(\u001b[0m\u001b[0mkey\u001b[0m\u001b[1;33m)\u001b[0m\u001b[1;33m:\u001b[0m\u001b[1;33m\u001b[0m\u001b[1;33m\u001b[0m\u001b[0m\n\u001b[0;32m   2985\u001b[0m                 \u001b[0mkey\u001b[0m \u001b[1;33m=\u001b[0m \u001b[0mlist\u001b[0m\u001b[1;33m(\u001b[0m\u001b[0mkey\u001b[0m\u001b[1;33m)\u001b[0m\u001b[1;33m\u001b[0m\u001b[1;33m\u001b[0m\u001b[0m\n\u001b[1;32m-> 2986\u001b[1;33m             \u001b[0mindexer\u001b[0m \u001b[1;33m=\u001b[0m \u001b[0mself\u001b[0m\u001b[1;33m.\u001b[0m\u001b[0mloc\u001b[0m\u001b[1;33m.\u001b[0m\u001b[0m_convert_to_indexer\u001b[0m\u001b[1;33m(\u001b[0m\u001b[0mkey\u001b[0m\u001b[1;33m,\u001b[0m \u001b[0maxis\u001b[0m\u001b[1;33m=\u001b[0m\u001b[1;36m1\u001b[0m\u001b[1;33m,\u001b[0m \u001b[0mraise_missing\u001b[0m\u001b[1;33m=\u001b[0m\u001b[1;32mTrue\u001b[0m\u001b[1;33m)\u001b[0m\u001b[1;33m\u001b[0m\u001b[1;33m\u001b[0m\u001b[0m\n\u001b[0m\u001b[0;32m   2987\u001b[0m \u001b[1;33m\u001b[0m\u001b[0m\n\u001b[0;32m   2988\u001b[0m         \u001b[1;31m# take() does not accept boolean indexers\u001b[0m\u001b[1;33m\u001b[0m\u001b[1;33m\u001b[0m\u001b[1;33m\u001b[0m\u001b[0m\n",
            "\u001b[1;32m~\\Anaconda3\\lib\\site-packages\\pandas\\core\\indexing.py\u001b[0m in \u001b[0;36m_convert_to_indexer\u001b[1;34m(self, obj, axis, is_setter, raise_missing)\u001b[0m\n\u001b[0;32m   1283\u001b[0m                 \u001b[1;31m# When setting, missing keys are not allowed, even with .loc:\u001b[0m\u001b[1;33m\u001b[0m\u001b[1;33m\u001b[0m\u001b[1;33m\u001b[0m\u001b[0m\n\u001b[0;32m   1284\u001b[0m                 \u001b[0mkwargs\u001b[0m \u001b[1;33m=\u001b[0m \u001b[1;33m{\u001b[0m\u001b[1;34m\"raise_missing\"\u001b[0m\u001b[1;33m:\u001b[0m \u001b[1;32mTrue\u001b[0m \u001b[1;32mif\u001b[0m \u001b[0mis_setter\u001b[0m \u001b[1;32melse\u001b[0m \u001b[0mraise_missing\u001b[0m\u001b[1;33m}\u001b[0m\u001b[1;33m\u001b[0m\u001b[1;33m\u001b[0m\u001b[0m\n\u001b[1;32m-> 1285\u001b[1;33m                 \u001b[1;32mreturn\u001b[0m \u001b[0mself\u001b[0m\u001b[1;33m.\u001b[0m\u001b[0m_get_listlike_indexer\u001b[0m\u001b[1;33m(\u001b[0m\u001b[0mobj\u001b[0m\u001b[1;33m,\u001b[0m \u001b[0maxis\u001b[0m\u001b[1;33m,\u001b[0m \u001b[1;33m**\u001b[0m\u001b[0mkwargs\u001b[0m\u001b[1;33m)\u001b[0m\u001b[1;33m[\u001b[0m\u001b[1;36m1\u001b[0m\u001b[1;33m]\u001b[0m\u001b[1;33m\u001b[0m\u001b[1;33m\u001b[0m\u001b[0m\n\u001b[0m\u001b[0;32m   1286\u001b[0m         \u001b[1;32melse\u001b[0m\u001b[1;33m:\u001b[0m\u001b[1;33m\u001b[0m\u001b[1;33m\u001b[0m\u001b[0m\n\u001b[0;32m   1287\u001b[0m             \u001b[1;32mtry\u001b[0m\u001b[1;33m:\u001b[0m\u001b[1;33m\u001b[0m\u001b[1;33m\u001b[0m\u001b[0m\n",
            "\u001b[1;32m~\\Anaconda3\\lib\\site-packages\\pandas\\core\\indexing.py\u001b[0m in \u001b[0;36m_get_listlike_indexer\u001b[1;34m(self, key, axis, raise_missing)\u001b[0m\n\u001b[0;32m   1090\u001b[0m \u001b[1;33m\u001b[0m\u001b[0m\n\u001b[0;32m   1091\u001b[0m         self._validate_read_indexer(\n\u001b[1;32m-> 1092\u001b[1;33m             \u001b[0mkeyarr\u001b[0m\u001b[1;33m,\u001b[0m \u001b[0mindexer\u001b[0m\u001b[1;33m,\u001b[0m \u001b[0mo\u001b[0m\u001b[1;33m.\u001b[0m\u001b[0m_get_axis_number\u001b[0m\u001b[1;33m(\u001b[0m\u001b[0maxis\u001b[0m\u001b[1;33m)\u001b[0m\u001b[1;33m,\u001b[0m \u001b[0mraise_missing\u001b[0m\u001b[1;33m=\u001b[0m\u001b[0mraise_missing\u001b[0m\u001b[1;33m\u001b[0m\u001b[1;33m\u001b[0m\u001b[0m\n\u001b[0m\u001b[0;32m   1093\u001b[0m         )\n\u001b[0;32m   1094\u001b[0m         \u001b[1;32mreturn\u001b[0m \u001b[0mkeyarr\u001b[0m\u001b[1;33m,\u001b[0m \u001b[0mindexer\u001b[0m\u001b[1;33m\u001b[0m\u001b[1;33m\u001b[0m\u001b[0m\n",
            "\u001b[1;32m~\\Anaconda3\\lib\\site-packages\\pandas\\core\\indexing.py\u001b[0m in \u001b[0;36m_validate_read_indexer\u001b[1;34m(self, key, indexer, axis, raise_missing)\u001b[0m\n\u001b[0;32m   1175\u001b[0m                 raise KeyError(\n\u001b[0;32m   1176\u001b[0m                     \"None of [{key}] are in the [{axis}]\".format(\n\u001b[1;32m-> 1177\u001b[1;33m                         \u001b[0mkey\u001b[0m\u001b[1;33m=\u001b[0m\u001b[0mkey\u001b[0m\u001b[1;33m,\u001b[0m \u001b[0maxis\u001b[0m\u001b[1;33m=\u001b[0m\u001b[0mself\u001b[0m\u001b[1;33m.\u001b[0m\u001b[0mobj\u001b[0m\u001b[1;33m.\u001b[0m\u001b[0m_get_axis_name\u001b[0m\u001b[1;33m(\u001b[0m\u001b[0maxis\u001b[0m\u001b[1;33m)\u001b[0m\u001b[1;33m\u001b[0m\u001b[1;33m\u001b[0m\u001b[0m\n\u001b[0m\u001b[0;32m   1178\u001b[0m                     )\n\u001b[0;32m   1179\u001b[0m                 )\n",
            "\u001b[1;31mKeyError\u001b[0m: \"None of [Int64Index([     0,      1,      2,      3,      4,      5,      6,      7,\\n                 8,      9,\\n            ...\\n            838482, 838483, 838484, 838485, 838486, 838487, 838488, 838489,\\n            838490, 838491],\\n           dtype='int64', length=838492)] are in the [columns]\""
          ]
        }
      ]
    },
    {
      "cell_type": "markdown",
      "metadata": {
        "id": "9AuaPXtDfpN2",
        "colab_type": "text"
      },
      "source": [
        "# Model 2: Predict how many goals the away team scores."
      ]
    },
    {
      "cell_type": "code",
      "metadata": {
        "id": "vslWmyuxfpN3",
        "colab_type": "code",
        "colab": {}
      },
      "source": [
        "#diving our dataset into dependent and inpendent variables\n",
        "x = both_ranking[['home_team raking','away_team raking', 'tournament' ]]\n",
        "y = both_ranking['away_score']"
      ],
      "execution_count": 0,
      "outputs": []
    },
    {
      "cell_type": "code",
      "metadata": {
        "id": "IH1jhl2CfpN5",
        "colab_type": "code",
        "colab": {}
      },
      "source": [
        "#spliting our dataset into train and test\n",
        "from sklearn.model_selection import train_test_split\n",
        "x_train,x_test,y_train,y_test = train_test_split(x,y, test_size = 0.6, random_state =0)"
      ],
      "execution_count": 0,
      "outputs": []
    },
    {
      "cell_type": "code",
      "metadata": {
        "id": "a0306NBwfpN8",
        "colab_type": "code",
        "colab": {},
        "outputId": "42d2b052-f3b7-48e1-b41f-e5b2951ac33b"
      },
      "source": [
        "#Fiting the polynomial Regression into the dataset\n",
        "\n",
        "poly_reg = PolynomialFeatures(degree = 4)\n",
        "xp_train = poly_reg.fit_transform(x_train)\n",
        "xp_test  = poly_reg.fit_transform(x_test)\n",
        "LinReg.fit(xp_train, y_train)"
      ],
      "execution_count": 0,
      "outputs": [
        {
          "output_type": "execute_result",
          "data": {
            "text/plain": [
              "LinearRegression(copy_X=True, fit_intercept=True, n_jobs=None, normalize=False)"
            ]
          },
          "metadata": {
            "tags": []
          },
          "execution_count": 76
        }
      ]
    },
    {
      "cell_type": "code",
      "metadata": {
        "id": "smpaFAtsfpN_",
        "colab_type": "code",
        "colab": {}
      },
      "source": [
        "# =predicting with the model\n",
        "y_pred = LinReg.predict(xp_test)\n"
      ],
      "execution_count": 0,
      "outputs": []
    },
    {
      "cell_type": "code",
      "metadata": {
        "id": "yqeuNXtmfpOC",
        "colab_type": "code",
        "colab": {},
        "outputId": "be672ee2-2a55-44fd-e3a4-b1b2a4fd6088"
      },
      "source": [
        "#computing the root mean square error\n",
        "\n",
        "y_pred = LinReg.predict(xp_test)\n",
        "rmse_value =  np.sqrt(metrics.mean_squared_error(y_test, y_pred))\n",
        "print(\"root mean square  error:\"+str(rmse_value))"
      ],
      "execution_count": 0,
      "outputs": [
        {
          "output_type": "stream",
          "text": [
            "root mean square  error:1.6771155211426576\n"
          ],
          "name": "stdout"
        }
      ]
    },
    {
      "cell_type": "code",
      "metadata": {
        "id": "zJTWvwhCfpOE",
        "colab_type": "code",
        "colab": {},
        "outputId": "e3f1a0f7-6e8a-4f1f-9a1d-860b90eb3ffd"
      },
      "source": [
        "#residual plots\n",
        "\n",
        "residuals =np.subtract(y_pred, y_test)\n",
        "pd.DataFrame(residuals).describe()\n"
      ],
      "execution_count": 0,
      "outputs": [
        {
          "output_type": "execute_result",
          "data": {
            "text/html": [
              "<div>\n",
              "<style scoped>\n",
              "    .dataframe tbody tr th:only-of-type {\n",
              "        vertical-align: middle;\n",
              "    }\n",
              "\n",
              "    .dataframe tbody tr th {\n",
              "        vertical-align: top;\n",
              "    }\n",
              "\n",
              "    .dataframe thead th {\n",
              "        text-align: right;\n",
              "    }\n",
              "</style>\n",
              "<table border=\"1\" class=\"dataframe\">\n",
              "  <thead>\n",
              "    <tr style=\"text-align: right;\">\n",
              "      <th></th>\n",
              "      <th>away_score</th>\n",
              "    </tr>\n",
              "  </thead>\n",
              "  <tbody>\n",
              "    <tr>\n",
              "      <td>count</td>\n",
              "      <td>628869.000000</td>\n",
              "    </tr>\n",
              "    <tr>\n",
              "      <td>mean</td>\n",
              "      <td>-0.007940</td>\n",
              "    </tr>\n",
              "    <tr>\n",
              "      <td>std</td>\n",
              "      <td>1.677098</td>\n",
              "    </tr>\n",
              "    <tr>\n",
              "      <td>min</td>\n",
              "      <td>-13.361984</td>\n",
              "    </tr>\n",
              "    <tr>\n",
              "      <td>25%</td>\n",
              "      <td>-0.948663</td>\n",
              "    </tr>\n",
              "    <tr>\n",
              "      <td>50%</td>\n",
              "      <td>0.420678</td>\n",
              "    </tr>\n",
              "    <tr>\n",
              "      <td>75%</td>\n",
              "      <td>1.029581</td>\n",
              "    </tr>\n",
              "    <tr>\n",
              "      <td>max</td>\n",
              "      <td>3.629259</td>\n",
              "    </tr>\n",
              "  </tbody>\n",
              "</table>\n",
              "</div>"
            ],
            "text/plain": [
              "          away_score\n",
              "count  628869.000000\n",
              "mean       -0.007940\n",
              "std         1.677098\n",
              "min       -13.361984\n",
              "25%        -0.948663\n",
              "50%         0.420678\n",
              "75%         1.029581\n",
              "max         3.629259"
            ]
          },
          "metadata": {
            "tags": []
          },
          "execution_count": 79
        }
      ]
    },
    {
      "cell_type": "code",
      "metadata": {
        "id": "t1D8lO2LfpOG",
        "colab_type": "code",
        "colab": {},
        "outputId": "dae9bc23-0beb-4a5c-987d-d05fa9fddc84"
      },
      "source": [
        "residuals.mean()"
      ],
      "execution_count": 0,
      "outputs": [
        {
          "output_type": "execute_result",
          "data": {
            "text/plain": [
              "-0.007940444634676087"
            ]
          },
          "metadata": {
            "tags": []
          },
          "execution_count": 80
        }
      ]
    },
    {
      "cell_type": "code",
      "metadata": {
        "id": "mbFhLScbfpOI",
        "colab_type": "code",
        "colab": {},
        "outputId": "01f41e44-4fd1-4c3a-d925-b0fd9794dd83"
      },
      "source": [
        "import matplotlib.pyplot as plt\n",
        "plt.scatter(y_pred,residuals, color = 'green' )\n",
        "plt.axhline(y= residuals.mean(), color='red', linewidth=1)\n",
        "plt.ylabel('residual')\n",
        "plt.xlabel('fitted values')"
      ],
      "execution_count": 0,
      "outputs": [
        {
          "output_type": "execute_result",
          "data": {
            "text/plain": [
              "Text(0.5, 0, 'fitted values')"
            ]
          },
          "metadata": {
            "tags": []
          },
          "execution_count": 81
        },
        {
          "output_type": "display_data",
          "data": {
            "image/png": "[encoded data removed]",
            "text/plain": [
              "<Figure size 432x288 with 1 Axes>"
            ]
          },
          "metadata": {
            "tags": [],
            "needs_background": "light"
          }
        }
      ]
    },
    {
      "cell_type": "markdown",
      "metadata": {
        "id": "lH4U4ckYfpOL",
        "colab_type": "text"
      },
      "source": [
        "# Approach 2: Logistic approach\n",
        "\n"
      ]
    },
    {
      "cell_type": "code",
      "metadata": {
        "id": "t82gn1ftfpOL",
        "colab_type": "code",
        "colab": {}
      },
      "source": [
        "# Feature Engineering: Figure out from the home team’s perspective if the game is a Win, Lose or Draw (W, L, D)\n",
        "\n",
        "def assign_status():\n",
        "    both_ranking['diff']= both_ranking[\"home_score\"] - both_ranking[\"away_score\"]\n",
        "    status = []\n",
        "    for agg_score in both_ranking['diff']:\n",
        "            if agg_score>0:\n",
        "                status.append('win')\n",
        "\n",
        "            elif agg_score<0:\n",
        "                status.append('loss')\n",
        "            else:\n",
        "                status.append('draw')\n",
        "    both_ranking['status']= status\n",
        "            \n"
      ],
      "execution_count": 0,
      "outputs": []
    },
    {
      "cell_type": "code",
      "metadata": {
        "id": "0FxSzTh9fpOP",
        "colab_type": "code",
        "colab": {}
      },
      "source": [
        "assign_status()   "
      ],
      "execution_count": 0,
      "outputs": []
    },
    {
      "cell_type": "code",
      "metadata": {
        "id": "5oKZIFpufpOR",
        "colab_type": "code",
        "colab": {},
        "outputId": "f72f7b27-7bf6-448a-a4a9-0bc2516fad01"
      },
      "source": [
        "both_ranking.sample(8)"
      ],
      "execution_count": 0,
      "outputs": [
        {
          "output_type": "execute_result",
          "data": {
            "text/html": [
              "<div>\n",
              "<style scoped>\n",
              "    .dataframe tbody tr th:only-of-type {\n",
              "        vertical-align: middle;\n",
              "    }\n",
              "\n",
              "    .dataframe tbody tr th {\n",
              "        vertical-align: top;\n",
              "    }\n",
              "\n",
              "    .dataframe thead th {\n",
              "        text-align: right;\n",
              "    }\n",
              "</style>\n",
              "<table border=\"1\" class=\"dataframe\">\n",
              "  <thead>\n",
              "    <tr style=\"text-align: right;\">\n",
              "      <th></th>\n",
              "      <th>home_team</th>\n",
              "      <th>away_team</th>\n",
              "      <th>home_score</th>\n",
              "      <th>away_score</th>\n",
              "      <th>tournament</th>\n",
              "      <th>home_team raking</th>\n",
              "      <th>away_team raking</th>\n",
              "      <th>diff</th>\n",
              "      <th>status</th>\n",
              "    </tr>\n",
              "  </thead>\n",
              "  <tbody>\n",
              "    <tr>\n",
              "      <td>189738</td>\n",
              "      <td>Guatemala</td>\n",
              "      <td>Mexico</td>\n",
              "      <td>1</td>\n",
              "      <td>4</td>\n",
              "      <td>18</td>\n",
              "      <td>58.0</td>\n",
              "      <td>15.0</td>\n",
              "      <td>-3</td>\n",
              "      <td>loss</td>\n",
              "    </tr>\n",
              "    <tr>\n",
              "      <td>204369</td>\n",
              "      <td>Finland</td>\n",
              "      <td>Poland</td>\n",
              "      <td>5</td>\n",
              "      <td>3</td>\n",
              "      <td>18</td>\n",
              "      <td>43.0</td>\n",
              "      <td>26.0</td>\n",
              "      <td>2</td>\n",
              "      <td>win</td>\n",
              "    </tr>\n",
              "    <tr>\n",
              "      <td>717466</td>\n",
              "      <td>Republic of Ireland</td>\n",
              "      <td>Portugal</td>\n",
              "      <td>0</td>\n",
              "      <td>2</td>\n",
              "      <td>18</td>\n",
              "      <td>14.0</td>\n",
              "      <td>61.0</td>\n",
              "      <td>-2</td>\n",
              "      <td>loss</td>\n",
              "    </tr>\n",
              "    <tr>\n",
              "      <td>60867</td>\n",
              "      <td>Austria</td>\n",
              "      <td>Germany</td>\n",
              "      <td>3</td>\n",
              "      <td>2</td>\n",
              "      <td>18</td>\n",
              "      <td>46.0</td>\n",
              "      <td>2.0</td>\n",
              "      <td>1</td>\n",
              "      <td>win</td>\n",
              "    </tr>\n",
              "    <tr>\n",
              "      <td>1025094</td>\n",
              "      <td>Germany</td>\n",
              "      <td>Norway</td>\n",
              "      <td>2</td>\n",
              "      <td>0</td>\n",
              "      <td>18</td>\n",
              "      <td>14.0</td>\n",
              "      <td>198.0</td>\n",
              "      <td>2</td>\n",
              "      <td>win</td>\n",
              "    </tr>\n",
              "    <tr>\n",
              "      <td>209523</td>\n",
              "      <td>Brazil</td>\n",
              "      <td>Paraguay</td>\n",
              "      <td>2</td>\n",
              "      <td>0</td>\n",
              "      <td>18</td>\n",
              "      <td>1.0</td>\n",
              "      <td>26.0</td>\n",
              "      <td>2</td>\n",
              "      <td>win</td>\n",
              "    </tr>\n",
              "    <tr>\n",
              "      <td>510965</td>\n",
              "      <td>Norway</td>\n",
              "      <td>Finland</td>\n",
              "      <td>0</td>\n",
              "      <td>2</td>\n",
              "      <td>21</td>\n",
              "      <td>47.0</td>\n",
              "      <td>50.0</td>\n",
              "      <td>-2</td>\n",
              "      <td>loss</td>\n",
              "    </tr>\n",
              "    <tr>\n",
              "      <td>904858</td>\n",
              "      <td>Denmark</td>\n",
              "      <td>Norway</td>\n",
              "      <td>1</td>\n",
              "      <td>3</td>\n",
              "      <td>21</td>\n",
              "      <td>28.0</td>\n",
              "      <td>178.0</td>\n",
              "      <td>-2</td>\n",
              "      <td>loss</td>\n",
              "    </tr>\n",
              "  </tbody>\n",
              "</table>\n",
              "</div>"
            ],
            "text/plain": [
              "                   home_team away_team  home_score  away_score  tournament  \\\n",
              "189738             Guatemala    Mexico           1           4          18   \n",
              "204369               Finland    Poland           5           3          18   \n",
              "717466   Republic of Ireland  Portugal           0           2          18   \n",
              "60867                Austria   Germany           3           2          18   \n",
              "1025094              Germany    Norway           2           0          18   \n",
              "209523                Brazil  Paraguay           2           0          18   \n",
              "510965                Norway   Finland           0           2          21   \n",
              "904858               Denmark    Norway           1           3          21   \n",
              "\n",
              "         home_team raking  away_team raking  diff status  \n",
              "189738               58.0              15.0    -3   loss  \n",
              "204369               43.0              26.0     2    win  \n",
              "717466               14.0              61.0    -2   loss  \n",
              "60867                46.0               2.0     1    win  \n",
              "1025094              14.0             198.0     2    win  \n",
              "209523                1.0              26.0     2    win  \n",
              "510965               47.0              50.0    -2   loss  \n",
              "904858               28.0             178.0    -2   loss  "
            ]
          },
          "metadata": {
            "tags": []
          },
          "execution_count": 33
        }
      ]
    },
    {
      "cell_type": "code",
      "metadata": {
        "id": "mkW4VWpZfpOV",
        "colab_type": "code",
        "colab": {},
        "outputId": "c3cc9009-f9ad-4a66-b346-8430f29ce331"
      },
      "source": [
        "#understanding the datatypes of our dataset\n",
        "both_ranking.info()"
      ],
      "execution_count": 0,
      "outputs": [
        {
          "output_type": "stream",
          "text": [
            "<class 'pandas.core.frame.DataFrame'>\n",
            "Int64Index: 1048115 entries, 0 to 1048574\n",
            "Data columns (total 9 columns):\n",
            "home_team           1048115 non-null object\n",
            "away_team           1048115 non-null object\n",
            "home_score          1048115 non-null int64\n",
            "away_score          1048115 non-null int64\n",
            "tournament          1048115 non-null int32\n",
            "home_team raking    1048115 non-null float64\n",
            "away_team raking    1048115 non-null float64\n",
            "diff                1048115 non-null int64\n",
            "status              1048115 non-null object\n",
            "dtypes: float64(2), int32(1), int64(3), object(3)\n",
            "memory usage: 76.0+ MB\n"
          ],
          "name": "stdout"
        }
      ]
    },
    {
      "cell_type": "code",
      "metadata": {
        "id": "vGhIkQZ5fpOX",
        "colab_type": "code",
        "colab": {}
      },
      "source": [
        "#label encoding\"status\" our categorical data to allow us for analysis\n",
        "\n",
        "both_ranking['status'] = le.fit_transform(both_ranking['status'])"
      ],
      "execution_count": 0,
      "outputs": []
    },
    {
      "cell_type": "code",
      "metadata": {
        "scrolled": true,
        "id": "69eBQWPzfpOZ",
        "colab_type": "code",
        "colab": {},
        "outputId": "c9a5b395-ea3a-43cb-f44e-3f85d7ccd149"
      },
      "source": [
        "both_ranking.sample(8)"
      ],
      "execution_count": 0,
      "outputs": [
        {
          "output_type": "execute_result",
          "data": {
            "text/html": [
              "<div>\n",
              "<style scoped>\n",
              "    .dataframe tbody tr th:only-of-type {\n",
              "        vertical-align: middle;\n",
              "    }\n",
              "\n",
              "    .dataframe tbody tr th {\n",
              "        vertical-align: top;\n",
              "    }\n",
              "\n",
              "    .dataframe thead th {\n",
              "        text-align: right;\n",
              "    }\n",
              "</style>\n",
              "<table border=\"1\" class=\"dataframe\">\n",
              "  <thead>\n",
              "    <tr style=\"text-align: right;\">\n",
              "      <th></th>\n",
              "      <th>home_team</th>\n",
              "      <th>away_team</th>\n",
              "      <th>home_score</th>\n",
              "      <th>away_score</th>\n",
              "      <th>tournament</th>\n",
              "      <th>home_team raking</th>\n",
              "      <th>away_team raking</th>\n",
              "      <th>diff</th>\n",
              "      <th>status</th>\n",
              "    </tr>\n",
              "  </thead>\n",
              "  <tbody>\n",
              "    <tr>\n",
              "      <td>991508</td>\n",
              "      <td>Egypt</td>\n",
              "      <td>Bulgaria</td>\n",
              "      <td>1</td>\n",
              "      <td>0</td>\n",
              "      <td>18</td>\n",
              "      <td>44.0</td>\n",
              "      <td>176.0</td>\n",
              "      <td>1</td>\n",
              "      <td>2</td>\n",
              "    </tr>\n",
              "    <tr>\n",
              "      <td>625072</td>\n",
              "      <td>Chile</td>\n",
              "      <td>Peru</td>\n",
              "      <td>1</td>\n",
              "      <td>0</td>\n",
              "      <td>5</td>\n",
              "      <td>47.0</td>\n",
              "      <td>6.0</td>\n",
              "      <td>1</td>\n",
              "      <td>2</td>\n",
              "    </tr>\n",
              "    <tr>\n",
              "      <td>836693</td>\n",
              "      <td>Chile</td>\n",
              "      <td>United States</td>\n",
              "      <td>5</td>\n",
              "      <td>2</td>\n",
              "      <td>16</td>\n",
              "      <td>21.0</td>\n",
              "      <td>154.0</td>\n",
              "      <td>3</td>\n",
              "      <td>2</td>\n",
              "    </tr>\n",
              "    <tr>\n",
              "      <td>5252</td>\n",
              "      <td>Wales</td>\n",
              "      <td>Scotland</td>\n",
              "      <td>1</td>\n",
              "      <td>5</td>\n",
              "      <td>18</td>\n",
              "      <td>52.0</td>\n",
              "      <td>64.0</td>\n",
              "      <td>-4</td>\n",
              "      <td>1</td>\n",
              "    </tr>\n",
              "    <tr>\n",
              "      <td>289712</td>\n",
              "      <td>Uruguay</td>\n",
              "      <td>Argentina</td>\n",
              "      <td>0</td>\n",
              "      <td>1</td>\n",
              "      <td>9</td>\n",
              "      <td>18.0</td>\n",
              "      <td>116.0</td>\n",
              "      <td>-1</td>\n",
              "      <td>1</td>\n",
              "    </tr>\n",
              "    <tr>\n",
              "      <td>899228</td>\n",
              "      <td>Fiji</td>\n",
              "      <td>New Zealand</td>\n",
              "      <td>0</td>\n",
              "      <td>9</td>\n",
              "      <td>18</td>\n",
              "      <td>140.0</td>\n",
              "      <td>172.0</td>\n",
              "      <td>-9</td>\n",
              "      <td>1</td>\n",
              "    </tr>\n",
              "    <tr>\n",
              "      <td>774806</td>\n",
              "      <td>Trinidad and Tobago</td>\n",
              "      <td>Haiti</td>\n",
              "      <td>0</td>\n",
              "      <td>0</td>\n",
              "      <td>18</td>\n",
              "      <td>69.0</td>\n",
              "      <td>19.0</td>\n",
              "      <td>0</td>\n",
              "      <td>0</td>\n",
              "    </tr>\n",
              "    <tr>\n",
              "      <td>735310</td>\n",
              "      <td>Romania</td>\n",
              "      <td>Poland</td>\n",
              "      <td>0</td>\n",
              "      <td>0</td>\n",
              "      <td>18</td>\n",
              "      <td>3.0</td>\n",
              "      <td>38.0</td>\n",
              "      <td>0</td>\n",
              "      <td>0</td>\n",
              "    </tr>\n",
              "  </tbody>\n",
              "</table>\n",
              "</div>"
            ],
            "text/plain": [
              "                  home_team      away_team  home_score  away_score  \\\n",
              "991508                Egypt       Bulgaria           1           0   \n",
              "625072                Chile           Peru           1           0   \n",
              "836693                Chile  United States           5           2   \n",
              "5252                  Wales       Scotland           1           5   \n",
              "289712              Uruguay      Argentina           0           1   \n",
              "899228                 Fiji    New Zealand           0           9   \n",
              "774806  Trinidad and Tobago          Haiti           0           0   \n",
              "735310              Romania         Poland           0           0   \n",
              "\n",
              "        tournament  home_team raking  away_team raking  diff  status  \n",
              "991508          18              44.0             176.0     1       2  \n",
              "625072           5              47.0               6.0     1       2  \n",
              "836693          16              21.0             154.0     3       2  \n",
              "5252            18              52.0              64.0    -4       1  \n",
              "289712           9              18.0             116.0    -1       1  \n",
              "899228          18             140.0             172.0    -9       1  \n",
              "774806          18              69.0              19.0     0       0  \n",
              "735310          18               3.0              38.0     0       0  "
            ]
          },
          "metadata": {
            "tags": []
          },
          "execution_count": 36
        }
      ]
    },
    {
      "cell_type": "code",
      "metadata": {
        "id": "Ou4yf7SPfpOd",
        "colab_type": "code",
        "colab": {}
      },
      "source": [
        "#diving our dataset into dependent and inpendent variables\n",
        "x = both_ranking[['home_team raking','away_team raking', 'tournament']]\n",
        "y = both_ranking['status']"
      ],
      "execution_count": 0,
      "outputs": []
    },
    {
      "cell_type": "code",
      "metadata": {
        "id": "zSSM94BffpOg",
        "colab_type": "code",
        "colab": {}
      },
      "source": [
        "# Splitting our dataset\n",
        "x_train,x_test,y_train,y_test = train_test_split(x,y, test_size = 0.2, random_state = 0)\n"
      ],
      "execution_count": 0,
      "outputs": []
    },
    {
      "cell_type": "code",
      "metadata": {
        "id": "oqeGC24NfpOi",
        "colab_type": "code",
        "colab": {}
      },
      "source": [
        "#feature scaling, this will make it eas\n",
        "\n",
        "from sklearn.preprocessing import StandardScaler\n",
        "sc = StandardScaler()\n",
        "x_train = sc.fit_transform(x_train)\n",
        "x_test = sc.fit_transform(x_test)\n"
      ],
      "execution_count": 0,
      "outputs": []
    },
    {
      "cell_type": "code",
      "metadata": {
        "id": "76RXrFHPfpOn",
        "colab_type": "code",
        "colab": {},
        "outputId": "95ec3f4d-c7de-4d98-90c2-3c0e7916fcdb"
      },
      "source": [
        "#fiting regression model to our dataset\n",
        "\n",
        "from sklearn.linear_model import LogisticRegression\n",
        "LogRes = LogisticRegression()\n",
        "LogRes.fit(x_train, y_train)"
      ],
      "execution_count": 0,
      "outputs": [
        {
          "output_type": "stream",
          "text": [
            "C:\\Users\\Gideon Kipkorir\\Anaconda3\\lib\\site-packages\\sklearn\\linear_model\\logistic.py:432: FutureWarning: Default solver will be changed to 'lbfgs' in 0.22. Specify a solver to silence this warning.\n",
            "  FutureWarning)\n",
            "C:\\Users\\Gideon Kipkorir\\Anaconda3\\lib\\site-packages\\sklearn\\linear_model\\logistic.py:469: FutureWarning: Default multi_class will be changed to 'auto' in 0.22. Specify the multi_class option to silence this warning.\n",
            "  \"this warning.\", FutureWarning)\n"
          ],
          "name": "stderr"
        },
        {
          "output_type": "execute_result",
          "data": {
            "text/plain": [
              "LogisticRegression(C=1.0, class_weight=None, dual=False, fit_intercept=True,\n",
              "                   intercept_scaling=1, l1_ratio=None, max_iter=100,\n",
              "                   multi_class='warn', n_jobs=None, penalty='l2',\n",
              "                   random_state=None, solver='warn', tol=0.0001, verbose=0,\n",
              "                   warm_start=False)"
            ]
          },
          "metadata": {
            "tags": []
          },
          "execution_count": 40
        }
      ]
    },
    {
      "cell_type": "code",
      "metadata": {
        "id": "aesolud5fpOq",
        "colab_type": "code",
        "colab": {}
      },
      "source": [
        "#using our model to make prediction\n",
        "\n",
        "y_pred = LogRes.predict(x_test)"
      ],
      "execution_count": 0,
      "outputs": []
    },
    {
      "cell_type": "code",
      "metadata": {
        "id": "fB03NsAHfpOv",
        "colab_type": "code",
        "colab": {},
        "outputId": "aed6ef7c-5b56-4f87-9098-628e7a552078"
      },
      "source": [
        "#Testing the accuracy of our model\n",
        "\n",
        "from sklearn.metrics import confusion_matrix\n",
        "confusion_matrix = confusion_matrix(y_test, y_pred)\n",
        "confusion_matrix \n"
      ],
      "execution_count": 0,
      "outputs": [
        {
          "output_type": "execute_result",
          "data": {
            "text/plain": [
              "array([[    0,  2897, 33190],\n",
              "       [    0,  7822, 61154],\n",
              "       [    0,  7181, 97379]], dtype=int64)"
            ]
          },
          "metadata": {
            "tags": []
          },
          "execution_count": 42
        }
      ]
    },
    {
      "cell_type": "code",
      "metadata": {
        "id": "-To8-q37fpOy",
        "colab_type": "code",
        "colab": {},
        "outputId": "20d4b98a-520f-43be-ea9b-7c0e43e7ec0b"
      },
      "source": [
        "LogRes.score(x_test, y_test)"
      ],
      "execution_count": 0,
      "outputs": [
        {
          "output_type": "execute_result",
          "data": {
            "text/plain": [
              "0.5018580976324163"
            ]
          },
          "metadata": {
            "tags": []
          },
          "execution_count": 43
        }
      ]
    },
    {
      "cell_type": "markdown",
      "metadata": {
        "id": "3x_a0iLnfpO1",
        "colab_type": "text"
      },
      "source": [
        "Our model cannot make prediction for first category and very poor for the second, this could due to biasness introduced by imbalanced dataset. Despite that, overally it achieved an accuracy of 50 percent which barely meet our metric of success"
      ]
    },
    {
      "cell_type": "markdown",
      "metadata": {
        "id": "849pA-swfpO2",
        "colab_type": "text"
      },
      "source": [
        "#### Appropriateness of the available data?\n",
        "The available dataset could be appropriate for making such prediction, however, the combination of features used might not have been appropriate, hence the low accuracy.Further study is required on the correlation of other indpendent dataset to see how the affect the outcome of a match. In addition, studies should be done to find out if there there are other possible factors that affect the outcome of the match."
      ]
    }
  ]
}