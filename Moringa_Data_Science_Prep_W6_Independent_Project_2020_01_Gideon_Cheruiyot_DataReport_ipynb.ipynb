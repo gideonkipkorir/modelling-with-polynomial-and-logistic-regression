{
  "nbformat": 4,
  "nbformat_minor": 0,
  "metadata": {
    "colab": {
      "name": "Moringa_Data_Science_Prep_W6_Independent_Project_2020_01_Gideon_Cheruiyot_DataReport_ipynb.ipynb",
      "provenance": [],
      "include_colab_link": true
    },
    "kernelspec": {
      "display_name": "Python 3",
      "language": "python",
      "name": "python3"
    },
    "language_info": {
      "codemirror_mode": {
        "name": "ipython",
        "version": 3
      },
      "file_extension": ".py",
      "mimetype": "text/x-python",
      "name": "python",
      "nbconvert_exporter": "python",
      "pygments_lexer": "ipython3",
      "version": "3.7.4"
    }
  },
  "cells": [
    {
      "cell_type": "markdown",
      "metadata": {
        "id": "view-in-github",
        "colab_type": "text"
      },
      "source": [
        "<a href=\"https://colab.research.google.com/github/pkor725/modelling-with-polynomial-and-logistic-regression/blob/master/Moringa_Data_Science_Prep_W6_Independent_Project_2020_01_Gideon_Cheruiyot_DataReport_ipynb.ipynb\" target=\"_parent\"><img src=\"https://colab.research.google.com/assets/colab-badge.svg\" alt=\"Open In Colab\"/></a>"
      ]
    },
    {
      "cell_type": "markdown",
      "metadata": {
        "id": "kDJ_tLK6GNzR",
        "colab_type": "text"
      },
      "source": [
        "## Problem statement\n",
        "\n",
        "A prediction result of a game between team 1 and team 2, based on who's home and who's away, and on whether or not the game is friendly (include rank in your training).\n",
        "\n",
        "You have two possible approaches (as  shown below) given the datasets that will be provided\n",
        "\n",
        "Input: Home team, Away team, Tournament type (World cup, Friendly, Other)\n",
        "\n",
        "**Approach 1:** Polynomial approach\n",
        "\n",
        "What to train given:\n",
        "\n",
        "1. Rank of home team\n",
        "2. Rank of away team\n",
        "3. Tournament type\n",
        "\n",
        "***Model 1:*** Predict how many goals the home team scores.\n",
        "\n",
        "***Model 2:*** Predict how many goals the away team scores.\n",
        "\n",
        "**Approach 2:** Logistic approach\n",
        "\n",
        "Feature Engineering: Figure out from the home team’s perspective if the game is a Win, Lose or Draw (W, L, D)"
      ]
    },
    {
      "cell_type": "code",
      "metadata": {
        "id": "wGtKjn_XGNzV",
        "colab_type": "code",
        "colab": {}
      },
      "source": [
        "#importing libriaries\n",
        "import pandas as pd\n",
        "import numpy as np\n",
        "import seaborn as sbn"
      ],
      "execution_count": 0,
      "outputs": []
    },
    {
      "cell_type": "code",
      "metadata": {
        "id": "0Bb1v-8wGNzb",
        "colab_type": "code",
        "colab": {}
      },
      "source": [
        "#loading our datasets\n",
        "results = pd.read_csv(r'C:\\Users\\Gideon Kipkorir\\Desktop\\colab\\Week 6 IP Datasets\\results.csv')\n",
        "ranking = pd.read_csv(r'C:\\Users\\Gideon Kipkorir\\Desktop\\colab\\Week 6 IP Datasets\\fifa_ranking.csv')"
      ],
      "execution_count": 0,
      "outputs": []
    },
    {
      "cell_type": "code",
      "metadata": {
        "id": "IjfLLNIqGNze",
        "colab_type": "code",
        "colab": {},
        "outputId": "cfad7e1c-2322-485d-e188-8ac49e89a531"
      },
      "source": [
        "results.head()"
      ],
      "execution_count": 0,
      "outputs": [
        {
          "output_type": "execute_result",
          "data": {
            "text/html": [
              "<div>\n",
              "<style scoped>\n",
              "    .dataframe tbody tr th:only-of-type {\n",
              "        vertical-align: middle;\n",
              "    }\n",
              "\n",
              "    .dataframe tbody tr th {\n",
              "        vertical-align: top;\n",
              "    }\n",
              "\n",
              "    .dataframe thead th {\n",
              "        text-align: right;\n",
              "    }\n",
              "</style>\n",
              "<table border=\"1\" class=\"dataframe\">\n",
              "  <thead>\n",
              "    <tr style=\"text-align: right;\">\n",
              "      <th></th>\n",
              "      <th>date</th>\n",
              "      <th>home_team</th>\n",
              "      <th>away_team</th>\n",
              "      <th>home_score</th>\n",
              "      <th>away_score</th>\n",
              "      <th>tournament</th>\n",
              "      <th>city</th>\n",
              "      <th>country</th>\n",
              "      <th>neutral</th>\n",
              "    </tr>\n",
              "  </thead>\n",
              "  <tbody>\n",
              "    <tr>\n",
              "      <td>0</td>\n",
              "      <td>1872-11-30</td>\n",
              "      <td>Scotland</td>\n",
              "      <td>England</td>\n",
              "      <td>0</td>\n",
              "      <td>0</td>\n",
              "      <td>Friendly</td>\n",
              "      <td>Glasgow</td>\n",
              "      <td>Scotland</td>\n",
              "      <td>False</td>\n",
              "    </tr>\n",
              "    <tr>\n",
              "      <td>1</td>\n",
              "      <td>1873-03-08</td>\n",
              "      <td>England</td>\n",
              "      <td>Scotland</td>\n",
              "      <td>4</td>\n",
              "      <td>2</td>\n",
              "      <td>Friendly</td>\n",
              "      <td>London</td>\n",
              "      <td>England</td>\n",
              "      <td>False</td>\n",
              "    </tr>\n",
              "    <tr>\n",
              "      <td>2</td>\n",
              "      <td>1874-03-07</td>\n",
              "      <td>Scotland</td>\n",
              "      <td>England</td>\n",
              "      <td>2</td>\n",
              "      <td>1</td>\n",
              "      <td>Friendly</td>\n",
              "      <td>Glasgow</td>\n",
              "      <td>Scotland</td>\n",
              "      <td>False</td>\n",
              "    </tr>\n",
              "    <tr>\n",
              "      <td>3</td>\n",
              "      <td>1875-03-06</td>\n",
              "      <td>England</td>\n",
              "      <td>Scotland</td>\n",
              "      <td>2</td>\n",
              "      <td>2</td>\n",
              "      <td>Friendly</td>\n",
              "      <td>London</td>\n",
              "      <td>England</td>\n",
              "      <td>False</td>\n",
              "    </tr>\n",
              "    <tr>\n",
              "      <td>4</td>\n",
              "      <td>1876-03-04</td>\n",
              "      <td>Scotland</td>\n",
              "      <td>England</td>\n",
              "      <td>3</td>\n",
              "      <td>0</td>\n",
              "      <td>Friendly</td>\n",
              "      <td>Glasgow</td>\n",
              "      <td>Scotland</td>\n",
              "      <td>False</td>\n",
              "    </tr>\n",
              "  </tbody>\n",
              "</table>\n",
              "</div>"
            ],
            "text/plain": [
              "         date home_team away_team  home_score  away_score tournament     city  \\\n",
              "0  1872-11-30  Scotland   England           0           0   Friendly  Glasgow   \n",
              "1  1873-03-08   England  Scotland           4           2   Friendly   London   \n",
              "2  1874-03-07  Scotland   England           2           1   Friendly  Glasgow   \n",
              "3  1875-03-06   England  Scotland           2           2   Friendly   London   \n",
              "4  1876-03-04  Scotland   England           3           0   Friendly  Glasgow   \n",
              "\n",
              "    country  neutral  \n",
              "0  Scotland    False  \n",
              "1   England    False  \n",
              "2  Scotland    False  \n",
              "3   England    False  \n",
              "4  Scotland    False  "
            ]
          },
          "metadata": {
            "tags": []
          },
          "execution_count": 3
        }
      ]
    },
    {
      "cell_type": "code",
      "metadata": {
        "id": "EP1Cn6b2GNzi",
        "colab_type": "code",
        "colab": {},
        "outputId": "8bbccbf5-14bc-41d5-956c-acd5d1cf69a7"
      },
      "source": [
        "#previewing 'ranking' dataset\n",
        "ranking.head()"
      ],
      "execution_count": 0,
      "outputs": [
        {
          "output_type": "execute_result",
          "data": {
            "text/html": [
              "<div>\n",
              "<style scoped>\n",
              "    .dataframe tbody tr th:only-of-type {\n",
              "        vertical-align: middle;\n",
              "    }\n",
              "\n",
              "    .dataframe tbody tr th {\n",
              "        vertical-align: top;\n",
              "    }\n",
              "\n",
              "    .dataframe thead th {\n",
              "        text-align: right;\n",
              "    }\n",
              "</style>\n",
              "<table border=\"1\" class=\"dataframe\">\n",
              "  <thead>\n",
              "    <tr style=\"text-align: right;\">\n",
              "      <th></th>\n",
              "      <th>rank</th>\n",
              "      <th>country_full</th>\n",
              "      <th>country_abrv</th>\n",
              "      <th>total_points</th>\n",
              "      <th>previous_points</th>\n",
              "      <th>rank_change</th>\n",
              "      <th>cur_year_avg</th>\n",
              "      <th>cur_year_avg_weighted</th>\n",
              "      <th>last_year_avg</th>\n",
              "      <th>last_year_avg_weighted</th>\n",
              "      <th>two_year_ago_avg</th>\n",
              "      <th>two_year_ago_weighted</th>\n",
              "      <th>three_year_ago_avg</th>\n",
              "      <th>three_year_ago_weighted</th>\n",
              "      <th>confederation</th>\n",
              "      <th>rank_date</th>\n",
              "    </tr>\n",
              "  </thead>\n",
              "  <tbody>\n",
              "    <tr>\n",
              "      <td>0</td>\n",
              "      <td>1</td>\n",
              "      <td>Germany</td>\n",
              "      <td>GER</td>\n",
              "      <td>0.0</td>\n",
              "      <td>57</td>\n",
              "      <td>0</td>\n",
              "      <td>0.0</td>\n",
              "      <td>0.0</td>\n",
              "      <td>0.0</td>\n",
              "      <td>0.0</td>\n",
              "      <td>0.0</td>\n",
              "      <td>0.0</td>\n",
              "      <td>0.0</td>\n",
              "      <td>0.0</td>\n",
              "      <td>UEFA</td>\n",
              "      <td>1993-08-08</td>\n",
              "    </tr>\n",
              "    <tr>\n",
              "      <td>1</td>\n",
              "      <td>2</td>\n",
              "      <td>Italy</td>\n",
              "      <td>ITA</td>\n",
              "      <td>0.0</td>\n",
              "      <td>57</td>\n",
              "      <td>0</td>\n",
              "      <td>0.0</td>\n",
              "      <td>0.0</td>\n",
              "      <td>0.0</td>\n",
              "      <td>0.0</td>\n",
              "      <td>0.0</td>\n",
              "      <td>0.0</td>\n",
              "      <td>0.0</td>\n",
              "      <td>0.0</td>\n",
              "      <td>UEFA</td>\n",
              "      <td>1993-08-08</td>\n",
              "    </tr>\n",
              "    <tr>\n",
              "      <td>2</td>\n",
              "      <td>3</td>\n",
              "      <td>Switzerland</td>\n",
              "      <td>SUI</td>\n",
              "      <td>0.0</td>\n",
              "      <td>50</td>\n",
              "      <td>9</td>\n",
              "      <td>0.0</td>\n",
              "      <td>0.0</td>\n",
              "      <td>0.0</td>\n",
              "      <td>0.0</td>\n",
              "      <td>0.0</td>\n",
              "      <td>0.0</td>\n",
              "      <td>0.0</td>\n",
              "      <td>0.0</td>\n",
              "      <td>UEFA</td>\n",
              "      <td>1993-08-08</td>\n",
              "    </tr>\n",
              "    <tr>\n",
              "      <td>3</td>\n",
              "      <td>4</td>\n",
              "      <td>Sweden</td>\n",
              "      <td>SWE</td>\n",
              "      <td>0.0</td>\n",
              "      <td>55</td>\n",
              "      <td>0</td>\n",
              "      <td>0.0</td>\n",
              "      <td>0.0</td>\n",
              "      <td>0.0</td>\n",
              "      <td>0.0</td>\n",
              "      <td>0.0</td>\n",
              "      <td>0.0</td>\n",
              "      <td>0.0</td>\n",
              "      <td>0.0</td>\n",
              "      <td>UEFA</td>\n",
              "      <td>1993-08-08</td>\n",
              "    </tr>\n",
              "    <tr>\n",
              "      <td>4</td>\n",
              "      <td>5</td>\n",
              "      <td>Argentina</td>\n",
              "      <td>ARG</td>\n",
              "      <td>0.0</td>\n",
              "      <td>51</td>\n",
              "      <td>5</td>\n",
              "      <td>0.0</td>\n",
              "      <td>0.0</td>\n",
              "      <td>0.0</td>\n",
              "      <td>0.0</td>\n",
              "      <td>0.0</td>\n",
              "      <td>0.0</td>\n",
              "      <td>0.0</td>\n",
              "      <td>0.0</td>\n",
              "      <td>CONMEBOL</td>\n",
              "      <td>1993-08-08</td>\n",
              "    </tr>\n",
              "  </tbody>\n",
              "</table>\n",
              "</div>"
            ],
            "text/plain": [
              "   rank country_full country_abrv  total_points  previous_points  rank_change  \\\n",
              "0     1      Germany          GER           0.0               57            0   \n",
              "1     2        Italy          ITA           0.0               57            0   \n",
              "2     3  Switzerland          SUI           0.0               50            9   \n",
              "3     4       Sweden          SWE           0.0               55            0   \n",
              "4     5    Argentina          ARG           0.0               51            5   \n",
              "\n",
              "   cur_year_avg  cur_year_avg_weighted  last_year_avg  last_year_avg_weighted  \\\n",
              "0           0.0                    0.0            0.0                     0.0   \n",
              "1           0.0                    0.0            0.0                     0.0   \n",
              "2           0.0                    0.0            0.0                     0.0   \n",
              "3           0.0                    0.0            0.0                     0.0   \n",
              "4           0.0                    0.0            0.0                     0.0   \n",
              "\n",
              "   two_year_ago_avg  two_year_ago_weighted  three_year_ago_avg  \\\n",
              "0               0.0                    0.0                 0.0   \n",
              "1               0.0                    0.0                 0.0   \n",
              "2               0.0                    0.0                 0.0   \n",
              "3               0.0                    0.0                 0.0   \n",
              "4               0.0                    0.0                 0.0   \n",
              "\n",
              "   three_year_ago_weighted confederation   rank_date  \n",
              "0                      0.0          UEFA  1993-08-08  \n",
              "1                      0.0          UEFA  1993-08-08  \n",
              "2                      0.0          UEFA  1993-08-08  \n",
              "3                      0.0          UEFA  1993-08-08  \n",
              "4                      0.0      CONMEBOL  1993-08-08  "
            ]
          },
          "metadata": {
            "tags": []
          },
          "execution_count": 4
        }
      ]
    },
    {
      "cell_type": "code",
      "metadata": {
        "id": "7WhgM2fcGNzl",
        "colab_type": "code",
        "colab": {}
      },
      "source": [
        "#Renaming column 'country columns' to acheive similarity before merging the dataset\n",
        "ranking = ranking.rename(columns = {'country_full':'country'})\n",
        "\n",
        "ranking = ranking.drop(columns = ['cur_year_avg', 'cur_year_avg_weighted', 'last_year_avg',\n",
        "       'last_year_avg_weighted', 'two_year_ago_avg', 'two_year_ago_weighted',\n",
        "       'three_year_ago_avg', 'three_year_ago_weighted', 'confederation','country_abrv','total_points','previous_points','rank_change','rank_date'])"
      ],
      "execution_count": 0,
      "outputs": []
    },
    {
      "cell_type": "code",
      "metadata": {
        "id": "b6ZMWf27GNzn",
        "colab_type": "code",
        "colab": {},
        "outputId": "bb000592-d749-482a-d00c-8d24105058bc"
      },
      "source": [
        "ranking.head()"
      ],
      "execution_count": 0,
      "outputs": [
        {
          "output_type": "execute_result",
          "data": {
            "text/html": [
              "<div>\n",
              "<style scoped>\n",
              "    .dataframe tbody tr th:only-of-type {\n",
              "        vertical-align: middle;\n",
              "    }\n",
              "\n",
              "    .dataframe tbody tr th {\n",
              "        vertical-align: top;\n",
              "    }\n",
              "\n",
              "    .dataframe thead th {\n",
              "        text-align: right;\n",
              "    }\n",
              "</style>\n",
              "<table border=\"1\" class=\"dataframe\">\n",
              "  <thead>\n",
              "    <tr style=\"text-align: right;\">\n",
              "      <th></th>\n",
              "      <th>rank</th>\n",
              "      <th>country</th>\n",
              "    </tr>\n",
              "  </thead>\n",
              "  <tbody>\n",
              "    <tr>\n",
              "      <td>0</td>\n",
              "      <td>1</td>\n",
              "      <td>Germany</td>\n",
              "    </tr>\n",
              "    <tr>\n",
              "      <td>1</td>\n",
              "      <td>2</td>\n",
              "      <td>Italy</td>\n",
              "    </tr>\n",
              "    <tr>\n",
              "      <td>2</td>\n",
              "      <td>3</td>\n",
              "      <td>Switzerland</td>\n",
              "    </tr>\n",
              "    <tr>\n",
              "      <td>3</td>\n",
              "      <td>4</td>\n",
              "      <td>Sweden</td>\n",
              "    </tr>\n",
              "    <tr>\n",
              "      <td>4</td>\n",
              "      <td>5</td>\n",
              "      <td>Argentina</td>\n",
              "    </tr>\n",
              "  </tbody>\n",
              "</table>\n",
              "</div>"
            ],
            "text/plain": [
              "   rank      country\n",
              "0     1      Germany\n",
              "1     2        Italy\n",
              "2     3  Switzerland\n",
              "3     4       Sweden\n",
              "4     5    Argentina"
            ]
          },
          "metadata": {
            "tags": []
          },
          "execution_count": 6
        }
      ]
    },
    {
      "cell_type": "code",
      "metadata": {
        "id": "Kl_Qm225GNzr",
        "colab_type": "code",
        "colab": {}
      },
      "source": [
        "results = results.drop(columns = ['date', 'city', 'country', 'neutral'])"
      ],
      "execution_count": 0,
      "outputs": []
    },
    {
      "cell_type": "code",
      "metadata": {
        "id": "bvGLrTVtGNzu",
        "colab_type": "code",
        "colab": {},
        "outputId": "fb153ee8-8060-4979-9877-35b812b31323"
      },
      "source": [
        "\n",
        "#merging datasets to get 'home_team' ranking\n",
        "ranking_home_team = ranking.rename(columns= {'rank': 'home_team raking', 'country':'home_team'})#renaming to allow for merging of datasets\n",
        "rrevised = pd.merge(results, ranking_home_team , on = 'home_team', how='left')\n",
        "rrevised.to_csv(r'C:\\Users\\Gideon Kipkorir\\Desktop\\colab\\Week 6 IP Datasets\\hmranking.csv')\n",
        "rrevised.head()"
      ],
      "execution_count": 0,
      "outputs": [
        {
          "output_type": "execute_result",
          "data": {
            "text/html": [
              "<div>\n",
              "<style scoped>\n",
              "    .dataframe tbody tr th:only-of-type {\n",
              "        vertical-align: middle;\n",
              "    }\n",
              "\n",
              "    .dataframe tbody tr th {\n",
              "        vertical-align: top;\n",
              "    }\n",
              "\n",
              "    .dataframe thead th {\n",
              "        text-align: right;\n",
              "    }\n",
              "</style>\n",
              "<table border=\"1\" class=\"dataframe\">\n",
              "  <thead>\n",
              "    <tr style=\"text-align: right;\">\n",
              "      <th></th>\n",
              "      <th>home_team</th>\n",
              "      <th>away_team</th>\n",
              "      <th>home_score</th>\n",
              "      <th>away_score</th>\n",
              "      <th>tournament</th>\n",
              "      <th>home_team raking</th>\n",
              "    </tr>\n",
              "  </thead>\n",
              "  <tbody>\n",
              "    <tr>\n",
              "      <td>0</td>\n",
              "      <td>Scotland</td>\n",
              "      <td>England</td>\n",
              "      <td>0</td>\n",
              "      <td>0</td>\n",
              "      <td>Friendly</td>\n",
              "      <td>30.0</td>\n",
              "    </tr>\n",
              "    <tr>\n",
              "      <td>1</td>\n",
              "      <td>Scotland</td>\n",
              "      <td>England</td>\n",
              "      <td>0</td>\n",
              "      <td>0</td>\n",
              "      <td>Friendly</td>\n",
              "      <td>28.0</td>\n",
              "    </tr>\n",
              "    <tr>\n",
              "      <td>2</td>\n",
              "      <td>Scotland</td>\n",
              "      <td>England</td>\n",
              "      <td>0</td>\n",
              "      <td>0</td>\n",
              "      <td>Friendly</td>\n",
              "      <td>29.0</td>\n",
              "    </tr>\n",
              "    <tr>\n",
              "      <td>3</td>\n",
              "      <td>Scotland</td>\n",
              "      <td>England</td>\n",
              "      <td>0</td>\n",
              "      <td>0</td>\n",
              "      <td>Friendly</td>\n",
              "      <td>25.0</td>\n",
              "    </tr>\n",
              "    <tr>\n",
              "      <td>4</td>\n",
              "      <td>Scotland</td>\n",
              "      <td>England</td>\n",
              "      <td>0</td>\n",
              "      <td>0</td>\n",
              "      <td>Friendly</td>\n",
              "      <td>24.0</td>\n",
              "    </tr>\n",
              "  </tbody>\n",
              "</table>\n",
              "</div>"
            ],
            "text/plain": [
              "  home_team away_team  home_score  away_score tournament  home_team raking\n",
              "0  Scotland   England           0           0   Friendly              30.0\n",
              "1  Scotland   England           0           0   Friendly              28.0\n",
              "2  Scotland   England           0           0   Friendly              29.0\n",
              "3  Scotland   England           0           0   Friendly              25.0\n",
              "4  Scotland   England           0           0   Friendly              24.0"
            ]
          },
          "metadata": {
            "tags": []
          },
          "execution_count": 8
        }
      ]
    },
    {
      "cell_type": "markdown",
      "metadata": {
        "id": "dfqMBGZjGNzx",
        "colab_type": "text"
      },
      "source": [
        "***Due to memmory problems the dataset was merger externally as the procedure below failed on my pc***"
      ]
    },
    {
      "cell_type": "code",
      "metadata": {
        "id": "4cbZ6YVsGNzy",
        "colab_type": "code",
        "colab": {},
        "outputId": "af729df9-9628-467d-a8ed-aa8489f3ed42"
      },
      "source": [
        "#merging datasets to get 'home_team' ranking\n",
        "# ranking_away_team = ranking.rename(columns= {'rank': 'away_team raking', 'country':'away_team'})#renaming to allow for merging of datasets\n",
        "# both_ranking = pd.merge(rrevised, ranking_away_team , on = 'away_team', how='left')\n",
        "# due to memmory problems the dataset was merger externall as the above procedure failed on my pc)\n",
        "both_ranking = pd.read_csv(r'C:\\Users\\Gideon Kipkorir\\Desktop\\colab\\Week 6 IP Datasets\\both_ranking.csv', index_col = 0)\n",
        "both_ranking.head()\n"
      ],
      "execution_count": 0,
      "outputs": [
        {
          "output_type": "stream",
          "text": [
            "C:\\Users\\Gideon Kipkorir\\Anaconda3\\lib\\site-packages\\numpy\\lib\\arraysetops.py:569: FutureWarning: elementwise comparison failed; returning scalar instead, but in the future will perform elementwise comparison\n",
            "  mask |= (ar1 == a)\n"
          ],
          "name": "stderr"
        },
        {
          "output_type": "execute_result",
          "data": {
            "text/html": [
              "<div>\n",
              "<style scoped>\n",
              "    .dataframe tbody tr th:only-of-type {\n",
              "        vertical-align: middle;\n",
              "    }\n",
              "\n",
              "    .dataframe tbody tr th {\n",
              "        vertical-align: top;\n",
              "    }\n",
              "\n",
              "    .dataframe thead th {\n",
              "        text-align: right;\n",
              "    }\n",
              "</style>\n",
              "<table border=\"1\" class=\"dataframe\">\n",
              "  <thead>\n",
              "    <tr style=\"text-align: right;\">\n",
              "      <th></th>\n",
              "      <th>home_team</th>\n",
              "      <th>away_team</th>\n",
              "      <th>home_score</th>\n",
              "      <th>away_score</th>\n",
              "      <th>tournament</th>\n",
              "      <th>home_team raking</th>\n",
              "      <th>away_team raking</th>\n",
              "    </tr>\n",
              "  </thead>\n",
              "  <tbody>\n",
              "    <tr>\n",
              "      <td>0</td>\n",
              "      <td>Scotland</td>\n",
              "      <td>England</td>\n",
              "      <td>0</td>\n",
              "      <td>0</td>\n",
              "      <td>Friendly</td>\n",
              "      <td>30.0</td>\n",
              "      <td>11.0</td>\n",
              "    </tr>\n",
              "    <tr>\n",
              "      <td>1</td>\n",
              "      <td>Scotland</td>\n",
              "      <td>England</td>\n",
              "      <td>0</td>\n",
              "      <td>0</td>\n",
              "      <td>Friendly</td>\n",
              "      <td>28.0</td>\n",
              "      <td>5.0</td>\n",
              "    </tr>\n",
              "    <tr>\n",
              "      <td>2</td>\n",
              "      <td>Scotland</td>\n",
              "      <td>England</td>\n",
              "      <td>0</td>\n",
              "      <td>0</td>\n",
              "      <td>Friendly</td>\n",
              "      <td>29.0</td>\n",
              "      <td>10.0</td>\n",
              "    </tr>\n",
              "    <tr>\n",
              "      <td>3</td>\n",
              "      <td>Scotland</td>\n",
              "      <td>England</td>\n",
              "      <td>0</td>\n",
              "      <td>0</td>\n",
              "      <td>Friendly</td>\n",
              "      <td>25.0</td>\n",
              "      <td>8.0</td>\n",
              "    </tr>\n",
              "    <tr>\n",
              "      <td>4</td>\n",
              "      <td>Scotland</td>\n",
              "      <td>England</td>\n",
              "      <td>0</td>\n",
              "      <td>0</td>\n",
              "      <td>Friendly</td>\n",
              "      <td>24.0</td>\n",
              "      <td>11.0</td>\n",
              "    </tr>\n",
              "  </tbody>\n",
              "</table>\n",
              "</div>"
            ],
            "text/plain": [
              "  home_team away_team  home_score  away_score tournament  home_team raking  \\\n",
              "0  Scotland   England           0           0   Friendly              30.0   \n",
              "1  Scotland   England           0           0   Friendly              28.0   \n",
              "2  Scotland   England           0           0   Friendly              29.0   \n",
              "3  Scotland   England           0           0   Friendly              25.0   \n",
              "4  Scotland   England           0           0   Friendly              24.0   \n",
              "\n",
              "   away_team raking  \n",
              "0              11.0  \n",
              "1               5.0  \n",
              "2              10.0  \n",
              "3               8.0  \n",
              "4              11.0  "
            ]
          },
          "metadata": {
            "tags": []
          },
          "execution_count": 9
        }
      ]
    },
    {
      "cell_type": "code",
      "metadata": {
        "id": "cg90CNLRGNz1",
        "colab_type": "code",
        "colab": {},
        "outputId": "678357c0-be9d-4d99-ce3c-243a689dc17a"
      },
      "source": [
        "#Understanding our data types in our dataset\n",
        "both_ranking.info()"
      ],
      "execution_count": 0,
      "outputs": [
        {
          "output_type": "stream",
          "text": [
            "<class 'pandas.core.frame.DataFrame'>\n",
            "Int64Index: 1048575 entries, 0 to 1048574\n",
            "Data columns (total 7 columns):\n",
            "home_team           1048575 non-null object\n",
            "away_team           1048575 non-null object\n",
            "home_score          1048575 non-null int64\n",
            "away_score          1048575 non-null int64\n",
            "tournament          1048575 non-null object\n",
            "home_team raking    1048374 non-null float64\n",
            "away_team raking    1048316 non-null float64\n",
            "dtypes: float64(2), int64(2), object(3)\n",
            "memory usage: 64.0+ MB\n"
          ],
          "name": "stdout"
        }
      ]
    },
    {
      "cell_type": "code",
      "metadata": {
        "id": "PHylFmFnGNz4",
        "colab_type": "code",
        "colab": {},
        "outputId": "f5c1eee0-2424-4a72-8254-466cb88270dc"
      },
      "source": [
        "#converting categorical subsets into intergers through label encoding\n",
        "\n",
        "from sklearn import preprocessing\n",
        "le = preprocessing.LabelEncoder()\n",
        "# both_ranking['home_team'] = le.fit_transform(both_ranking['home_team'])\n",
        "# both_ranking['away_team']=le.fit_transform(both_ranking['away_team'])\n",
        "both_ranking['tournament']= le.fit_transform(both_ranking['tournament'])\n",
        "both_ranking.head()\n"
      ],
      "execution_count": 0,
      "outputs": [
        {
          "output_type": "execute_result",
          "data": {
            "text/html": [
              "<div>\n",
              "<style scoped>\n",
              "    .dataframe tbody tr th:only-of-type {\n",
              "        vertical-align: middle;\n",
              "    }\n",
              "\n",
              "    .dataframe tbody tr th {\n",
              "        vertical-align: top;\n",
              "    }\n",
              "\n",
              "    .dataframe thead th {\n",
              "        text-align: right;\n",
              "    }\n",
              "</style>\n",
              "<table border=\"1\" class=\"dataframe\">\n",
              "  <thead>\n",
              "    <tr style=\"text-align: right;\">\n",
              "      <th></th>\n",
              "      <th>home_team</th>\n",
              "      <th>away_team</th>\n",
              "      <th>home_score</th>\n",
              "      <th>away_score</th>\n",
              "      <th>tournament</th>\n",
              "      <th>home_team raking</th>\n",
              "      <th>away_team raking</th>\n",
              "    </tr>\n",
              "  </thead>\n",
              "  <tbody>\n",
              "    <tr>\n",
              "      <td>0</td>\n",
              "      <td>Scotland</td>\n",
              "      <td>England</td>\n",
              "      <td>0</td>\n",
              "      <td>0</td>\n",
              "      <td>18</td>\n",
              "      <td>30.0</td>\n",
              "      <td>11.0</td>\n",
              "    </tr>\n",
              "    <tr>\n",
              "      <td>1</td>\n",
              "      <td>Scotland</td>\n",
              "      <td>England</td>\n",
              "      <td>0</td>\n",
              "      <td>0</td>\n",
              "      <td>18</td>\n",
              "      <td>28.0</td>\n",
              "      <td>5.0</td>\n",
              "    </tr>\n",
              "    <tr>\n",
              "      <td>2</td>\n",
              "      <td>Scotland</td>\n",
              "      <td>England</td>\n",
              "      <td>0</td>\n",
              "      <td>0</td>\n",
              "      <td>18</td>\n",
              "      <td>29.0</td>\n",
              "      <td>10.0</td>\n",
              "    </tr>\n",
              "    <tr>\n",
              "      <td>3</td>\n",
              "      <td>Scotland</td>\n",
              "      <td>England</td>\n",
              "      <td>0</td>\n",
              "      <td>0</td>\n",
              "      <td>18</td>\n",
              "      <td>25.0</td>\n",
              "      <td>8.0</td>\n",
              "    </tr>\n",
              "    <tr>\n",
              "      <td>4</td>\n",
              "      <td>Scotland</td>\n",
              "      <td>England</td>\n",
              "      <td>0</td>\n",
              "      <td>0</td>\n",
              "      <td>18</td>\n",
              "      <td>24.0</td>\n",
              "      <td>11.0</td>\n",
              "    </tr>\n",
              "  </tbody>\n",
              "</table>\n",
              "</div>"
            ],
            "text/plain": [
              "  home_team away_team  home_score  away_score  tournament  home_team raking  \\\n",
              "0  Scotland   England           0           0          18              30.0   \n",
              "1  Scotland   England           0           0          18              28.0   \n",
              "2  Scotland   England           0           0          18              29.0   \n",
              "3  Scotland   England           0           0          18              25.0   \n",
              "4  Scotland   England           0           0          18              24.0   \n",
              "\n",
              "   away_team raking  \n",
              "0              11.0  \n",
              "1               5.0  \n",
              "2              10.0  \n",
              "3               8.0  \n",
              "4              11.0  "
            ]
          },
          "metadata": {
            "tags": []
          },
          "execution_count": 11
        }
      ]
    },
    {
      "cell_type": "code",
      "metadata": {
        "id": "oNju9xOSGNz8",
        "colab_type": "code",
        "colab": {},
        "outputId": "b6e5db43-804e-4a8d-b628-125ef7c5ab21"
      },
      "source": [
        "#checking for null values\n",
        "both_ranking.isnull().sum()"
      ],
      "execution_count": 0,
      "outputs": [
        {
          "output_type": "execute_result",
          "data": {
            "text/plain": [
              "home_team             0\n",
              "away_team             0\n",
              "home_score            0\n",
              "away_score            0\n",
              "tournament            0\n",
              "home_team raking    201\n",
              "away_team raking    259\n",
              "dtype: int64"
            ]
          },
          "metadata": {
            "tags": []
          },
          "execution_count": 12
        }
      ]
    },
    {
      "cell_type": "code",
      "metadata": {
        "id": "sJLnHZpOGNz_",
        "colab_type": "code",
        "colab": {}
      },
      "source": [
        "#deleting null values\n",
        "both_ranking = both_ranking.dropna()"
      ],
      "execution_count": 0,
      "outputs": []
    },
    {
      "cell_type": "code",
      "metadata": {
        "id": "_BcLtffDGN0C",
        "colab_type": "code",
        "colab": {},
        "outputId": "955db348-723e-48af-a612-77c51bb54764"
      },
      "source": [
        "both_ranking.isnull().sum()"
      ],
      "execution_count": 0,
      "outputs": [
        {
          "output_type": "execute_result",
          "data": {
            "text/plain": [
              "home_team           0\n",
              "away_team           0\n",
              "home_score          0\n",
              "away_score          0\n",
              "tournament          0\n",
              "home_team raking    0\n",
              "away_team raking    0\n",
              "dtype: int64"
            ]
          },
          "metadata": {
            "tags": []
          },
          "execution_count": 14
        }
      ]
    },
    {
      "cell_type": "markdown",
      "metadata": {
        "id": "zHCrHyKAGN0F",
        "colab_type": "text"
      },
      "source": [
        "# Approach 1: Polynomial approach\n",
        "## Model 1: Predict how many goals the home team scores."
      ]
    },
    {
      "cell_type": "code",
      "metadata": {
        "id": "IZ3cYkI7GN0G",
        "colab_type": "code",
        "colab": {}
      },
      "source": [
        "#diving our dataset into dependent and inpendent variables\n",
        "x = both_ranking[['home_team raking','away_team raking', 'tournament' ]]\n",
        "y = both_ranking['home_score']"
      ],
      "execution_count": 0,
      "outputs": []
    },
    {
      "cell_type": "code",
      "metadata": {
        "id": "pn6nDuV4GN0I",
        "colab_type": "code",
        "colab": {},
        "outputId": "9ed181be-1862-4cac-e88c-830efc73996e"
      },
      "source": [
        "#getting hints of multicolinearity using correlation test\n",
        "import seaborn as snb\n",
        "snb.heatmap(x.corr(), annot= True)\n",
        "correlations = x.corr()\n",
        "correlations"
      ],
      "execution_count": 0,
      "outputs": [
        {
          "output_type": "execute_result",
          "data": {
            "text/html": [
              "<div>\n",
              "<style scoped>\n",
              "    .dataframe tbody tr th:only-of-type {\n",
              "        vertical-align: middle;\n",
              "    }\n",
              "\n",
              "    .dataframe tbody tr th {\n",
              "        vertical-align: top;\n",
              "    }\n",
              "\n",
              "    .dataframe thead th {\n",
              "        text-align: right;\n",
              "    }\n",
              "</style>\n",
              "<table border=\"1\" class=\"dataframe\">\n",
              "  <thead>\n",
              "    <tr style=\"text-align: right;\">\n",
              "      <th></th>\n",
              "      <th>home_team raking</th>\n",
              "      <th>away_team raking</th>\n",
              "      <th>tournament</th>\n",
              "    </tr>\n",
              "  </thead>\n",
              "  <tbody>\n",
              "    <tr>\n",
              "      <td>home_team raking</td>\n",
              "      <td>1.000000</td>\n",
              "      <td>0.034272</td>\n",
              "      <td>0.008650</td>\n",
              "    </tr>\n",
              "    <tr>\n",
              "      <td>away_team raking</td>\n",
              "      <td>0.034272</td>\n",
              "      <td>1.000000</td>\n",
              "      <td>0.003639</td>\n",
              "    </tr>\n",
              "    <tr>\n",
              "      <td>tournament</td>\n",
              "      <td>0.008650</td>\n",
              "      <td>0.003639</td>\n",
              "      <td>1.000000</td>\n",
              "    </tr>\n",
              "  </tbody>\n",
              "</table>\n",
              "</div>"
            ],
            "text/plain": [
              "                  home_team raking  away_team raking  tournament\n",
              "home_team raking          1.000000          0.034272    0.008650\n",
              "away_team raking          0.034272          1.000000    0.003639\n",
              "tournament                0.008650          0.003639    1.000000"
            ]
          },
          "metadata": {
            "tags": []
          },
          "execution_count": 16
        },
        {
          "output_type": "display_data",
          "data": {
            "image/png": "[encoded data removed]",
            "text/plain": [
              "<Figure size 432x288 with 2 Axes>"
            ]
          },
          "metadata": {
            "tags": [],
            "needs_background": "light"
          }
        }
      ]
    },
    {
      "cell_type": "markdown",
      "metadata": {
        "id": "qrSNSEqrGN0K",
        "colab_type": "text"
      },
      "source": [
        "there is no correlation between indpendent variables thus suitable for linear regression."
      ]
    },
    {
      "cell_type": "code",
      "metadata": {
        "id": "BAutpUUSGN0L",
        "colab_type": "code",
        "colab": {},
        "outputId": "7d7557c5-a932-4908-b2a4-2888b7353319"
      },
      "source": [
        "#test for multicollinearity using variance inflation factor\n",
        "\n",
        "pd.DataFrame(np.linalg.inv(correlations.values), index = correlations.index, columns=correlations.columns)"
      ],
      "execution_count": 0,
      "outputs": [
        {
          "output_type": "execute_result",
          "data": {
            "text/html": [
              "<div>\n",
              "<style scoped>\n",
              "    .dataframe tbody tr th:only-of-type {\n",
              "        vertical-align: middle;\n",
              "    }\n",
              "\n",
              "    .dataframe tbody tr th {\n",
              "        vertical-align: top;\n",
              "    }\n",
              "\n",
              "    .dataframe thead th {\n",
              "        text-align: right;\n",
              "    }\n",
              "</style>\n",
              "<table border=\"1\" class=\"dataframe\">\n",
              "  <thead>\n",
              "    <tr style=\"text-align: right;\">\n",
              "      <th></th>\n",
              "      <th>home_team raking</th>\n",
              "      <th>away_team raking</th>\n",
              "      <th>tournament</th>\n",
              "    </tr>\n",
              "  </thead>\n",
              "  <tbody>\n",
              "    <tr>\n",
              "      <td>home_team raking</td>\n",
              "      <td>1.001249</td>\n",
              "      <td>-0.034284</td>\n",
              "      <td>-0.008536</td>\n",
              "    </tr>\n",
              "    <tr>\n",
              "      <td>away_team raking</td>\n",
              "      <td>-0.034284</td>\n",
              "      <td>1.001187</td>\n",
              "      <td>-0.003347</td>\n",
              "    </tr>\n",
              "    <tr>\n",
              "      <td>tournament</td>\n",
              "      <td>-0.008536</td>\n",
              "      <td>-0.003347</td>\n",
              "      <td>1.000086</td>\n",
              "    </tr>\n",
              "  </tbody>\n",
              "</table>\n",
              "</div>"
            ],
            "text/plain": [
              "                  home_team raking  away_team raking  tournament\n",
              "home_team raking          1.001249         -0.034284   -0.008536\n",
              "away_team raking         -0.034284          1.001187   -0.003347\n",
              "tournament               -0.008536         -0.003347    1.000086"
            ]
          },
          "metadata": {
            "tags": []
          },
          "execution_count": 55
        }
      ]
    },
    {
      "cell_type": "markdown",
      "metadata": {
        "id": "MI60iuO6GN0O",
        "colab_type": "text"
      },
      "source": [
        "**vif** reveals a score of less than 5 whcih could suggest possible multicolinearity in our indpendent variables.However, since we are more focussed in making prediction and not the contribution of each feature to the dependent variable, we will ignore the multicolinearity.\n"
      ]
    },
    {
      "cell_type": "code",
      "metadata": {
        "id": "i-z1KBRwGN0O",
        "colab_type": "code",
        "colab": {}
      },
      "source": [
        "#spliting our dataset into train and test\n",
        "from sklearn.model_selection import train_test_split\n",
        "x_train,x_test,y_train,y_test = train_test_split(x,y, test_size = 0.6, random_state =0)"
      ],
      "execution_count": 0,
      "outputs": []
    },
    {
      "cell_type": "markdown",
      "metadata": {
        "id": "aU2vp4zYGN0R",
        "colab_type": "text"
      },
      "source": [
        "this is for learning purpose, a huge dataset for training overwhelms my pc thus ,  i split the dataset into almost equal subsets "
      ]
    },
    {
      "cell_type": "code",
      "metadata": {
        "id": "tyHX5OWSGN0R",
        "colab_type": "code",
        "colab": {},
        "outputId": "13d6bfa2-e8b7-4e6a-e0df-452cc641105c"
      },
      "source": [
        "#Fiting the polynomial Regression into the dataset\n",
        "\n",
        "from sklearn.preprocessing import PolynomialFeatures\n",
        "from sklearn.linear_model import LinearRegression\n",
        "LinReg = LinearRegression()\n",
        "#transforming features\n",
        "\n",
        "poly_reg = PolynomialFeatures(degree = 4)\n",
        "xp_train = poly_reg.fit_transform(x_train)\n",
        "xp_test  = poly_reg.fit_transform(x_test)\n",
        "LinReg.fit(xp_train, y_train)\n"
      ],
      "execution_count": 0,
      "outputs": [
        {
          "output_type": "execute_result",
          "data": {
            "text/plain": [
              "LinearRegression(copy_X=True, fit_intercept=True, n_jobs=None, normalize=False)"
            ]
          },
          "metadata": {
            "tags": []
          },
          "execution_count": 83
        }
      ]
    },
    {
      "cell_type": "markdown",
      "metadata": {
        "id": "Sar6_X8hGN0X",
        "colab_type": "text"
      },
      "source": [
        "We can improve the accuracy of our model by adjusting the degree"
      ]
    },
    {
      "cell_type": "code",
      "metadata": {
        "id": "qP2B3an8GN0Y",
        "colab_type": "code",
        "colab": {},
        "outputId": "18e65474-c6eb-493e-874d-b14aabe9fec9"
      },
      "source": [
        "#predicting with the model\n",
        "\n",
        "from sklearn import metrics\n",
        "y_pred = LinReg.predict(xp_test)\n",
        "rmse_value =  np.sqrt(metrics.mean_squared_error(y_test, y_pred))\n",
        "print(\"root mean square  error:\"+str(rmse_value))"
      ],
      "execution_count": 0,
      "outputs": [
        {
          "output_type": "stream",
          "text": [
            "root mean square  error:1.6771155211426576\n"
          ],
          "name": "stdout"
        }
      ]
    },
    {
      "cell_type": "markdown",
      "metadata": {
        "id": "Q490sFrmGN0b",
        "colab_type": "raw"
      },
      "source": [
        "#residual plots\n",
        "residuals =np.subtract(y_pred, y_test)\n",
        "pd.DataFrame(residuals).describe()\n"
      ]
    },
    {
      "cell_type": "code",
      "metadata": {
        "id": "qoNJYLVvGN0d",
        "colab_type": "code",
        "colab": {},
        "outputId": "f6288275-4fea-409a-e780-77ede32a4a90"
      },
      "source": [
        "print(residuals.mean())"
      ],
      "execution_count": 0,
      "outputs": [
        {
          "output_type": "stream",
          "text": [
            "-0.007940444634676087\n"
          ],
          "name": "stdout"
        }
      ]
    },
    {
      "cell_type": "code",
      "metadata": {
        "id": "d4f3JNsaGN0h",
        "colab_type": "code",
        "colab": {},
        "outputId": "4f172a28-7046-4476-c42c-98d218cee80e"
      },
      "source": [
        "import matplotlib.pyplot as plt\n",
        "plt.scatter(y_pred,residuals, color = 'green' )\n",
        "plt.axhline(y= residuals.mean(), color='red', linewidth=1)\n",
        "plt.ylabel('residual')\n",
        "plt.xlabel('fitted values')\n"
      ],
      "execution_count": 0,
      "outputs": [
        {
          "output_type": "execute_result",
          "data": {
            "text/plain": [
              "Text(0.5, 0, 'fitted values')"
            ]
          },
          "metadata": {
            "tags": []
          },
          "execution_count": 86
        },
        {
          "output_type": "display_data",
          "data": {
            "image/png": "[encoded data removed]",
            "text/plain": [
              "<Figure size 432x288 with 1 Axes>"
            ]
          },
          "metadata": {
            "tags": [],
            "needs_background": "light"
          }
        }
      ]
    },
    {
      "cell_type": "markdown",
      "metadata": {
        "id": "VBH2x3dfGN0j",
        "colab_type": "text"
      },
      "source": [
        "our minimum and maximum values appear to be evenly distant from the mean indicating possible unavailability of outliers'\n",
        "nevertheless our mean is close to 0, indicating that we are fairly correctly."
      ]
    },
    {
      "cell_type": "code",
      "metadata": {
        "id": "wx0STmYtGN0k",
        "colab_type": "code",
        "colab": {},
        "outputId": "83005417-07cd-46eb-b520-4c42152f0fba"
      },
      "source": [
        "import scipy as sp\n",
        "\n",
        "test_result, p_value = sp.stats.bartlett(y_pred, residuals)\n",
        "degree_of_freedom = len(y_pred)-1\n",
        "probability = 1 - p_value\n",
        "\n",
        "critical_value = sp.stats.chi2.ppf(probability, degree_of_freedom)\n",
        "print(critical_value)\n",
        "\n",
        "if (test_result > critical_value):\n",
        "  print('the variances are unequal, and the model should be reassessed')\n",
        "else:\n",
        "  print('the variances are homogeneous!')\n"
      ],
      "execution_count": 0,
      "outputs": [
        {
          "output_type": "stream",
          "text": [
            "inf\n",
            "the variances are homogeneous!\n"
          ],
          "name": "stdout"
        }
      ]
    },
    {
      "cell_type": "markdown",
      "metadata": {
        "id": "Q7e2E25lGN0n",
        "colab_type": "text"
      },
      "source": [
        "## cross validation"
      ]
    },
    {
      "cell_type": "code",
      "metadata": {
        "id": "zztxQ2dtGN0n",
        "colab_type": "code",
        "colab": {}
      },
      "source": [
        "from sklearn.model_selection import KFold\n",
        "from sklearn import metrics\n",
        "\n",
        "folds  = KFold(n_splits = 5)\n",
        "RMSES = []\n",
        "count = 1\n",
        "\n",
        "for train_index, test_index in folds.split(x):\n",
        "  print('\\nTraining model ' + str(count))\n",
        "x_train, x_test = x[train_index], x[train_index]\n",
        "y_train, y_train = y[train_index], y[train_index]\n",
        "\n",
        "\n",
        "#fiting the model to our dataset\n",
        "\n",
        "X_train = poly_reg.fit_transform(x_train)\n",
        "X_test = poly_reg.fit_transform(x_test)\n",
        "\n",
        "LinReg.fit(X_train, y_train)\n",
        "#using the model for prediction\n",
        "\n",
        "y_pred =LinReg.predict(X_test)\n",
        "rsme_value = np.substract(y_pred, y_test)\n",
        "RMSES.append(rsme_value)\n",
        "print('Model ' + str(count) + ' Root Mean Squared Error:',rmse_value)\n",
        "count = count + 1\n",
        "\n"
      ],
      "execution_count": 0,
      "outputs": []
    },
    {
      "cell_type": "markdown",
      "metadata": {
        "id": "m8NxdabeGN0p",
        "colab_type": "text"
      },
      "source": [
        "# Model 2: Predict how many goals the away team scores."
      ]
    },
    {
      "cell_type": "code",
      "metadata": {
        "id": "BfUFtO76GN0q",
        "colab_type": "code",
        "colab": {}
      },
      "source": [
        "#diving our dataset into dependent and inpendent variables\n",
        "x = both_ranking[['home_team raking','away_team raking', 'tournament' ]]\n",
        "y = both_ranking['away_score']"
      ],
      "execution_count": 0,
      "outputs": []
    },
    {
      "cell_type": "code",
      "metadata": {
        "id": "GQwWSao3GN0v",
        "colab_type": "code",
        "colab": {}
      },
      "source": [
        "#spliting our dataset into train and test\n",
        "from sklearn.model_selection import train_test_split\n",
        "x_train,x_test,y_train,y_test = train_test_split(x,y, test_size = 0.6, random_state =0)"
      ],
      "execution_count": 0,
      "outputs": []
    },
    {
      "cell_type": "code",
      "metadata": {
        "id": "PfNCrhKJGN0x",
        "colab_type": "code",
        "colab": {},
        "outputId": "4ef3ddb8-4e07-4c8b-9a98-9dcff2caf771"
      },
      "source": [
        "#Fiting the polynomial Regression into the dataset\n",
        "\n",
        "poly_reg = PolynomialFeatures(degree = 4)\n",
        "xp_train = poly_reg.fit_transform(x_train)\n",
        "xp_test  = poly_reg.fit_transform(x_test)\n",
        "LinReg.fit(xp_train, y_train)"
      ],
      "execution_count": 0,
      "outputs": [
        {
          "output_type": "execute_result",
          "data": {
            "text/plain": [
              "LinearRegression(copy_X=True, fit_intercept=True, n_jobs=None, normalize=False)"
            ]
          },
          "metadata": {
            "tags": []
          },
          "execution_count": 76
        }
      ]
    },
    {
      "cell_type": "code",
      "metadata": {
        "id": "71Y8MU9lGN01",
        "colab_type": "code",
        "colab": {}
      },
      "source": [
        "# =predicting with the model\n",
        "y_pred = LinReg.predict(xp_test)\n"
      ],
      "execution_count": 0,
      "outputs": []
    },
    {
      "cell_type": "code",
      "metadata": {
        "id": "0tGEFVzHGN05",
        "colab_type": "code",
        "colab": {},
        "outputId": "f93982d1-c1ba-4f36-e9da-5b51db067a94"
      },
      "source": [
        "#computing the root mean square error\n",
        "\n",
        "y_pred = LinReg.predict(xp_test)\n",
        "rmse_value =  np.sqrt(metrics.mean_squared_error(y_test, y_pred))\n",
        "print(\"root mean square  error:\"+str(rmse_value))"
      ],
      "execution_count": 0,
      "outputs": [
        {
          "output_type": "stream",
          "text": [
            "root mean square  error:1.6771155211426576\n"
          ],
          "name": "stdout"
        }
      ]
    },
    {
      "cell_type": "code",
      "metadata": {
        "id": "6BxPdHY9GN0_",
        "colab_type": "code",
        "colab": {},
        "outputId": "16edfded-00c9-4d82-ead9-88fbf5d96abd"
      },
      "source": [
        "#residual plots\n",
        "\n",
        "residuals =np.subtract(y_pred, y_test)\n",
        "pd.DataFrame(residuals).describe()\n"
      ],
      "execution_count": 0,
      "outputs": [
        {
          "output_type": "execute_result",
          "data": {
            "text/html": [
              "<div>\n",
              "<style scoped>\n",
              "    .dataframe tbody tr th:only-of-type {\n",
              "        vertical-align: middle;\n",
              "    }\n",
              "\n",
              "    .dataframe tbody tr th {\n",
              "        vertical-align: top;\n",
              "    }\n",
              "\n",
              "    .dataframe thead th {\n",
              "        text-align: right;\n",
              "    }\n",
              "</style>\n",
              "<table border=\"1\" class=\"dataframe\">\n",
              "  <thead>\n",
              "    <tr style=\"text-align: right;\">\n",
              "      <th></th>\n",
              "      <th>away_score</th>\n",
              "    </tr>\n",
              "  </thead>\n",
              "  <tbody>\n",
              "    <tr>\n",
              "      <td>count</td>\n",
              "      <td>628869.000000</td>\n",
              "    </tr>\n",
              "    <tr>\n",
              "      <td>mean</td>\n",
              "      <td>-0.007940</td>\n",
              "    </tr>\n",
              "    <tr>\n",
              "      <td>std</td>\n",
              "      <td>1.677098</td>\n",
              "    </tr>\n",
              "    <tr>\n",
              "      <td>min</td>\n",
              "      <td>-13.361984</td>\n",
              "    </tr>\n",
              "    <tr>\n",
              "      <td>25%</td>\n",
              "      <td>-0.948663</td>\n",
              "    </tr>\n",
              "    <tr>\n",
              "      <td>50%</td>\n",
              "      <td>0.420678</td>\n",
              "    </tr>\n",
              "    <tr>\n",
              "      <td>75%</td>\n",
              "      <td>1.029581</td>\n",
              "    </tr>\n",
              "    <tr>\n",
              "      <td>max</td>\n",
              "      <td>3.629259</td>\n",
              "    </tr>\n",
              "  </tbody>\n",
              "</table>\n",
              "</div>"
            ],
            "text/plain": [
              "          away_score\n",
              "count  628869.000000\n",
              "mean       -0.007940\n",
              "std         1.677098\n",
              "min       -13.361984\n",
              "25%        -0.948663\n",
              "50%         0.420678\n",
              "75%         1.029581\n",
              "max         3.629259"
            ]
          },
          "metadata": {
            "tags": []
          },
          "execution_count": 79
        }
      ]
    },
    {
      "cell_type": "code",
      "metadata": {
        "id": "808OIzZyGN1B",
        "colab_type": "code",
        "colab": {},
        "outputId": "4b734788-6df0-4bbd-ba60-ad18d7048720"
      },
      "source": [
        "residuals.mean()"
      ],
      "execution_count": 0,
      "outputs": [
        {
          "output_type": "execute_result",
          "data": {
            "text/plain": [
              "-0.007940444634676087"
            ]
          },
          "metadata": {
            "tags": []
          },
          "execution_count": 80
        }
      ]
    },
    {
      "cell_type": "code",
      "metadata": {
        "id": "e9D5WPPlGN1D",
        "colab_type": "code",
        "colab": {},
        "outputId": "0d4d3071-4538-43cf-c8b1-467d721f657e"
      },
      "source": [
        "import matplotlib.pyplot as plt\n",
        "plt.scatter(y_pred,residuals, color = 'green' )\n",
        "plt.axhline(y= residuals.mean(), color='red', linewidth=1)\n",
        "plt.ylabel('residual')\n",
        "plt.xlabel('fitted values')"
      ],
      "execution_count": 0,
      "outputs": [
        {
          "output_type": "execute_result",
          "data": {
            "text/plain": [
              "Text(0.5, 0, 'fitted values')"
            ]
          },
          "metadata": {
            "tags": []
          },
          "execution_count": 81
        },
        {
          "output_type": "display_data",
          "data": {
            "image/png": "[encoded data removed]",
            "text/plain": [
              "<Figure size 432x288 with 1 Axes>"
            ]
          },
          "metadata": {
            "tags": [],
            "needs_background": "light"
          }
        }
      ]
    },
    {
      "cell_type": "markdown",
      "metadata": {
        "id": "LFGNTw18GN1F",
        "colab_type": "text"
      },
      "source": [
        "# Approach 2: Logistic approach\n",
        "\n"
      ]
    },
    {
      "cell_type": "code",
      "metadata": {
        "id": "GkkEoZuEGN1F",
        "colab_type": "code",
        "colab": {}
      },
      "source": [
        "# Feature Engineering: Figure out from the home team’s perspective if the game is a Win, Lose or Draw (W, L, D)\n",
        "\n",
        "def assign_status():\n",
        "    both_ranking['diff']= both_ranking[\"home_score\"] - both_ranking[\"away_score\"]\n",
        "    status = []\n",
        "    for agg_score in both_ranking['diff']:\n",
        "            if agg_score>0:\n",
        "                status.append('win')\n",
        "\n",
        "            elif agg_score<0:\n",
        "                status.append('loss')\n",
        "            else:\n",
        "                status.append('draw')\n",
        "    both_ranking['status']= status\n",
        "            \n"
      ],
      "execution_count": 0,
      "outputs": []
    },
    {
      "cell_type": "code",
      "metadata": {
        "id": "1VLWuaNcGN1H",
        "colab_type": "code",
        "colab": {}
      },
      "source": [
        "assign_status()   "
      ],
      "execution_count": 0,
      "outputs": []
    },
    {
      "cell_type": "code",
      "metadata": {
        "id": "Cx2ToLZuGN1L",
        "colab_type": "code",
        "colab": {},
        "outputId": "5ca87287-a1cd-4b22-8e23-59855d2eac45"
      },
      "source": [
        "both_ranking.sample(8)"
      ],
      "execution_count": 0,
      "outputs": [
        {
          "output_type": "execute_result",
          "data": {
            "text/html": [
              "<div>\n",
              "<style scoped>\n",
              "    .dataframe tbody tr th:only-of-type {\n",
              "        vertical-align: middle;\n",
              "    }\n",
              "\n",
              "    .dataframe tbody tr th {\n",
              "        vertical-align: top;\n",
              "    }\n",
              "\n",
              "    .dataframe thead th {\n",
              "        text-align: right;\n",
              "    }\n",
              "</style>\n",
              "<table border=\"1\" class=\"dataframe\">\n",
              "  <thead>\n",
              "    <tr style=\"text-align: right;\">\n",
              "      <th></th>\n",
              "      <th>home_team</th>\n",
              "      <th>away_team</th>\n",
              "      <th>home_score</th>\n",
              "      <th>away_score</th>\n",
              "      <th>tournament</th>\n",
              "      <th>home_team raking</th>\n",
              "      <th>away_team raking</th>\n",
              "      <th>diff</th>\n",
              "      <th>status</th>\n",
              "    </tr>\n",
              "  </thead>\n",
              "  <tbody>\n",
              "    <tr>\n",
              "      <td>189738</td>\n",
              "      <td>Guatemala</td>\n",
              "      <td>Mexico</td>\n",
              "      <td>1</td>\n",
              "      <td>4</td>\n",
              "      <td>18</td>\n",
              "      <td>58.0</td>\n",
              "      <td>15.0</td>\n",
              "      <td>-3</td>\n",
              "      <td>loss</td>\n",
              "    </tr>\n",
              "    <tr>\n",
              "      <td>204369</td>\n",
              "      <td>Finland</td>\n",
              "      <td>Poland</td>\n",
              "      <td>5</td>\n",
              "      <td>3</td>\n",
              "      <td>18</td>\n",
              "      <td>43.0</td>\n",
              "      <td>26.0</td>\n",
              "      <td>2</td>\n",
              "      <td>win</td>\n",
              "    </tr>\n",
              "    <tr>\n",
              "      <td>717466</td>\n",
              "      <td>Republic of Ireland</td>\n",
              "      <td>Portugal</td>\n",
              "      <td>0</td>\n",
              "      <td>2</td>\n",
              "      <td>18</td>\n",
              "      <td>14.0</td>\n",
              "      <td>61.0</td>\n",
              "      <td>-2</td>\n",
              "      <td>loss</td>\n",
              "    </tr>\n",
              "    <tr>\n",
              "      <td>60867</td>\n",
              "      <td>Austria</td>\n",
              "      <td>Germany</td>\n",
              "      <td>3</td>\n",
              "      <td>2</td>\n",
              "      <td>18</td>\n",
              "      <td>46.0</td>\n",
              "      <td>2.0</td>\n",
              "      <td>1</td>\n",
              "      <td>win</td>\n",
              "    </tr>\n",
              "    <tr>\n",
              "      <td>1025094</td>\n",
              "      <td>Germany</td>\n",
              "      <td>Norway</td>\n",
              "      <td>2</td>\n",
              "      <td>0</td>\n",
              "      <td>18</td>\n",
              "      <td>14.0</td>\n",
              "      <td>198.0</td>\n",
              "      <td>2</td>\n",
              "      <td>win</td>\n",
              "    </tr>\n",
              "    <tr>\n",
              "      <td>209523</td>\n",
              "      <td>Brazil</td>\n",
              "      <td>Paraguay</td>\n",
              "      <td>2</td>\n",
              "      <td>0</td>\n",
              "      <td>18</td>\n",
              "      <td>1.0</td>\n",
              "      <td>26.0</td>\n",
              "      <td>2</td>\n",
              "      <td>win</td>\n",
              "    </tr>\n",
              "    <tr>\n",
              "      <td>510965</td>\n",
              "      <td>Norway</td>\n",
              "      <td>Finland</td>\n",
              "      <td>0</td>\n",
              "      <td>2</td>\n",
              "      <td>21</td>\n",
              "      <td>47.0</td>\n",
              "      <td>50.0</td>\n",
              "      <td>-2</td>\n",
              "      <td>loss</td>\n",
              "    </tr>\n",
              "    <tr>\n",
              "      <td>904858</td>\n",
              "      <td>Denmark</td>\n",
              "      <td>Norway</td>\n",
              "      <td>1</td>\n",
              "      <td>3</td>\n",
              "      <td>21</td>\n",
              "      <td>28.0</td>\n",
              "      <td>178.0</td>\n",
              "      <td>-2</td>\n",
              "      <td>loss</td>\n",
              "    </tr>\n",
              "  </tbody>\n",
              "</table>\n",
              "</div>"
            ],
            "text/plain": [
              "                   home_team away_team  home_score  away_score  tournament  \\\n",
              "189738             Guatemala    Mexico           1           4          18   \n",
              "204369               Finland    Poland           5           3          18   \n",
              "717466   Republic of Ireland  Portugal           0           2          18   \n",
              "60867                Austria   Germany           3           2          18   \n",
              "1025094              Germany    Norway           2           0          18   \n",
              "209523                Brazil  Paraguay           2           0          18   \n",
              "510965                Norway   Finland           0           2          21   \n",
              "904858               Denmark    Norway           1           3          21   \n",
              "\n",
              "         home_team raking  away_team raking  diff status  \n",
              "189738               58.0              15.0    -3   loss  \n",
              "204369               43.0              26.0     2    win  \n",
              "717466               14.0              61.0    -2   loss  \n",
              "60867                46.0               2.0     1    win  \n",
              "1025094              14.0             198.0     2    win  \n",
              "209523                1.0              26.0     2    win  \n",
              "510965               47.0              50.0    -2   loss  \n",
              "904858               28.0             178.0    -2   loss  "
            ]
          },
          "metadata": {
            "tags": []
          },
          "execution_count": 33
        }
      ]
    },
    {
      "cell_type": "code",
      "metadata": {
        "id": "ijJDXDFlGN1P",
        "colab_type": "code",
        "colab": {},
        "outputId": "beafda2f-84c0-4bd1-d023-d7dc0c5a2e0c"
      },
      "source": [
        "#understanding the datatypes of our dataset\n",
        "both_ranking.info()"
      ],
      "execution_count": 0,
      "outputs": [
        {
          "output_type": "stream",
          "text": [
            "<class 'pandas.core.frame.DataFrame'>\n",
            "Int64Index: 1048115 entries, 0 to 1048574\n",
            "Data columns (total 9 columns):\n",
            "home_team           1048115 non-null object\n",
            "away_team           1048115 non-null object\n",
            "home_score          1048115 non-null int64\n",
            "away_score          1048115 non-null int64\n",
            "tournament          1048115 non-null int32\n",
            "home_team raking    1048115 non-null float64\n",
            "away_team raking    1048115 non-null float64\n",
            "diff                1048115 non-null int64\n",
            "status              1048115 non-null object\n",
            "dtypes: float64(2), int32(1), int64(3), object(3)\n",
            "memory usage: 76.0+ MB\n"
          ],
          "name": "stdout"
        }
      ]
    },
    {
      "cell_type": "code",
      "metadata": {
        "id": "4YD7woIMGN1T",
        "colab_type": "code",
        "colab": {}
      },
      "source": [
        "#label encoding\"status\"\n",
        "\n",
        "both_ranking['status'] = le.fit_transform(both_ranking['status'])"
      ],
      "execution_count": 0,
      "outputs": []
    },
    {
      "cell_type": "code",
      "metadata": {
        "scrolled": true,
        "id": "mMHymS0sGN1V",
        "colab_type": "code",
        "colab": {},
        "outputId": "b36e06cb-2fe8-4ace-b3c6-8948c94e3e0b"
      },
      "source": [
        "both_ranking.sample(8)"
      ],
      "execution_count": 0,
      "outputs": [
        {
          "output_type": "execute_result",
          "data": {
            "text/html": [
              "<div>\n",
              "<style scoped>\n",
              "    .dataframe tbody tr th:only-of-type {\n",
              "        vertical-align: middle;\n",
              "    }\n",
              "\n",
              "    .dataframe tbody tr th {\n",
              "        vertical-align: top;\n",
              "    }\n",
              "\n",
              "    .dataframe thead th {\n",
              "        text-align: right;\n",
              "    }\n",
              "</style>\n",
              "<table border=\"1\" class=\"dataframe\">\n",
              "  <thead>\n",
              "    <tr style=\"text-align: right;\">\n",
              "      <th></th>\n",
              "      <th>home_team</th>\n",
              "      <th>away_team</th>\n",
              "      <th>home_score</th>\n",
              "      <th>away_score</th>\n",
              "      <th>tournament</th>\n",
              "      <th>home_team raking</th>\n",
              "      <th>away_team raking</th>\n",
              "      <th>diff</th>\n",
              "      <th>status</th>\n",
              "    </tr>\n",
              "  </thead>\n",
              "  <tbody>\n",
              "    <tr>\n",
              "      <td>991508</td>\n",
              "      <td>Egypt</td>\n",
              "      <td>Bulgaria</td>\n",
              "      <td>1</td>\n",
              "      <td>0</td>\n",
              "      <td>18</td>\n",
              "      <td>44.0</td>\n",
              "      <td>176.0</td>\n",
              "      <td>1</td>\n",
              "      <td>2</td>\n",
              "    </tr>\n",
              "    <tr>\n",
              "      <td>625072</td>\n",
              "      <td>Chile</td>\n",
              "      <td>Peru</td>\n",
              "      <td>1</td>\n",
              "      <td>0</td>\n",
              "      <td>5</td>\n",
              "      <td>47.0</td>\n",
              "      <td>6.0</td>\n",
              "      <td>1</td>\n",
              "      <td>2</td>\n",
              "    </tr>\n",
              "    <tr>\n",
              "      <td>836693</td>\n",
              "      <td>Chile</td>\n",
              "      <td>United States</td>\n",
              "      <td>5</td>\n",
              "      <td>2</td>\n",
              "      <td>16</td>\n",
              "      <td>21.0</td>\n",
              "      <td>154.0</td>\n",
              "      <td>3</td>\n",
              "      <td>2</td>\n",
              "    </tr>\n",
              "    <tr>\n",
              "      <td>5252</td>\n",
              "      <td>Wales</td>\n",
              "      <td>Scotland</td>\n",
              "      <td>1</td>\n",
              "      <td>5</td>\n",
              "      <td>18</td>\n",
              "      <td>52.0</td>\n",
              "      <td>64.0</td>\n",
              "      <td>-4</td>\n",
              "      <td>1</td>\n",
              "    </tr>\n",
              "    <tr>\n",
              "      <td>289712</td>\n",
              "      <td>Uruguay</td>\n",
              "      <td>Argentina</td>\n",
              "      <td>0</td>\n",
              "      <td>1</td>\n",
              "      <td>9</td>\n",
              "      <td>18.0</td>\n",
              "      <td>116.0</td>\n",
              "      <td>-1</td>\n",
              "      <td>1</td>\n",
              "    </tr>\n",
              "    <tr>\n",
              "      <td>899228</td>\n",
              "      <td>Fiji</td>\n",
              "      <td>New Zealand</td>\n",
              "      <td>0</td>\n",
              "      <td>9</td>\n",
              "      <td>18</td>\n",
              "      <td>140.0</td>\n",
              "      <td>172.0</td>\n",
              "      <td>-9</td>\n",
              "      <td>1</td>\n",
              "    </tr>\n",
              "    <tr>\n",
              "      <td>774806</td>\n",
              "      <td>Trinidad and Tobago</td>\n",
              "      <td>Haiti</td>\n",
              "      <td>0</td>\n",
              "      <td>0</td>\n",
              "      <td>18</td>\n",
              "      <td>69.0</td>\n",
              "      <td>19.0</td>\n",
              "      <td>0</td>\n",
              "      <td>0</td>\n",
              "    </tr>\n",
              "    <tr>\n",
              "      <td>735310</td>\n",
              "      <td>Romania</td>\n",
              "      <td>Poland</td>\n",
              "      <td>0</td>\n",
              "      <td>0</td>\n",
              "      <td>18</td>\n",
              "      <td>3.0</td>\n",
              "      <td>38.0</td>\n",
              "      <td>0</td>\n",
              "      <td>0</td>\n",
              "    </tr>\n",
              "  </tbody>\n",
              "</table>\n",
              "</div>"
            ],
            "text/plain": [
              "                  home_team      away_team  home_score  away_score  \\\n",
              "991508                Egypt       Bulgaria           1           0   \n",
              "625072                Chile           Peru           1           0   \n",
              "836693                Chile  United States           5           2   \n",
              "5252                  Wales       Scotland           1           5   \n",
              "289712              Uruguay      Argentina           0           1   \n",
              "899228                 Fiji    New Zealand           0           9   \n",
              "774806  Trinidad and Tobago          Haiti           0           0   \n",
              "735310              Romania         Poland           0           0   \n",
              "\n",
              "        tournament  home_team raking  away_team raking  diff  status  \n",
              "991508          18              44.0             176.0     1       2  \n",
              "625072           5              47.0               6.0     1       2  \n",
              "836693          16              21.0             154.0     3       2  \n",
              "5252            18              52.0              64.0    -4       1  \n",
              "289712           9              18.0             116.0    -1       1  \n",
              "899228          18             140.0             172.0    -9       1  \n",
              "774806          18              69.0              19.0     0       0  \n",
              "735310          18               3.0              38.0     0       0  "
            ]
          },
          "metadata": {
            "tags": []
          },
          "execution_count": 36
        }
      ]
    },
    {
      "cell_type": "code",
      "metadata": {
        "id": "SX-z5TD0GN1X",
        "colab_type": "code",
        "colab": {}
      },
      "source": [
        "#diving our dataset into dependent and inpendent variables\n",
        "x = both_ranking[['home_team raking','away_team raking', 'tournament']]\n",
        "y = both_ranking['status']"
      ],
      "execution_count": 0,
      "outputs": []
    },
    {
      "cell_type": "code",
      "metadata": {
        "id": "uhQ7hK0HGN1Y",
        "colab_type": "code",
        "colab": {}
      },
      "source": [
        "# Splitting our dataset\n",
        "x_train,x_test,y_train,y_test = train_test_split(x,y, test_size = 0.2, random_state = 0)\n"
      ],
      "execution_count": 0,
      "outputs": []
    },
    {
      "cell_type": "code",
      "metadata": {
        "id": "3j7uhzekGN1b",
        "colab_type": "code",
        "colab": {}
      },
      "source": [
        "##feature scaling\n",
        "from sklearn.preprocessing import StandardScaler\n",
        "sc = StandardScaler()\n",
        "x_train = sc.fit_transform(x_train)\n",
        "x_test = sc.fit_transform(x_test)\n"
      ],
      "execution_count": 0,
      "outputs": []
    },
    {
      "cell_type": "code",
      "metadata": {
        "id": "wfxTqKSZGN1n",
        "colab_type": "code",
        "colab": {},
        "outputId": "0274f6c8-b281-4ce2-aab1-31dcac73aaa4"
      },
      "source": [
        "#fiting regression model to our dataset\n",
        "from sklearn.linear_model import LogisticRegression\n",
        "LogRes = LogisticRegression()\n",
        "LogRes.fit(x_train, y_train)"
      ],
      "execution_count": 0,
      "outputs": [
        {
          "output_type": "stream",
          "text": [
            "C:\\Users\\Gideon Kipkorir\\Anaconda3\\lib\\site-packages\\sklearn\\linear_model\\logistic.py:432: FutureWarning: Default solver will be changed to 'lbfgs' in 0.22. Specify a solver to silence this warning.\n",
            "  FutureWarning)\n",
            "C:\\Users\\Gideon Kipkorir\\Anaconda3\\lib\\site-packages\\sklearn\\linear_model\\logistic.py:469: FutureWarning: Default multi_class will be changed to 'auto' in 0.22. Specify the multi_class option to silence this warning.\n",
            "  \"this warning.\", FutureWarning)\n"
          ],
          "name": "stderr"
        },
        {
          "output_type": "execute_result",
          "data": {
            "text/plain": [
              "LogisticRegression(C=1.0, class_weight=None, dual=False, fit_intercept=True,\n",
              "                   intercept_scaling=1, l1_ratio=None, max_iter=100,\n",
              "                   multi_class='warn', n_jobs=None, penalty='l2',\n",
              "                   random_state=None, solver='warn', tol=0.0001, verbose=0,\n",
              "                   warm_start=False)"
            ]
          },
          "metadata": {
            "tags": []
          },
          "execution_count": 40
        }
      ]
    },
    {
      "cell_type": "code",
      "metadata": {
        "id": "Td97WnksGN1s",
        "colab_type": "code",
        "colab": {}
      },
      "source": [
        "#using our model to make prediction\n",
        "y_pred = LogRes.predict(x_test)"
      ],
      "execution_count": 0,
      "outputs": []
    },
    {
      "cell_type": "code",
      "metadata": {
        "id": "bVm38giMGN1v",
        "colab_type": "code",
        "colab": {},
        "outputId": "ec6e97b3-3246-42b3-ccc0-6ced14a1248b"
      },
      "source": [
        "#Testing the accuracy of our model\n",
        "from sklearn.metrics import confusion_matrix\n",
        "confusion_matrix = confusion_matrix(y_test, y_pred)\n",
        "confusion_matrix \n"
      ],
      "execution_count": 0,
      "outputs": [
        {
          "output_type": "execute_result",
          "data": {
            "text/plain": [
              "array([[    0,  2897, 33190],\n",
              "       [    0,  7822, 61154],\n",
              "       [    0,  7181, 97379]], dtype=int64)"
            ]
          },
          "metadata": {
            "tags": []
          },
          "execution_count": 42
        }
      ]
    },
    {
      "cell_type": "code",
      "metadata": {
        "id": "S5_mANlOGN10",
        "colab_type": "code",
        "colab": {},
        "outputId": "1e8bdded-82cf-4c03-e877-24c538c833dd"
      },
      "source": [
        "LogRes.score(x_test, y_test)"
      ],
      "execution_count": 0,
      "outputs": [
        {
          "output_type": "execute_result",
          "data": {
            "text/plain": [
              "0.5018580976324163"
            ]
          },
          "metadata": {
            "tags": []
          },
          "execution_count": 43
        }
      ]
    },
    {
      "cell_type": "code",
      "metadata": {
        "id": "57nH2z7QGN12",
        "colab_type": "code",
        "colab": {}
      },
      "source": [
        ""
      ],
      "execution_count": 0,
      "outputs": []
    },
    {
      "cell_type": "code",
      "metadata": {
        "id": "B8tJCngtGN14",
        "colab_type": "code",
        "colab": {}
      },
      "source": [
        ""
      ],
      "execution_count": 0,
      "outputs": []
    }
  ]
}