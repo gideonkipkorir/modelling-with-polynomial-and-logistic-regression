{
 "cells": [
  {
   "cell_type": "code",
   "execution_count": 391,
   "metadata": {},
   "outputs": [],
   "source": [
    "import numpy as np\n",
    "import pandas as pd\n",
    "import seaborn as sns\n",
    "import matplotlib.pyplot as plt"
   ]
  },
  {
   "cell_type": "code",
   "execution_count": 392,
   "metadata": {},
   "outputs": [],
   "source": [
    "#loading our datasets\n",
    "results = pd.read_csv(r'C:\\Users\\Gideon Kipkorir\\Desktop\\colab\\Week 6 IP Datasets\\results.csv')\n",
    "ranking = pd.read_csv(r'C:\\Users\\Gideon Kipkorir\\Desktop\\colab\\Week 6 IP Datasets\\fifa_ranking.csv')"
   ]
  },
  {
   "cell_type": "code",
   "execution_count": 393,
   "metadata": {},
   "outputs": [
    {
     "data": {
      "text/html": [
       "<div>\n",
       "<style scoped>\n",
       "    .dataframe tbody tr th:only-of-type {\n",
       "        vertical-align: middle;\n",
       "    }\n",
       "\n",
       "    .dataframe tbody tr th {\n",
       "        vertical-align: top;\n",
       "    }\n",
       "\n",
       "    .dataframe thead th {\n",
       "        text-align: right;\n",
       "    }\n",
       "</style>\n",
       "<table border=\"1\" class=\"dataframe\">\n",
       "  <thead>\n",
       "    <tr style=\"text-align: right;\">\n",
       "      <th></th>\n",
       "      <th>date</th>\n",
       "      <th>home_team</th>\n",
       "      <th>away_team</th>\n",
       "      <th>home_score</th>\n",
       "      <th>away_score</th>\n",
       "      <th>tournament</th>\n",
       "      <th>city</th>\n",
       "      <th>country</th>\n",
       "      <th>neutral</th>\n",
       "    </tr>\n",
       "  </thead>\n",
       "  <tbody>\n",
       "    <tr>\n",
       "      <th>0</th>\n",
       "      <td>1872-11-30</td>\n",
       "      <td>Scotland</td>\n",
       "      <td>England</td>\n",
       "      <td>0</td>\n",
       "      <td>0</td>\n",
       "      <td>Friendly</td>\n",
       "      <td>Glasgow</td>\n",
       "      <td>Scotland</td>\n",
       "      <td>False</td>\n",
       "    </tr>\n",
       "    <tr>\n",
       "      <th>1</th>\n",
       "      <td>1873-03-08</td>\n",
       "      <td>England</td>\n",
       "      <td>Scotland</td>\n",
       "      <td>4</td>\n",
       "      <td>2</td>\n",
       "      <td>Friendly</td>\n",
       "      <td>London</td>\n",
       "      <td>England</td>\n",
       "      <td>False</td>\n",
       "    </tr>\n",
       "    <tr>\n",
       "      <th>2</th>\n",
       "      <td>1874-03-07</td>\n",
       "      <td>Scotland</td>\n",
       "      <td>England</td>\n",
       "      <td>2</td>\n",
       "      <td>1</td>\n",
       "      <td>Friendly</td>\n",
       "      <td>Glasgow</td>\n",
       "      <td>Scotland</td>\n",
       "      <td>False</td>\n",
       "    </tr>\n",
       "    <tr>\n",
       "      <th>3</th>\n",
       "      <td>1875-03-06</td>\n",
       "      <td>England</td>\n",
       "      <td>Scotland</td>\n",
       "      <td>2</td>\n",
       "      <td>2</td>\n",
       "      <td>Friendly</td>\n",
       "      <td>London</td>\n",
       "      <td>England</td>\n",
       "      <td>False</td>\n",
       "    </tr>\n",
       "    <tr>\n",
       "      <th>4</th>\n",
       "      <td>1876-03-04</td>\n",
       "      <td>Scotland</td>\n",
       "      <td>England</td>\n",
       "      <td>3</td>\n",
       "      <td>0</td>\n",
       "      <td>Friendly</td>\n",
       "      <td>Glasgow</td>\n",
       "      <td>Scotland</td>\n",
       "      <td>False</td>\n",
       "    </tr>\n",
       "  </tbody>\n",
       "</table>\n",
       "</div>"
      ],
      "text/plain": [
       "         date home_team away_team  home_score  away_score tournament     city  \\\n",
       "0  1872-11-30  Scotland   England           0           0   Friendly  Glasgow   \n",
       "1  1873-03-08   England  Scotland           4           2   Friendly   London   \n",
       "2  1874-03-07  Scotland   England           2           1   Friendly  Glasgow   \n",
       "3  1875-03-06   England  Scotland           2           2   Friendly   London   \n",
       "4  1876-03-04  Scotland   England           3           0   Friendly  Glasgow   \n",
       "\n",
       "    country  neutral  \n",
       "0  Scotland    False  \n",
       "1   England    False  \n",
       "2  Scotland    False  \n",
       "3   England    False  \n",
       "4  Scotland    False  "
      ]
     },
     "execution_count": 393,
     "metadata": {},
     "output_type": "execute_result"
    }
   ],
   "source": [
    "results.head()"
   ]
  },
  {
   "cell_type": "code",
   "execution_count": 394,
   "metadata": {},
   "outputs": [
    {
     "data": {
      "text/html": [
       "<div>\n",
       "<style scoped>\n",
       "    .dataframe tbody tr th:only-of-type {\n",
       "        vertical-align: middle;\n",
       "    }\n",
       "\n",
       "    .dataframe tbody tr th {\n",
       "        vertical-align: top;\n",
       "    }\n",
       "\n",
       "    .dataframe thead th {\n",
       "        text-align: right;\n",
       "    }\n",
       "</style>\n",
       "<table border=\"1\" class=\"dataframe\">\n",
       "  <thead>\n",
       "    <tr style=\"text-align: right;\">\n",
       "      <th></th>\n",
       "      <th>rank</th>\n",
       "      <th>country_full</th>\n",
       "      <th>country_abrv</th>\n",
       "      <th>total_points</th>\n",
       "      <th>previous_points</th>\n",
       "      <th>rank_change</th>\n",
       "      <th>cur_year_avg</th>\n",
       "      <th>cur_year_avg_weighted</th>\n",
       "      <th>last_year_avg</th>\n",
       "      <th>last_year_avg_weighted</th>\n",
       "      <th>two_year_ago_avg</th>\n",
       "      <th>two_year_ago_weighted</th>\n",
       "      <th>three_year_ago_avg</th>\n",
       "      <th>three_year_ago_weighted</th>\n",
       "      <th>confederation</th>\n",
       "      <th>rank_date</th>\n",
       "    </tr>\n",
       "  </thead>\n",
       "  <tbody>\n",
       "    <tr>\n",
       "      <th>0</th>\n",
       "      <td>1</td>\n",
       "      <td>Germany</td>\n",
       "      <td>GER</td>\n",
       "      <td>0.0</td>\n",
       "      <td>57</td>\n",
       "      <td>0</td>\n",
       "      <td>0.0</td>\n",
       "      <td>0.0</td>\n",
       "      <td>0.0</td>\n",
       "      <td>0.0</td>\n",
       "      <td>0.0</td>\n",
       "      <td>0.0</td>\n",
       "      <td>0.0</td>\n",
       "      <td>0.0</td>\n",
       "      <td>UEFA</td>\n",
       "      <td>1993-08-08</td>\n",
       "    </tr>\n",
       "    <tr>\n",
       "      <th>1</th>\n",
       "      <td>2</td>\n",
       "      <td>Italy</td>\n",
       "      <td>ITA</td>\n",
       "      <td>0.0</td>\n",
       "      <td>57</td>\n",
       "      <td>0</td>\n",
       "      <td>0.0</td>\n",
       "      <td>0.0</td>\n",
       "      <td>0.0</td>\n",
       "      <td>0.0</td>\n",
       "      <td>0.0</td>\n",
       "      <td>0.0</td>\n",
       "      <td>0.0</td>\n",
       "      <td>0.0</td>\n",
       "      <td>UEFA</td>\n",
       "      <td>1993-08-08</td>\n",
       "    </tr>\n",
       "    <tr>\n",
       "      <th>2</th>\n",
       "      <td>3</td>\n",
       "      <td>Switzerland</td>\n",
       "      <td>SUI</td>\n",
       "      <td>0.0</td>\n",
       "      <td>50</td>\n",
       "      <td>9</td>\n",
       "      <td>0.0</td>\n",
       "      <td>0.0</td>\n",
       "      <td>0.0</td>\n",
       "      <td>0.0</td>\n",
       "      <td>0.0</td>\n",
       "      <td>0.0</td>\n",
       "      <td>0.0</td>\n",
       "      <td>0.0</td>\n",
       "      <td>UEFA</td>\n",
       "      <td>1993-08-08</td>\n",
       "    </tr>\n",
       "    <tr>\n",
       "      <th>3</th>\n",
       "      <td>4</td>\n",
       "      <td>Sweden</td>\n",
       "      <td>SWE</td>\n",
       "      <td>0.0</td>\n",
       "      <td>55</td>\n",
       "      <td>0</td>\n",
       "      <td>0.0</td>\n",
       "      <td>0.0</td>\n",
       "      <td>0.0</td>\n",
       "      <td>0.0</td>\n",
       "      <td>0.0</td>\n",
       "      <td>0.0</td>\n",
       "      <td>0.0</td>\n",
       "      <td>0.0</td>\n",
       "      <td>UEFA</td>\n",
       "      <td>1993-08-08</td>\n",
       "    </tr>\n",
       "    <tr>\n",
       "      <th>4</th>\n",
       "      <td>5</td>\n",
       "      <td>Argentina</td>\n",
       "      <td>ARG</td>\n",
       "      <td>0.0</td>\n",
       "      <td>51</td>\n",
       "      <td>5</td>\n",
       "      <td>0.0</td>\n",
       "      <td>0.0</td>\n",
       "      <td>0.0</td>\n",
       "      <td>0.0</td>\n",
       "      <td>0.0</td>\n",
       "      <td>0.0</td>\n",
       "      <td>0.0</td>\n",
       "      <td>0.0</td>\n",
       "      <td>CONMEBOL</td>\n",
       "      <td>1993-08-08</td>\n",
       "    </tr>\n",
       "  </tbody>\n",
       "</table>\n",
       "</div>"
      ],
      "text/plain": [
       "   rank country_full country_abrv  total_points  previous_points  rank_change  \\\n",
       "0     1      Germany          GER           0.0               57            0   \n",
       "1     2        Italy          ITA           0.0               57            0   \n",
       "2     3  Switzerland          SUI           0.0               50            9   \n",
       "3     4       Sweden          SWE           0.0               55            0   \n",
       "4     5    Argentina          ARG           0.0               51            5   \n",
       "\n",
       "   cur_year_avg  cur_year_avg_weighted  last_year_avg  last_year_avg_weighted  \\\n",
       "0           0.0                    0.0            0.0                     0.0   \n",
       "1           0.0                    0.0            0.0                     0.0   \n",
       "2           0.0                    0.0            0.0                     0.0   \n",
       "3           0.0                    0.0            0.0                     0.0   \n",
       "4           0.0                    0.0            0.0                     0.0   \n",
       "\n",
       "   two_year_ago_avg  two_year_ago_weighted  three_year_ago_avg  \\\n",
       "0               0.0                    0.0                 0.0   \n",
       "1               0.0                    0.0                 0.0   \n",
       "2               0.0                    0.0                 0.0   \n",
       "3               0.0                    0.0                 0.0   \n",
       "4               0.0                    0.0                 0.0   \n",
       "\n",
       "   three_year_ago_weighted confederation   rank_date  \n",
       "0                      0.0          UEFA  1993-08-08  \n",
       "1                      0.0          UEFA  1993-08-08  \n",
       "2                      0.0          UEFA  1993-08-08  \n",
       "3                      0.0          UEFA  1993-08-08  \n",
       "4                      0.0      CONMEBOL  1993-08-08  "
      ]
     },
     "execution_count": 394,
     "metadata": {},
     "output_type": "execute_result"
    }
   ],
   "source": [
    "ranking.head()"
   ]
  },
  {
   "cell_type": "code",
   "execution_count": 395,
   "metadata": {},
   "outputs": [
    {
     "name": "stdout",
     "output_type": "stream",
     "text": [
      "rankings: (57793, 16)\n",
      "results: (40839, 9)\n"
     ]
    }
   ],
   "source": [
    "print('rankings:' ,ranking.shape)\n",
    "print('results:', results.shape)"
   ]
  },
  {
   "cell_type": "code",
   "execution_count": 396,
   "metadata": {},
   "outputs": [
    {
     "name": "stdout",
     "output_type": "stream",
     "text": [
      "duplicates present: True\n"
     ]
    }
   ],
   "source": [
    "print(\"duplicates present:\",ranking.duplicated().any())\n",
    "# Drop the duplicate rows from the dataset except for the first occurrence\n",
    "ranking = ranking.drop_duplicates(keep = 'first')"
   ]
  },
  {
   "cell_type": "code",
   "execution_count": 397,
   "metadata": {},
   "outputs": [
    {
     "data": {
      "text/plain": [
       "rank                         209\n",
       "country_full                 216\n",
       "country_abrv                 216\n",
       "total_points               11114\n",
       "previous_points             1557\n",
       "rank_change                  121\n",
       "cur_year_avg                7419\n",
       "cur_year_avg_weighted       7419\n",
       "last_year_avg               7473\n",
       "last_year_avg_weighted      7001\n",
       "two_year_ago_avg            7575\n",
       "two_year_ago_weighted       6513\n",
       "three_year_ago_avg          7628\n",
       "three_year_ago_weighted     5849\n",
       "confederation                  6\n",
       "rank_date                    286\n",
       "dtype: int64"
      ]
     },
     "execution_count": 397,
     "metadata": {},
     "output_type": "execute_result"
    }
   ],
   "source": [
    "ranking.nunique()"
   ]
  },
  {
   "cell_type": "code",
   "execution_count": 398,
   "metadata": {},
   "outputs": [
    {
     "data": {
      "text/plain": [
       "date          15115\n",
       "home_team       309\n",
       "away_team       306\n",
       "home_score       26\n",
       "away_score       22\n",
       "tournament      109\n",
       "city           1960\n",
       "country         266\n",
       "neutral           2\n",
       "dtype: int64"
      ]
     },
     "execution_count": 398,
     "metadata": {},
     "output_type": "execute_result"
    }
   ],
   "source": [
    "results.nunique()"
   ]
  },
  {
   "cell_type": "code",
   "execution_count": 399,
   "metadata": {},
   "outputs": [
    {
     "name": "stdout",
     "output_type": "stream",
     "text": [
      "missing values for ranking dataset:\n",
      "rank                       0\n",
      "country_full               0\n",
      "country_abrv               0\n",
      "total_points               0\n",
      "previous_points            0\n",
      "rank_change                0\n",
      "cur_year_avg               0\n",
      "cur_year_avg_weighted      0\n",
      "last_year_avg              0\n",
      "last_year_avg_weighted     0\n",
      "two_year_ago_avg           0\n",
      "two_year_ago_weighted      0\n",
      "three_year_ago_avg         0\n",
      "three_year_ago_weighted    0\n",
      "confederation              0\n",
      "rank_date                  0\n",
      "dtype: int64\n",
      "***************************************\n",
      "missing values for results dataset:\n",
      "date          0\n",
      "home_team     0\n",
      "away_team     0\n",
      "home_score    0\n",
      "away_score    0\n",
      "tournament    0\n",
      "city          0\n",
      "country       0\n",
      "neutral       0\n",
      "dtype: int64\n"
     ]
    }
   ],
   "source": [
    "print('missing values for ranking dataset:')\n",
    "print(ranking.isnull().sum())\n",
    "print('***************************************')\n",
    "print('missing values for results dataset:')\n",
    "print(results.isnull().sum())"
   ]
  },
  {
   "cell_type": "code",
   "execution_count": 400,
   "metadata": {},
   "outputs": [
    {
     "name": "stdout",
     "output_type": "stream",
     "text": [
      "datatype types for ranking dataset\n",
      "<class 'pandas.core.frame.DataFrame'>\n",
      "Int64Index: 57756 entries, 0 to 57792\n",
      "Data columns (total 16 columns):\n",
      " #   Column                   Non-Null Count  Dtype  \n",
      "---  ------                   --------------  -----  \n",
      " 0   rank                     57756 non-null  int64  \n",
      " 1   country_full             57756 non-null  object \n",
      " 2   country_abrv             57756 non-null  object \n",
      " 3   total_points             57756 non-null  float64\n",
      " 4   previous_points          57756 non-null  int64  \n",
      " 5   rank_change              57756 non-null  int64  \n",
      " 6   cur_year_avg             57756 non-null  float64\n",
      " 7   cur_year_avg_weighted    57756 non-null  float64\n",
      " 8   last_year_avg            57756 non-null  float64\n",
      " 9   last_year_avg_weighted   57756 non-null  float64\n",
      " 10  two_year_ago_avg         57756 non-null  float64\n",
      " 11  two_year_ago_weighted    57756 non-null  float64\n",
      " 12  three_year_ago_avg       57756 non-null  float64\n",
      " 13  three_year_ago_weighted  57756 non-null  float64\n",
      " 14  confederation            57756 non-null  object \n",
      " 15  rank_date                57756 non-null  object \n",
      "dtypes: float64(9), int64(3), object(4)\n",
      "memory usage: 7.5+ MB\n",
      "None\n",
      "datatype types for results dataset\n",
      "<class 'pandas.core.frame.DataFrame'>\n",
      "RangeIndex: 40839 entries, 0 to 40838\n",
      "Data columns (total 9 columns):\n",
      " #   Column      Non-Null Count  Dtype \n",
      "---  ------      --------------  ----- \n",
      " 0   date        40839 non-null  object\n",
      " 1   home_team   40839 non-null  object\n",
      " 2   away_team   40839 non-null  object\n",
      " 3   home_score  40839 non-null  int64 \n",
      " 4   away_score  40839 non-null  int64 \n",
      " 5   tournament  40839 non-null  object\n",
      " 6   city        40839 non-null  object\n",
      " 7   country     40839 non-null  object\n",
      " 8   neutral     40839 non-null  bool  \n",
      "dtypes: bool(1), int64(2), object(6)\n",
      "memory usage: 2.5+ MB\n",
      "None\n"
     ]
    }
   ],
   "source": [
    "print('datatype types for ranking dataset')\n",
    "print(ranking.info())\n",
    "print('datatype types for results dataset')\n",
    "print(results.info())"
   ]
  },
  {
   "cell_type": "code",
   "execution_count": 401,
   "metadata": {},
   "outputs": [],
   "source": [
    "#converting date into standard date format\n",
    "ranking['rank_date']= ranking['rank_date'].astype('datetime64[ns]')\n",
    "results['date'] = results['date'].astype('datetime64[ns]')"
   ]
  },
  {
   "cell_type": "code",
   "execution_count": 402,
   "metadata": {},
   "outputs": [
    {
     "name": "stdout",
     "output_type": "stream",
     "text": [
      "datatype types for ranking dataset\n",
      "<class 'pandas.core.frame.DataFrame'>\n",
      "Int64Index: 57756 entries, 0 to 57792\n",
      "Data columns (total 16 columns):\n",
      " #   Column                   Non-Null Count  Dtype         \n",
      "---  ------                   --------------  -----         \n",
      " 0   rank                     57756 non-null  int64         \n",
      " 1   country_full             57756 non-null  object        \n",
      " 2   country_abrv             57756 non-null  object        \n",
      " 3   total_points             57756 non-null  float64       \n",
      " 4   previous_points          57756 non-null  int64         \n",
      " 5   rank_change              57756 non-null  int64         \n",
      " 6   cur_year_avg             57756 non-null  float64       \n",
      " 7   cur_year_avg_weighted    57756 non-null  float64       \n",
      " 8   last_year_avg            57756 non-null  float64       \n",
      " 9   last_year_avg_weighted   57756 non-null  float64       \n",
      " 10  two_year_ago_avg         57756 non-null  float64       \n",
      " 11  two_year_ago_weighted    57756 non-null  float64       \n",
      " 12  three_year_ago_avg       57756 non-null  float64       \n",
      " 13  three_year_ago_weighted  57756 non-null  float64       \n",
      " 14  confederation            57756 non-null  object        \n",
      " 15  rank_date                57756 non-null  datetime64[ns]\n",
      "dtypes: datetime64[ns](1), float64(9), int64(3), object(3)\n",
      "memory usage: 7.5+ MB\n",
      "None\n",
      "datatype types for results dataset\n",
      "<class 'pandas.core.frame.DataFrame'>\n",
      "RangeIndex: 40839 entries, 0 to 40838\n",
      "Data columns (total 9 columns):\n",
      " #   Column      Non-Null Count  Dtype         \n",
      "---  ------      --------------  -----         \n",
      " 0   date        40839 non-null  datetime64[ns]\n",
      " 1   home_team   40839 non-null  object        \n",
      " 2   away_team   40839 non-null  object        \n",
      " 3   home_score  40839 non-null  int64         \n",
      " 4   away_score  40839 non-null  int64         \n",
      " 5   tournament  40839 non-null  object        \n",
      " 6   city        40839 non-null  object        \n",
      " 7   country     40839 non-null  object        \n",
      " 8   neutral     40839 non-null  bool          \n",
      "dtypes: bool(1), datetime64[ns](1), int64(2), object(5)\n",
      "memory usage: 2.5+ MB\n",
      "None\n"
     ]
    }
   ],
   "source": [
    "print('datatype types for ranking dataset')\n",
    "print(ranking.info())\n",
    "print('datatype types for results dataset')\n",
    "print(results.info())"
   ]
  },
  {
   "cell_type": "markdown",
   "metadata": {},
   "source": [
    "#descriptive stastis"
   ]
  },
  {
   "cell_type": "code",
   "execution_count": 403,
   "metadata": {},
   "outputs": [
    {
     "name": "stdout",
     "output_type": "stream",
     "text": [
      "2019\n"
     ]
    }
   ],
   "source": [
    "ranking['year'] = ranking.rank_date.dt.year\n",
    "results['year'] = results.date.dt.year\n",
    "print(results['year'].max())"
   ]
  },
  {
   "cell_type": "code",
   "execution_count": 404,
   "metadata": {},
   "outputs": [],
   "source": [
    "#selecting dates above 1992\n",
    "ranking_df = ranking[ranking['rank_date']>= '1992']\n",
    "results_df = results[results['date']>= '1992']"
   ]
  },
  {
   "cell_type": "code",
   "execution_count": 405,
   "metadata": {},
   "outputs": [
    {
     "name": "stderr",
     "output_type": "stream",
     "text": [
      "C:\\Users\\Gideon Kipkorir\\Anaconda3\\lib\\site-packages\\ipykernel_launcher.py:2: SettingWithCopyWarning: \n",
      "A value is trying to be set on a copy of a slice from a DataFrame.\n",
      "Try using .loc[row_indexer,col_indexer] = value instead\n",
      "\n",
      "See the caveats in the documentation: https://pandas.pydata.org/pandas-docs/stable/user_guide/indexing.html#returning-a-view-versus-a-copy\n",
      "  \n"
     ]
    }
   ],
   "source": [
    "\n",
    "ranking_df['month'] = ranking.rank_date.dt.month\n",
    "results_df['month'] = results_df.date.dt.month"
   ]
  },
  {
   "cell_type": "code",
   "execution_count": 406,
   "metadata": {},
   "outputs": [],
   "source": [
    "ranking_df = ranking_df.drop(columns = ['country_abrv', 'total_points',\n",
    "       'previous_points', 'rank_change', 'cur_year_avg',\n",
    "       'cur_year_avg_weighted', 'last_year_avg', 'last_year_avg_weighted',\n",
    "       'two_year_ago_avg', 'two_year_ago_weighted', 'three_year_ago_avg',\n",
    "       'three_year_ago_weighted', 'confederation'],axis =1)\n"
   ]
  },
  {
   "cell_type": "code",
   "execution_count": 407,
   "metadata": {},
   "outputs": [
    {
     "data": {
      "text/html": [
       "<div>\n",
       "<style scoped>\n",
       "    .dataframe tbody tr th:only-of-type {\n",
       "        vertical-align: middle;\n",
       "    }\n",
       "\n",
       "    .dataframe tbody tr th {\n",
       "        vertical-align: top;\n",
       "    }\n",
       "\n",
       "    .dataframe thead th {\n",
       "        text-align: right;\n",
       "    }\n",
       "</style>\n",
       "<table border=\"1\" class=\"dataframe\">\n",
       "  <thead>\n",
       "    <tr style=\"text-align: right;\">\n",
       "      <th></th>\n",
       "      <th>rank</th>\n",
       "      <th>country_full</th>\n",
       "      <th>rank_date</th>\n",
       "      <th>year</th>\n",
       "      <th>month</th>\n",
       "    </tr>\n",
       "  </thead>\n",
       "  <tbody>\n",
       "    <tr>\n",
       "      <th>0</th>\n",
       "      <td>1</td>\n",
       "      <td>Germany</td>\n",
       "      <td>1993-08-08</td>\n",
       "      <td>1993</td>\n",
       "      <td>8</td>\n",
       "    </tr>\n",
       "    <tr>\n",
       "      <th>1</th>\n",
       "      <td>2</td>\n",
       "      <td>Italy</td>\n",
       "      <td>1993-08-08</td>\n",
       "      <td>1993</td>\n",
       "      <td>8</td>\n",
       "    </tr>\n",
       "    <tr>\n",
       "      <th>2</th>\n",
       "      <td>3</td>\n",
       "      <td>Switzerland</td>\n",
       "      <td>1993-08-08</td>\n",
       "      <td>1993</td>\n",
       "      <td>8</td>\n",
       "    </tr>\n",
       "    <tr>\n",
       "      <th>3</th>\n",
       "      <td>4</td>\n",
       "      <td>Sweden</td>\n",
       "      <td>1993-08-08</td>\n",
       "      <td>1993</td>\n",
       "      <td>8</td>\n",
       "    </tr>\n",
       "    <tr>\n",
       "      <th>4</th>\n",
       "      <td>5</td>\n",
       "      <td>Argentina</td>\n",
       "      <td>1993-08-08</td>\n",
       "      <td>1993</td>\n",
       "      <td>8</td>\n",
       "    </tr>\n",
       "  </tbody>\n",
       "</table>\n",
       "</div>"
      ],
      "text/plain": [
       "   rank country_full  rank_date  year  month\n",
       "0     1      Germany 1993-08-08  1993      8\n",
       "1     2        Italy 1993-08-08  1993      8\n",
       "2     3  Switzerland 1993-08-08  1993      8\n",
       "3     4       Sweden 1993-08-08  1993      8\n",
       "4     5    Argentina 1993-08-08  1993      8"
      ]
     },
     "execution_count": 407,
     "metadata": {},
     "output_type": "execute_result"
    }
   ],
   "source": [
    "ranking_df.head()"
   ]
  },
  {
   "cell_type": "code",
   "execution_count": 408,
   "metadata": {},
   "outputs": [
    {
     "name": "stdout",
     "output_type": "stream",
     "text": [
      "<class 'pandas.core.frame.DataFrame'>\n",
      "Int64Index: 57756 entries, 0 to 57792\n",
      "Data columns (total 5 columns):\n",
      " #   Column        Non-Null Count  Dtype         \n",
      "---  ------        --------------  -----         \n",
      " 0   rank          57756 non-null  int64         \n",
      " 1   country_full  57756 non-null  object        \n",
      " 2   rank_date     57756 non-null  datetime64[ns]\n",
      " 3   year          57756 non-null  int64         \n",
      " 4   month         57756 non-null  int64         \n",
      "dtypes: datetime64[ns](1), int64(3), object(1)\n",
      "memory usage: 2.6+ MB\n",
      "None\n",
      "<class 'pandas.core.frame.DataFrame'>\n",
      "Int64Index: 24058 entries, 16781 to 40838\n",
      "Data columns (total 11 columns):\n",
      " #   Column      Non-Null Count  Dtype         \n",
      "---  ------      --------------  -----         \n",
      " 0   date        24058 non-null  datetime64[ns]\n",
      " 1   home_team   24058 non-null  object        \n",
      " 2   away_team   24058 non-null  object        \n",
      " 3   home_score  24058 non-null  int64         \n",
      " 4   away_score  24058 non-null  int64         \n",
      " 5   tournament  24058 non-null  object        \n",
      " 6   city        24058 non-null  object        \n",
      " 7   country     24058 non-null  object        \n",
      " 8   neutral     24058 non-null  bool          \n",
      " 9   year        24058 non-null  int64         \n",
      " 10  month       24058 non-null  int64         \n",
      "dtypes: bool(1), datetime64[ns](1), int64(4), object(5)\n",
      "memory usage: 2.0+ MB\n",
      "None\n"
     ]
    }
   ],
   "source": [
    "print(ranking_df.info())\n",
    "print(results_df.info())"
   ]
  },
  {
   "cell_type": "code",
   "execution_count": 409,
   "metadata": {},
   "outputs": [
    {
     "data": {
      "text/html": [
       "<div>\n",
       "<style scoped>\n",
       "    .dataframe tbody tr th:only-of-type {\n",
       "        vertical-align: middle;\n",
       "    }\n",
       "\n",
       "    .dataframe tbody tr th {\n",
       "        vertical-align: top;\n",
       "    }\n",
       "\n",
       "    .dataframe thead th {\n",
       "        text-align: right;\n",
       "    }\n",
       "</style>\n",
       "<table border=\"1\" class=\"dataframe\">\n",
       "  <thead>\n",
       "    <tr style=\"text-align: right;\">\n",
       "      <th></th>\n",
       "      <th>date</th>\n",
       "      <th>home_team</th>\n",
       "      <th>away_team</th>\n",
       "      <th>home_score</th>\n",
       "      <th>away_score</th>\n",
       "      <th>tournament</th>\n",
       "      <th>country</th>\n",
       "      <th>year</th>\n",
       "      <th>month</th>\n",
       "    </tr>\n",
       "  </thead>\n",
       "  <tbody>\n",
       "    <tr>\n",
       "      <th>16781</th>\n",
       "      <td>1992-01-04</td>\n",
       "      <td>Egypt</td>\n",
       "      <td>Czechoslovakia</td>\n",
       "      <td>2</td>\n",
       "      <td>0</td>\n",
       "      <td>Friendly</td>\n",
       "      <td>Egypt</td>\n",
       "      <td>1992</td>\n",
       "      <td>1</td>\n",
       "    </tr>\n",
       "    <tr>\n",
       "      <th>16782</th>\n",
       "      <td>1992-01-05</td>\n",
       "      <td>DR Congo</td>\n",
       "      <td>Ivory Coast</td>\n",
       "      <td>2</td>\n",
       "      <td>0</td>\n",
       "      <td>Friendly</td>\n",
       "      <td>Zaïre</td>\n",
       "      <td>1992</td>\n",
       "      <td>1</td>\n",
       "    </tr>\n",
       "    <tr>\n",
       "      <th>16783</th>\n",
       "      <td>1992-01-05</td>\n",
       "      <td>Guyana</td>\n",
       "      <td>Barbados</td>\n",
       "      <td>0</td>\n",
       "      <td>2</td>\n",
       "      <td>Friendly</td>\n",
       "      <td>Guyana</td>\n",
       "      <td>1992</td>\n",
       "      <td>1</td>\n",
       "    </tr>\n",
       "    <tr>\n",
       "      <th>16784</th>\n",
       "      <td>1992-01-07</td>\n",
       "      <td>Egypt</td>\n",
       "      <td>Norway</td>\n",
       "      <td>0</td>\n",
       "      <td>0</td>\n",
       "      <td>Friendly</td>\n",
       "      <td>Egypt</td>\n",
       "      <td>1992</td>\n",
       "      <td>1</td>\n",
       "    </tr>\n",
       "    <tr>\n",
       "      <th>16785</th>\n",
       "      <td>1992-01-12</td>\n",
       "      <td>Cameroon</td>\n",
       "      <td>Morocco</td>\n",
       "      <td>1</td>\n",
       "      <td>0</td>\n",
       "      <td>African Cup of Nations</td>\n",
       "      <td>Senegal</td>\n",
       "      <td>1992</td>\n",
       "      <td>1</td>\n",
       "    </tr>\n",
       "  </tbody>\n",
       "</table>\n",
       "</div>"
      ],
      "text/plain": [
       "            date home_team       away_team  home_score  away_score  \\\n",
       "16781 1992-01-04     Egypt  Czechoslovakia           2           0   \n",
       "16782 1992-01-05  DR Congo     Ivory Coast           2           0   \n",
       "16783 1992-01-05    Guyana        Barbados           0           2   \n",
       "16784 1992-01-07     Egypt          Norway           0           0   \n",
       "16785 1992-01-12  Cameroon         Morocco           1           0   \n",
       "\n",
       "                   tournament  country  year  month  \n",
       "16781                Friendly    Egypt  1992      1  \n",
       "16782                Friendly    Zaïre  1992      1  \n",
       "16783                Friendly   Guyana  1992      1  \n",
       "16784                Friendly    Egypt  1992      1  \n",
       "16785  African Cup of Nations  Senegal  1992      1  "
      ]
     },
     "execution_count": 409,
     "metadata": {},
     "output_type": "execute_result"
    }
   ],
   "source": [
    "results_df = results_df.drop(['city',  'neutral'], 1)\n",
    "results_df.head()"
   ]
  },
  {
   "cell_type": "code",
   "execution_count": 410,
   "metadata": {},
   "outputs": [],
   "source": [
    "#Merging the dataset to get home_team ranking\n",
    "rank_home = pd.merge(results_df, ranking_df, how = 'inner', left_on = ['home_team','year', 'month'], right_on = ['country_full','year','month'])"
   ]
  },
  {
   "cell_type": "code",
   "execution_count": 411,
   "metadata": {},
   "outputs": [
    {
     "data": {
      "text/html": [
       "<div>\n",
       "<style scoped>\n",
       "    .dataframe tbody tr th:only-of-type {\n",
       "        vertical-align: middle;\n",
       "    }\n",
       "\n",
       "    .dataframe tbody tr th {\n",
       "        vertical-align: top;\n",
       "    }\n",
       "\n",
       "    .dataframe thead th {\n",
       "        text-align: right;\n",
       "    }\n",
       "</style>\n",
       "<table border=\"1\" class=\"dataframe\">\n",
       "  <thead>\n",
       "    <tr style=\"text-align: right;\">\n",
       "      <th></th>\n",
       "      <th>date</th>\n",
       "      <th>home_team</th>\n",
       "      <th>away_team</th>\n",
       "      <th>home_score</th>\n",
       "      <th>away_score</th>\n",
       "      <th>tournament</th>\n",
       "      <th>country</th>\n",
       "      <th>year</th>\n",
       "      <th>month</th>\n",
       "      <th>home_team_rank</th>\n",
       "    </tr>\n",
       "  </thead>\n",
       "  <tbody>\n",
       "    <tr>\n",
       "      <th>0</th>\n",
       "      <td>1993-08-01</td>\n",
       "      <td>Colombia</td>\n",
       "      <td>Paraguay</td>\n",
       "      <td>0</td>\n",
       "      <td>0</td>\n",
       "      <td>FIFA World Cup qualification</td>\n",
       "      <td>Colombia</td>\n",
       "      <td>1993</td>\n",
       "      <td>8</td>\n",
       "      <td>19</td>\n",
       "    </tr>\n",
       "    <tr>\n",
       "      <th>1</th>\n",
       "      <td>1993-08-15</td>\n",
       "      <td>Colombia</td>\n",
       "      <td>Argentina</td>\n",
       "      <td>2</td>\n",
       "      <td>1</td>\n",
       "      <td>FIFA World Cup qualification</td>\n",
       "      <td>Colombia</td>\n",
       "      <td>1993</td>\n",
       "      <td>8</td>\n",
       "      <td>19</td>\n",
       "    </tr>\n",
       "    <tr>\n",
       "      <th>2</th>\n",
       "      <td>1993-08-29</td>\n",
       "      <td>Colombia</td>\n",
       "      <td>Peru</td>\n",
       "      <td>4</td>\n",
       "      <td>0</td>\n",
       "      <td>FIFA World Cup qualification</td>\n",
       "      <td>Colombia</td>\n",
       "      <td>1993</td>\n",
       "      <td>8</td>\n",
       "      <td>19</td>\n",
       "    </tr>\n",
       "    <tr>\n",
       "      <th>3</th>\n",
       "      <td>1993-08-01</td>\n",
       "      <td>Peru</td>\n",
       "      <td>Argentina</td>\n",
       "      <td>0</td>\n",
       "      <td>1</td>\n",
       "      <td>FIFA World Cup qualification</td>\n",
       "      <td>Peru</td>\n",
       "      <td>1993</td>\n",
       "      <td>8</td>\n",
       "      <td>70</td>\n",
       "    </tr>\n",
       "    <tr>\n",
       "      <th>4</th>\n",
       "      <td>1993-08-08</td>\n",
       "      <td>Peru</td>\n",
       "      <td>Colombia</td>\n",
       "      <td>0</td>\n",
       "      <td>1</td>\n",
       "      <td>FIFA World Cup qualification</td>\n",
       "      <td>Peru</td>\n",
       "      <td>1993</td>\n",
       "      <td>8</td>\n",
       "      <td>70</td>\n",
       "    </tr>\n",
       "  </tbody>\n",
       "</table>\n",
       "</div>"
      ],
      "text/plain": [
       "        date home_team  away_team  home_score  away_score  \\\n",
       "0 1993-08-01  Colombia   Paraguay           0           0   \n",
       "1 1993-08-15  Colombia  Argentina           2           1   \n",
       "2 1993-08-29  Colombia       Peru           4           0   \n",
       "3 1993-08-01      Peru  Argentina           0           1   \n",
       "4 1993-08-08      Peru   Colombia           0           1   \n",
       "\n",
       "                     tournament   country  year  month  home_team_rank  \n",
       "0  FIFA World Cup qualification  Colombia  1993      8              19  \n",
       "1  FIFA World Cup qualification  Colombia  1993      8              19  \n",
       "2  FIFA World Cup qualification  Colombia  1993      8              19  \n",
       "3  FIFA World Cup qualification      Peru  1993      8              70  \n",
       "4  FIFA World Cup qualification      Peru  1993      8              70  "
      ]
     },
     "execution_count": 411,
     "metadata": {},
     "output_type": "execute_result"
    }
   ],
   "source": [
    "rank_home = rank_home.rename({'rank': 'home_team_rank'}, axis =1)\n",
    "rank_home = rank_home.drop(['country_full','rank_date'],1)\n",
    "rank_home.head()"
   ]
  },
  {
   "cell_type": "code",
   "execution_count": 412,
   "metadata": {},
   "outputs": [],
   "source": [
    "team_rank = pd.merge(rank_home, ranking_df, how ='inner', left_on = ['away_team', 'year','month'], right_on = ['country_full', 'year', 'month'])\n",
    "team_rank = team_rank.rename({'rank':'away_team_rank'}, axis =1)\n",
    "team_rank = team_rank.drop(['country','country_full','rank_date','date'],1)"
   ]
  },
  {
   "cell_type": "code",
   "execution_count": 413,
   "metadata": {},
   "outputs": [
    {
     "data": {
      "text/html": [
       "<div>\n",
       "<style scoped>\n",
       "    .dataframe tbody tr th:only-of-type {\n",
       "        vertical-align: middle;\n",
       "    }\n",
       "\n",
       "    .dataframe tbody tr th {\n",
       "        vertical-align: top;\n",
       "    }\n",
       "\n",
       "    .dataframe thead th {\n",
       "        text-align: right;\n",
       "    }\n",
       "</style>\n",
       "<table border=\"1\" class=\"dataframe\">\n",
       "  <thead>\n",
       "    <tr style=\"text-align: right;\">\n",
       "      <th></th>\n",
       "      <th>home_team</th>\n",
       "      <th>away_team</th>\n",
       "      <th>home_score</th>\n",
       "      <th>away_score</th>\n",
       "      <th>tournament</th>\n",
       "      <th>year</th>\n",
       "      <th>month</th>\n",
       "      <th>home_team_rank</th>\n",
       "      <th>away_team_rank</th>\n",
       "    </tr>\n",
       "  </thead>\n",
       "  <tbody>\n",
       "    <tr>\n",
       "      <th>0</th>\n",
       "      <td>Colombia</td>\n",
       "      <td>Paraguay</td>\n",
       "      <td>0</td>\n",
       "      <td>0</td>\n",
       "      <td>FIFA World Cup qualification</td>\n",
       "      <td>1993</td>\n",
       "      <td>8</td>\n",
       "      <td>19</td>\n",
       "      <td>67</td>\n",
       "    </tr>\n",
       "    <tr>\n",
       "      <th>1</th>\n",
       "      <td>Argentina</td>\n",
       "      <td>Paraguay</td>\n",
       "      <td>0</td>\n",
       "      <td>0</td>\n",
       "      <td>FIFA World Cup qualification</td>\n",
       "      <td>1993</td>\n",
       "      <td>8</td>\n",
       "      <td>5</td>\n",
       "      <td>67</td>\n",
       "    </tr>\n",
       "    <tr>\n",
       "      <th>2</th>\n",
       "      <td>Colombia</td>\n",
       "      <td>Argentina</td>\n",
       "      <td>2</td>\n",
       "      <td>1</td>\n",
       "      <td>FIFA World Cup qualification</td>\n",
       "      <td>1993</td>\n",
       "      <td>8</td>\n",
       "      <td>19</td>\n",
       "      <td>5</td>\n",
       "    </tr>\n",
       "    <tr>\n",
       "      <th>3</th>\n",
       "      <td>Peru</td>\n",
       "      <td>Argentina</td>\n",
       "      <td>0</td>\n",
       "      <td>1</td>\n",
       "      <td>FIFA World Cup qualification</td>\n",
       "      <td>1993</td>\n",
       "      <td>8</td>\n",
       "      <td>70</td>\n",
       "      <td>5</td>\n",
       "    </tr>\n",
       "    <tr>\n",
       "      <th>4</th>\n",
       "      <td>Paraguay</td>\n",
       "      <td>Argentina</td>\n",
       "      <td>1</td>\n",
       "      <td>3</td>\n",
       "      <td>FIFA World Cup qualification</td>\n",
       "      <td>1993</td>\n",
       "      <td>8</td>\n",
       "      <td>67</td>\n",
       "      <td>5</td>\n",
       "    </tr>\n",
       "  </tbody>\n",
       "</table>\n",
       "</div>"
      ],
      "text/plain": [
       "   home_team  away_team  home_score  away_score                    tournament  \\\n",
       "0   Colombia   Paraguay           0           0  FIFA World Cup qualification   \n",
       "1  Argentina   Paraguay           0           0  FIFA World Cup qualification   \n",
       "2   Colombia  Argentina           2           1  FIFA World Cup qualification   \n",
       "3       Peru  Argentina           0           1  FIFA World Cup qualification   \n",
       "4   Paraguay  Argentina           1           3  FIFA World Cup qualification   \n",
       "\n",
       "   year  month  home_team_rank  away_team_rank  \n",
       "0  1993      8              19              67  \n",
       "1  1993      8               5              67  \n",
       "2  1993      8              19               5  \n",
       "3  1993      8              70               5  \n",
       "4  1993      8              67               5  "
      ]
     },
     "execution_count": 413,
     "metadata": {},
     "output_type": "execute_result"
    }
   ],
   "source": [
    "team_rank.head()"
   ]
  },
  {
   "cell_type": "markdown",
   "metadata": {},
   "source": [
    "# Feature engineering"
   ]
  },
  {
   "cell_type": "code",
   "execution_count": 414,
   "metadata": {},
   "outputs": [],
   "source": [
    "outcomes = team_rank.home_score - team_rank.away_score\n",
    "Outcome = []\n",
    "for outcome in outcomes:\n",
    "    if outcome> 0:\n",
    "        Outcome.append('win')\n",
    "    elif outcome == 0:\n",
    "        Outcome.append('draw')\n",
    "    elif outcome< 0:\n",
    "        Outcome.append('loss')\n",
    "    else:\n",
    "        Outcome.append(np.nan)\n",
    "team_rank['Match_outcome'] =Outcome \n",
    "  "
   ]
  },
  {
   "cell_type": "code",
   "execution_count": 415,
   "metadata": {},
   "outputs": [],
   "source": [
    "def tournament(i):\n",
    "  if i == 'FIFA World Cup':\n",
    "    return 'FIFA World Cup'\n",
    "  if i == 'Friendly':\n",
    "    return 'Friendly'\n",
    "  else:\n",
    "    return 'Other'\n",
    "\n",
    "team_rank['tournament'] = team_rank.tournament.apply(lambda x: tournament(x))"
   ]
  },
  {
   "cell_type": "code",
   "execution_count": 416,
   "metadata": {},
   "outputs": [],
   "source": [
    "tm_rank  = team_rank"
   ]
  },
  {
   "cell_type": "code",
   "execution_count": 417,
   "metadata": {},
   "outputs": [
    {
     "data": {
      "text/html": [
       "<div>\n",
       "<style scoped>\n",
       "    .dataframe tbody tr th:only-of-type {\n",
       "        vertical-align: middle;\n",
       "    }\n",
       "\n",
       "    .dataframe tbody tr th {\n",
       "        vertical-align: top;\n",
       "    }\n",
       "\n",
       "    .dataframe thead th {\n",
       "        text-align: right;\n",
       "    }\n",
       "</style>\n",
       "<table border=\"1\" class=\"dataframe\">\n",
       "  <thead>\n",
       "    <tr style=\"text-align: right;\">\n",
       "      <th></th>\n",
       "      <th>home_team</th>\n",
       "      <th>away_team</th>\n",
       "      <th>home_score</th>\n",
       "      <th>away_score</th>\n",
       "      <th>tournament</th>\n",
       "      <th>year</th>\n",
       "      <th>month</th>\n",
       "      <th>home_team_rank</th>\n",
       "      <th>away_team_rank</th>\n",
       "      <th>Match_outcome</th>\n",
       "    </tr>\n",
       "  </thead>\n",
       "  <tbody>\n",
       "    <tr>\n",
       "      <th>11672</th>\n",
       "      <td>New Caledonia</td>\n",
       "      <td>Tahiti</td>\n",
       "      <td>3</td>\n",
       "      <td>1</td>\n",
       "      <td>Other</td>\n",
       "      <td>2011</td>\n",
       "      <td>9</td>\n",
       "      <td>155</td>\n",
       "      <td>184</td>\n",
       "      <td>win</td>\n",
       "    </tr>\n",
       "    <tr>\n",
       "      <th>5601</th>\n",
       "      <td>San Marino</td>\n",
       "      <td>Hungary</td>\n",
       "      <td>0</td>\n",
       "      <td>5</td>\n",
       "      <td>Other</td>\n",
       "      <td>2003</td>\n",
       "      <td>6</td>\n",
       "      <td>161</td>\n",
       "      <td>49</td>\n",
       "      <td>loss</td>\n",
       "    </tr>\n",
       "    <tr>\n",
       "      <th>2274</th>\n",
       "      <td>Senegal</td>\n",
       "      <td>Mali</td>\n",
       "      <td>3</td>\n",
       "      <td>1</td>\n",
       "      <td>Friendly</td>\n",
       "      <td>1998</td>\n",
       "      <td>7</td>\n",
       "      <td>85</td>\n",
       "      <td>67</td>\n",
       "      <td>win</td>\n",
       "    </tr>\n",
       "    <tr>\n",
       "      <th>4469</th>\n",
       "      <td>Morocco</td>\n",
       "      <td>Gabon</td>\n",
       "      <td>0</td>\n",
       "      <td>1</td>\n",
       "      <td>Other</td>\n",
       "      <td>2001</td>\n",
       "      <td>6</td>\n",
       "      <td>28</td>\n",
       "      <td>91</td>\n",
       "      <td>loss</td>\n",
       "    </tr>\n",
       "    <tr>\n",
       "      <th>2106</th>\n",
       "      <td>Togo</td>\n",
       "      <td>Mali</td>\n",
       "      <td>0</td>\n",
       "      <td>4</td>\n",
       "      <td>Friendly</td>\n",
       "      <td>1998</td>\n",
       "      <td>2</td>\n",
       "      <td>79</td>\n",
       "      <td>69</td>\n",
       "      <td>loss</td>\n",
       "    </tr>\n",
       "    <tr>\n",
       "      <th>13777</th>\n",
       "      <td>Oman</td>\n",
       "      <td>Singapore</td>\n",
       "      <td>3</td>\n",
       "      <td>1</td>\n",
       "      <td>Other</td>\n",
       "      <td>2014</td>\n",
       "      <td>3</td>\n",
       "      <td>81</td>\n",
       "      <td>149</td>\n",
       "      <td>win</td>\n",
       "    </tr>\n",
       "  </tbody>\n",
       "</table>\n",
       "</div>"
      ],
      "text/plain": [
       "           home_team  away_team  home_score  away_score tournament  year  \\\n",
       "11672  New Caledonia     Tahiti           3           1      Other  2011   \n",
       "5601      San Marino    Hungary           0           5      Other  2003   \n",
       "2274         Senegal       Mali           3           1   Friendly  1998   \n",
       "4469         Morocco      Gabon           0           1      Other  2001   \n",
       "2106            Togo       Mali           0           4   Friendly  1998   \n",
       "13777           Oman  Singapore           3           1      Other  2014   \n",
       "\n",
       "       month  home_team_rank  away_team_rank Match_outcome  \n",
       "11672      9             155             184           win  \n",
       "5601       6             161              49          loss  \n",
       "2274       7              85              67           win  \n",
       "4469       6              28              91          loss  \n",
       "2106       2              79              69          loss  \n",
       "13777      3              81             149           win  "
      ]
     },
     "execution_count": 417,
     "metadata": {},
     "output_type": "execute_result"
    }
   ],
   "source": [
    "tm_rank.sample(6)"
   ]
  },
  {
   "cell_type": "markdown",
   "metadata": {},
   "source": [
    "# Decriptive statistics"
   ]
  },
  {
   "cell_type": "code",
   "execution_count": 418,
   "metadata": {},
   "outputs": [
    {
     "data": {
      "text/html": [
       "<div>\n",
       "<style scoped>\n",
       "    .dataframe tbody tr th:only-of-type {\n",
       "        vertical-align: middle;\n",
       "    }\n",
       "\n",
       "    .dataframe tbody tr th {\n",
       "        vertical-align: top;\n",
       "    }\n",
       "\n",
       "    .dataframe thead th {\n",
       "        text-align: right;\n",
       "    }\n",
       "</style>\n",
       "<table border=\"1\" class=\"dataframe\">\n",
       "  <thead>\n",
       "    <tr style=\"text-align: right;\">\n",
       "      <th></th>\n",
       "      <th>home_score</th>\n",
       "      <th>away_score</th>\n",
       "      <th>year</th>\n",
       "      <th>month</th>\n",
       "      <th>home_team_rank</th>\n",
       "      <th>away_team_rank</th>\n",
       "    </tr>\n",
       "  </thead>\n",
       "  <tbody>\n",
       "    <tr>\n",
       "      <th>count</th>\n",
       "      <td>16918.000000</td>\n",
       "      <td>16918.000000</td>\n",
       "      <td>16918.000000</td>\n",
       "      <td>16918.000000</td>\n",
       "      <td>16918.000000</td>\n",
       "      <td>16918.000000</td>\n",
       "    </tr>\n",
       "    <tr>\n",
       "      <th>mean</th>\n",
       "      <td>1.603499</td>\n",
       "      <td>1.068448</td>\n",
       "      <td>2006.493675</td>\n",
       "      <td>6.874099</td>\n",
       "      <td>76.030855</td>\n",
       "      <td>78.885093</td>\n",
       "    </tr>\n",
       "    <tr>\n",
       "      <th>std</th>\n",
       "      <td>1.615346</td>\n",
       "      <td>1.244975</td>\n",
       "      <td>6.801394</td>\n",
       "      <td>3.274426</td>\n",
       "      <td>50.833921</td>\n",
       "      <td>52.039983</td>\n",
       "    </tr>\n",
       "    <tr>\n",
       "      <th>min</th>\n",
       "      <td>0.000000</td>\n",
       "      <td>0.000000</td>\n",
       "      <td>1993.000000</td>\n",
       "      <td>1.000000</td>\n",
       "      <td>1.000000</td>\n",
       "      <td>1.000000</td>\n",
       "    </tr>\n",
       "    <tr>\n",
       "      <th>25%</th>\n",
       "      <td>0.000000</td>\n",
       "      <td>0.000000</td>\n",
       "      <td>2001.000000</td>\n",
       "      <td>4.000000</td>\n",
       "      <td>33.000000</td>\n",
       "      <td>35.000000</td>\n",
       "    </tr>\n",
       "    <tr>\n",
       "      <th>50%</th>\n",
       "      <td>1.000000</td>\n",
       "      <td>1.000000</td>\n",
       "      <td>2007.000000</td>\n",
       "      <td>7.000000</td>\n",
       "      <td>70.000000</td>\n",
       "      <td>72.000000</td>\n",
       "    </tr>\n",
       "    <tr>\n",
       "      <th>75%</th>\n",
       "      <td>2.000000</td>\n",
       "      <td>2.000000</td>\n",
       "      <td>2012.000000</td>\n",
       "      <td>10.000000</td>\n",
       "      <td>112.000000</td>\n",
       "      <td>115.000000</td>\n",
       "    </tr>\n",
       "    <tr>\n",
       "      <th>max</th>\n",
       "      <td>31.000000</td>\n",
       "      <td>15.000000</td>\n",
       "      <td>2018.000000</td>\n",
       "      <td>12.000000</td>\n",
       "      <td>209.000000</td>\n",
       "      <td>209.000000</td>\n",
       "    </tr>\n",
       "  </tbody>\n",
       "</table>\n",
       "</div>"
      ],
      "text/plain": [
       "         home_score    away_score          year         month  home_team_rank  \\\n",
       "count  16918.000000  16918.000000  16918.000000  16918.000000    16918.000000   \n",
       "mean       1.603499      1.068448   2006.493675      6.874099       76.030855   \n",
       "std        1.615346      1.244975      6.801394      3.274426       50.833921   \n",
       "min        0.000000      0.000000   1993.000000      1.000000        1.000000   \n",
       "25%        0.000000      0.000000   2001.000000      4.000000       33.000000   \n",
       "50%        1.000000      1.000000   2007.000000      7.000000       70.000000   \n",
       "75%        2.000000      2.000000   2012.000000     10.000000      112.000000   \n",
       "max       31.000000     15.000000   2018.000000     12.000000      209.000000   \n",
       "\n",
       "       away_team_rank  \n",
       "count    16918.000000  \n",
       "mean        78.885093  \n",
       "std         52.039983  \n",
       "min          1.000000  \n",
       "25%         35.000000  \n",
       "50%         72.000000  \n",
       "75%        115.000000  \n",
       "max        209.000000  "
      ]
     },
     "execution_count": 418,
     "metadata": {},
     "output_type": "execute_result"
    }
   ],
   "source": [
    "tm_rank.select_dtypes(include=['int64']).describe()"
   ]
  },
  {
   "cell_type": "code",
   "execution_count": 419,
   "metadata": {},
   "outputs": [
    {
     "data": {
      "text/html": [
       "<div>\n",
       "<style scoped>\n",
       "    .dataframe tbody tr th:only-of-type {\n",
       "        vertical-align: middle;\n",
       "    }\n",
       "\n",
       "    .dataframe tbody tr th {\n",
       "        vertical-align: top;\n",
       "    }\n",
       "\n",
       "    .dataframe thead th {\n",
       "        text-align: right;\n",
       "    }\n",
       "</style>\n",
       "<table border=\"1\" class=\"dataframe\">\n",
       "  <thead>\n",
       "    <tr style=\"text-align: right;\">\n",
       "      <th></th>\n",
       "      <th>home_team</th>\n",
       "      <th>away_team</th>\n",
       "      <th>tournament</th>\n",
       "      <th>Match_outcome</th>\n",
       "    </tr>\n",
       "  </thead>\n",
       "  <tbody>\n",
       "    <tr>\n",
       "      <th>count</th>\n",
       "      <td>16918</td>\n",
       "      <td>16918</td>\n",
       "      <td>16918</td>\n",
       "      <td>16918</td>\n",
       "    </tr>\n",
       "    <tr>\n",
       "      <th>unique</th>\n",
       "      <td>193</td>\n",
       "      <td>193</td>\n",
       "      <td>3</td>\n",
       "      <td>3</td>\n",
       "    </tr>\n",
       "    <tr>\n",
       "      <th>top</th>\n",
       "      <td>Mexico</td>\n",
       "      <td>Zambia</td>\n",
       "      <td>Other</td>\n",
       "      <td>win</td>\n",
       "    </tr>\n",
       "    <tr>\n",
       "      <th>freq</th>\n",
       "      <td>253</td>\n",
       "      <td>190</td>\n",
       "      <td>10307</td>\n",
       "      <td>8180</td>\n",
       "    </tr>\n",
       "  </tbody>\n",
       "</table>\n",
       "</div>"
      ],
      "text/plain": [
       "       home_team away_team tournament Match_outcome\n",
       "count      16918     16918      16918         16918\n",
       "unique       193       193          3             3\n",
       "top       Mexico    Zambia      Other           win\n",
       "freq         253       190      10307          8180"
      ]
     },
     "execution_count": 419,
     "metadata": {},
     "output_type": "execute_result"
    }
   ],
   "source": [
    "tm_rank.select_dtypes(include = 'object').describe()"
   ]
  },
  {
   "cell_type": "code",
   "execution_count": 420,
   "metadata": {},
   "outputs": [
    {
     "data": {
      "text/plain": [
       "<matplotlib.axes._subplots.AxesSubplot at 0x2254e5efc88>"
      ]
     },
     "execution_count": 420,
     "metadata": {},
     "output_type": "execute_result"
    },
    {
     "data": {
      "image/png": "[encoded data removed]",
      "text/plain": [
       "<Figure size 432x288 with 1 Axes>"
      ]
     },
     "metadata": {
      "needs_background": "light"
     },
     "output_type": "display_data"
    }
   ],
   "source": [
    "sns.countplot(x ='Match_outcome', data = tm_rank )"
   ]
  },
  {
   "cell_type": "code",
   "execution_count": 421,
   "metadata": {},
   "outputs": [
    {
     "name": "stdout",
     "output_type": "stream",
     "text": [
      "skewness: 2.3244564775459584\n"
     ]
    },
    {
     "data": {
      "text/plain": [
       "<matplotlib.axes._subplots.AxesSubplot at 0x2254e87afc8>"
      ]
     },
     "execution_count": 421,
     "metadata": {},
     "output_type": "execute_result"
    },
    {
     "data": {
      "image/png": "[encoded data removed]",
      "text/plain": [
       "<Figure size 432x288 with 1 Axes>"
      ]
     },
     "metadata": {
      "needs_background": "light"
     },
     "output_type": "display_data"
    }
   ],
   "source": [
    "#checking for distribution of away and home teams scores\n",
    "print('skewness:', tm_rank.home_score.skew())\n",
    "sns.distplot(tm_rank['home_score'] )\n",
    "\n"
   ]
  },
  {
   "cell_type": "code",
   "execution_count": 422,
   "metadata": {},
   "outputs": [],
   "source": [
    "#applying log transformation into convert the data into a normal distribution\n",
    "tm_rank['home_score'] = np.log(tm_rank.home_score+1)"
   ]
  },
  {
   "cell_type": "code",
   "execution_count": 423,
   "metadata": {},
   "outputs": [
    {
     "name": "stdout",
     "output_type": "stream",
     "text": [
      "skewness: 0.08171001101183603\n"
     ]
    },
    {
     "data": {
      "text/plain": [
       "<matplotlib.axes._subplots.AxesSubplot at 0x2254ed594c8>"
      ]
     },
     "execution_count": 423,
     "metadata": {},
     "output_type": "execute_result"
    },
    {
     "data": {
      "image/png": "[encoded data removed]",
      "text/plain": [
       "<Figure size 432x288 with 1 Axes>"
      ]
     },
     "metadata": {
      "needs_background": "light"
     },
     "output_type": "display_data"
    }
   ],
   "source": [
    "print('skewness:', tm_rank.home_score.skew())\n",
    "sns.distplot(tm_rank['home_score'] )#after log transforming the data"
   ]
  },
  {
   "cell_type": "code",
   "execution_count": 424,
   "metadata": {},
   "outputs": [
    {
     "name": "stdout",
     "output_type": "stream",
     "text": [
      "skewness: 1.9280549163452845\n"
     ]
    },
    {
     "data": {
      "text/plain": [
       "<matplotlib.axes._subplots.AxesSubplot at 0x2254f44d9c8>"
      ]
     },
     "execution_count": 424,
     "metadata": {},
     "output_type": "execute_result"
    },
    {
     "data": {
      "image/png": "[encoded data removed]",
      "text/plain": [
       "<Figure size 432x288 with 1 Axes>"
      ]
     },
     "metadata": {
      "needs_background": "light"
     },
     "output_type": "display_data"
    }
   ],
   "source": [
    "print('skewness:', tm_rank.away_score.skew())\n",
    "sns.distplot(tm_rank['away_score'])#Data is skewed\n"
   ]
  },
  {
   "cell_type": "code",
   "execution_count": 425,
   "metadata": {},
   "outputs": [],
   "source": [
    "#to remove skewness\n",
    "tm_rank.away_score = np.log(tm_rank.away_score + 1)"
   ]
  },
  {
   "cell_type": "code",
   "execution_count": 426,
   "metadata": {},
   "outputs": [
    {
     "name": "stdout",
     "output_type": "stream",
     "text": [
      "skewness: 0.3809243368509408\n"
     ]
    },
    {
     "data": {
      "text/plain": [
       "<matplotlib.axes._subplots.AxesSubplot at 0x2255202d348>"
      ]
     },
     "execution_count": 426,
     "metadata": {},
     "output_type": "execute_result"
    },
    {
     "data": {
      "image/png": "[encoded data removed]",
      "text/plain": [
       "<Figure size 432x288 with 1 Axes>"
      ]
     },
     "metadata": {
      "needs_background": "light"
     },
     "output_type": "display_data"
    }
   ],
   "source": [
    "print('skewness:', tm_rank.away_score.skew())\n",
    "sns.distplot(tm_rank['away_score'])"
   ]
  },
  {
   "cell_type": "code",
   "execution_count": 427,
   "metadata": {},
   "outputs": [],
   "source": [
    "#label encoding \n",
    "from sklearn.preprocessing import LabelEncoder\n",
    "le = LabelEncoder()\n",
    "tm_rank[['home_team','away_team','tournament']] = tm_rank[['home_team','away_team','tournament']].apply(le.fit_transform)"
   ]
  },
  {
   "cell_type": "code",
   "execution_count": 428,
   "metadata": {},
   "outputs": [
    {
     "data": {
      "text/plain": [
       "<matplotlib.axes._subplots.AxesSubplot at 0x22554fd2288>"
      ]
     },
     "execution_count": 428,
     "metadata": {},
     "output_type": "execute_result"
    },
    {
     "data": {
      "image/png": "[encoded data removed]",
      "text/plain": [
       "<Figure size 432x288 with 2 Axes>"
      ]
     },
     "metadata": {
      "needs_background": "light"
     },
     "output_type": "display_data"
    }
   ],
   "source": [
    "#testing for multicolinearity\n",
    "cor = tm_rank[['home_team','away_team','tournament','home_team_rank','away_team_rank',]].corr()\n",
    "sns.heatmap(tm_rank[['home_team','away_team','tournament','home_team_rank','away_team_rank']].corr(), annot = True)"
   ]
  },
  {
   "cell_type": "code",
   "execution_count": 429,
   "metadata": {},
   "outputs": [
    {
     "data": {
      "text/html": [
       "<div>\n",
       "<style scoped>\n",
       "    .dataframe tbody tr th:only-of-type {\n",
       "        vertical-align: middle;\n",
       "    }\n",
       "\n",
       "    .dataframe tbody tr th {\n",
       "        vertical-align: top;\n",
       "    }\n",
       "\n",
       "    .dataframe thead th {\n",
       "        text-align: right;\n",
       "    }\n",
       "</style>\n",
       "<table border=\"1\" class=\"dataframe\">\n",
       "  <thead>\n",
       "    <tr style=\"text-align: right;\">\n",
       "      <th></th>\n",
       "      <th>home_team</th>\n",
       "      <th>away_team</th>\n",
       "      <th>tournament</th>\n",
       "      <th>home_team_rank</th>\n",
       "      <th>away_team_rank</th>\n",
       "    </tr>\n",
       "  </thead>\n",
       "  <tbody>\n",
       "    <tr>\n",
       "      <th>home_team</th>\n",
       "      <td>1.005559</td>\n",
       "      <td>-0.013612</td>\n",
       "      <td>-0.011244</td>\n",
       "      <td>0.044083</td>\n",
       "      <td>-0.081778</td>\n",
       "    </tr>\n",
       "    <tr>\n",
       "      <th>away_team</th>\n",
       "      <td>-0.013612</td>\n",
       "      <td>1.004060</td>\n",
       "      <td>0.002404</td>\n",
       "      <td>-0.070636</td>\n",
       "      <td>0.042972</td>\n",
       "    </tr>\n",
       "    <tr>\n",
       "      <th>tournament</th>\n",
       "      <td>-0.011244</td>\n",
       "      <td>0.002404</td>\n",
       "      <td>1.025653</td>\n",
       "      <td>-0.094956</td>\n",
       "      <td>-0.093400</td>\n",
       "    </tr>\n",
       "    <tr>\n",
       "      <th>home_team_rank</th>\n",
       "      <td>0.044083</td>\n",
       "      <td>-0.070636</td>\n",
       "      <td>-0.094956</td>\n",
       "      <td>1.298809</td>\n",
       "      <td>-0.600806</td>\n",
       "    </tr>\n",
       "    <tr>\n",
       "      <th>away_team_rank</th>\n",
       "      <td>-0.081778</td>\n",
       "      <td>0.042972</td>\n",
       "      <td>-0.093400</td>\n",
       "      <td>-0.600806</td>\n",
       "      <td>1.300405</td>\n",
       "    </tr>\n",
       "  </tbody>\n",
       "</table>\n",
       "</div>"
      ],
      "text/plain": [
       "                home_team  away_team  tournament  home_team_rank  \\\n",
       "home_team        1.005559  -0.013612   -0.011244        0.044083   \n",
       "away_team       -0.013612   1.004060    0.002404       -0.070636   \n",
       "tournament      -0.011244   0.002404    1.025653       -0.094956   \n",
       "home_team_rank   0.044083  -0.070636   -0.094956        1.298809   \n",
       "away_team_rank  -0.081778   0.042972   -0.093400       -0.600806   \n",
       "\n",
       "                away_team_rank  \n",
       "home_team            -0.081778  \n",
       "away_team             0.042972  \n",
       "tournament           -0.093400  \n",
       "home_team_rank       -0.600806  \n",
       "away_team_rank        1.300405  "
      ]
     },
     "execution_count": 429,
     "metadata": {},
     "output_type": "execute_result"
    }
   ],
   "source": [
    "#testing for multicolinearity through variance inflation factor\n",
    "vif = pd.DataFrame(np.linalg.inv(cor.values), index = cor.index, columns=cor.columns)\n",
    "vif"
   ]
  },
  {
   "cell_type": "code",
   "execution_count": 430,
   "metadata": {},
   "outputs": [
    {
     "data": {
      "text/plain": [
       "<matplotlib.axes._subplots.AxesSubplot at 0x225550594c8>"
      ]
     },
     "execution_count": 430,
     "metadata": {},
     "output_type": "execute_result"
    },
    {
     "data": {
      "image/png": "[encoded data removed]",
      "text/plain": [
       "<Figure size 432x288 with 2 Axes>"
      ]
     },
     "metadata": {
      "needs_background": "light"
     },
     "output_type": "display_data"
    }
   ],
   "source": [
    "sns.heatmap(vif,annot = True)"
   ]
  },
  {
   "cell_type": "markdown",
   "metadata": {},
   "source": [
    "* A rule of thumb for interpreting the variance inflation factor: 1 = not correlated. Between 1 and 5 = moderately correlated. Greater than 5 = highly correlated\n",
    "* there is no correlation between independent variables"
   ]
  },
  {
   "cell_type": "code",
   "execution_count": 431,
   "metadata": {},
   "outputs": [
    {
     "data": {
      "text/html": [
       "<div>\n",
       "<style scoped>\n",
       "    .dataframe tbody tr th:only-of-type {\n",
       "        vertical-align: middle;\n",
       "    }\n",
       "\n",
       "    .dataframe tbody tr th {\n",
       "        vertical-align: top;\n",
       "    }\n",
       "\n",
       "    .dataframe thead th {\n",
       "        text-align: right;\n",
       "    }\n",
       "</style>\n",
       "<table border=\"1\" class=\"dataframe\">\n",
       "  <thead>\n",
       "    <tr style=\"text-align: right;\">\n",
       "      <th></th>\n",
       "      <th>home_team</th>\n",
       "      <th>away_team</th>\n",
       "      <th>home_score</th>\n",
       "      <th>away_score</th>\n",
       "      <th>tournament</th>\n",
       "      <th>year</th>\n",
       "      <th>month</th>\n",
       "      <th>home_team_rank</th>\n",
       "      <th>away_team_rank</th>\n",
       "      <th>Match_outcome</th>\n",
       "    </tr>\n",
       "  </thead>\n",
       "  <tbody>\n",
       "    <tr>\n",
       "      <th>8453</th>\n",
       "      <td>128</td>\n",
       "      <td>129</td>\n",
       "      <td>0.693147</td>\n",
       "      <td>1.386294</td>\n",
       "      <td>2</td>\n",
       "      <td>2007</td>\n",
       "      <td>6</td>\n",
       "      <td>134</td>\n",
       "      <td>32</td>\n",
       "      <td>loss</td>\n",
       "    </tr>\n",
       "    <tr>\n",
       "      <th>11158</th>\n",
       "      <td>109</td>\n",
       "      <td>97</td>\n",
       "      <td>1.791759</td>\n",
       "      <td>0.693147</td>\n",
       "      <td>2</td>\n",
       "      <td>2010</td>\n",
       "      <td>12</td>\n",
       "      <td>144</td>\n",
       "      <td>169</td>\n",
       "      <td>win</td>\n",
       "    </tr>\n",
       "    <tr>\n",
       "      <th>3555</th>\n",
       "      <td>158</td>\n",
       "      <td>131</td>\n",
       "      <td>0.000000</td>\n",
       "      <td>0.000000</td>\n",
       "      <td>2</td>\n",
       "      <td>2000</td>\n",
       "      <td>6</td>\n",
       "      <td>46</td>\n",
       "      <td>7</td>\n",
       "      <td>draw</td>\n",
       "    </tr>\n",
       "    <tr>\n",
       "      <th>10039</th>\n",
       "      <td>90</td>\n",
       "      <td>80</td>\n",
       "      <td>1.098612</td>\n",
       "      <td>1.098612</td>\n",
       "      <td>1</td>\n",
       "      <td>2009</td>\n",
       "      <td>5</td>\n",
       "      <td>70</td>\n",
       "      <td>122</td>\n",
       "      <td>draw</td>\n",
       "    </tr>\n",
       "    <tr>\n",
       "      <th>7681</th>\n",
       "      <td>59</td>\n",
       "      <td>43</td>\n",
       "      <td>1.098612</td>\n",
       "      <td>0.693147</td>\n",
       "      <td>1</td>\n",
       "      <td>2006</td>\n",
       "      <td>3</td>\n",
       "      <td>165</td>\n",
       "      <td>111</td>\n",
       "      <td>win</td>\n",
       "    </tr>\n",
       "    <tr>\n",
       "      <th>9738</th>\n",
       "      <td>41</td>\n",
       "      <td>129</td>\n",
       "      <td>0.693147</td>\n",
       "      <td>0.000000</td>\n",
       "      <td>1</td>\n",
       "      <td>2008</td>\n",
       "      <td>11</td>\n",
       "      <td>40</td>\n",
       "      <td>22</td>\n",
       "      <td>win</td>\n",
       "    </tr>\n",
       "  </tbody>\n",
       "</table>\n",
       "</div>"
      ],
      "text/plain": [
       "       home_team  away_team  home_score  away_score  tournament  year  month  \\\n",
       "8453         128        129    0.693147    1.386294           2  2007      6   \n",
       "11158        109         97    1.791759    0.693147           2  2010     12   \n",
       "3555         158        131    0.000000    0.000000           2  2000      6   \n",
       "10039         90         80    1.098612    1.098612           1  2009      5   \n",
       "7681          59         43    1.098612    0.693147           1  2006      3   \n",
       "9738          41        129    0.693147    0.000000           1  2008     11   \n",
       "\n",
       "       home_team_rank  away_team_rank Match_outcome  \n",
       "8453              134              32          loss  \n",
       "11158             144             169           win  \n",
       "3555               46               7          draw  \n",
       "10039              70             122          draw  \n",
       "7681              165             111           win  \n",
       "9738               40              22           win  "
      ]
     },
     "execution_count": 431,
     "metadata": {},
     "output_type": "execute_result"
    }
   ],
   "source": [
    "tm_rank.sample(6)"
   ]
  },
  {
   "cell_type": "markdown",
   "metadata": {},
   "source": [
    "# Model 1: Predict how many goals the home team scores."
   ]
  },
  {
   "cell_type": "code",
   "execution_count": 432,
   "metadata": {},
   "outputs": [],
   "source": [
    "#Seperating dependent and independent variables\n",
    "x = tm_rank.drop(['home_score', 'Match_outcome'],1)\n",
    "y = tm_rank.home_score"
   ]
  },
  {
   "cell_type": "code",
   "execution_count": 433,
   "metadata": {},
   "outputs": [
    {
     "data": {
      "text/plain": [
       "home_team         0\n",
       "away_team         0\n",
       "home_score        0\n",
       "away_score        0\n",
       "tournament        0\n",
       "year              0\n",
       "month             0\n",
       "home_team_rank    0\n",
       "away_team_rank    0\n",
       "Match_outcome     0\n",
       "dtype: int64"
      ]
     },
     "execution_count": 433,
     "metadata": {},
     "output_type": "execute_result"
    }
   ],
   "source": [
    "tm_rank.isnull().sum()"
   ]
  },
  {
   "cell_type": "code",
   "execution_count": 434,
   "metadata": {},
   "outputs": [],
   "source": [
    "from sklearn.model_selection import train_test_split\n",
    "x_train,x_test,y_train,y_test = train_test_split(x,y, test_size = 0.2, random_state = 45)"
   ]
  },
  {
   "cell_type": "code",
   "execution_count": 435,
   "metadata": {},
   "outputs": [],
   "source": [
    "from sklearn.linear_model import LinearRegression\n",
    "lr = LinearRegression()\n",
    "lr = lr.fit(x_train,y_train)\n",
    "#using the model to make prediction\n",
    "y_pred = lr.predict(x_test)"
   ]
  },
  {
   "cell_type": "code",
   "execution_count": 436,
   "metadata": {},
   "outputs": [
    {
     "name": "stdout",
     "output_type": "stream",
     "text": [
      "0.5042371159357081\n"
     ]
    }
   ],
   "source": [
    "#evaluating our model using rmse\n",
    "from sklearn import metrics\n",
    "rmse = np.sqrt(metrics.mean_squared_error(y_test, y_pred))\n",
    "print(rmse)"
   ]
  },
  {
   "cell_type": "code",
   "execution_count": 437,
   "metadata": {},
   "outputs": [],
   "source": [
    "from sklearn.preprocessing import PolynomialFeatures\n",
    "poly = PolynomialFeatures(degree = 3)\n",
    "x_ptrain = poly.fit_transform(x_train)\n",
    "x_ptest = poly.fit_transform(x_test)\n",
    "poly_r = LinearRegression()\n",
    "poly_r = poly_r.fit(x_ptrain, y_train)"
   ]
  },
  {
   "cell_type": "code",
   "execution_count": 438,
   "metadata": {},
   "outputs": [],
   "source": [
    "# print(poly_r.intercept_)\n",
    "# print(poly_r.coef_)dd"
   ]
  },
  {
   "cell_type": "code",
   "execution_count": 439,
   "metadata": {},
   "outputs": [],
   "source": [
    "# Evaluating the model\n",
    "y_pred = poly_r.predict(x_ptest)#Making prediction\n",
    "#calculating rmse of the model\n",
    "rmse = np.sqrt(metrics.mean_squared_error(y_pred, y_test))"
   ]
  },
  {
   "cell_type": "code",
   "execution_count": 440,
   "metadata": {},
   "outputs": [
    {
     "name": "stdout",
     "output_type": "stream",
     "text": [
      "0.5010418572883557\n"
     ]
    }
   ],
   "source": [
    "print(rmse)"
   ]
  },
  {
   "cell_type": "markdown",
   "metadata": {},
   "source": [
    "# Optimizing the model"
   ]
  },
  {
   "cell_type": "code",
   "execution_count": 441,
   "metadata": {},
   "outputs": [
    {
     "name": "stdout",
     "output_type": "stream",
     "text": [
      "Best score is -0.262435788116001\n",
      "Best score is {'fit_intercept': True, 'normalize': True}\n"
     ]
    }
   ],
   "source": [
    "# The parameters that can be tuned are fitting the intercept and normalizing\n",
    "# Creating a parameters dictionary\n",
    "from sklearn.model_selection import train_test_split, GridSearchCV, KFold, cross_val_score\n",
    "params = {'normalize': [True, False],\n",
    "         'fit_intercept': [True, False]}\n",
    "\n",
    "# Creating a cross validation of 10 folds\n",
    "#\n",
    "kfold = KFold(n_splits = 10)\n",
    "\n",
    "# Using grid search to find the optimal parameters\n",
    "grid_search = GridSearchCV(estimator=lr, param_grid = params, cv = kfold, scoring = 'neg_mean_squared_error')\n",
    "\n",
    "# Fitting the grid search \n",
    "grid_search_results = grid_search.fit(x_train, y_train)\n",
    "\n",
    "# Displaying the best parameters and the the best score\n",
    "print(f'Best score is {grid_search.best_score_}')\n",
    "print(f'Best score is {grid_search.best_params_}')"
   ]
  },
  {
   "cell_type": "code",
   "execution_count": 442,
   "metadata": {},
   "outputs": [],
   "source": [
    "lr = LinearRegression(fit_intercept = True, normalize = True)\n",
    "Lr = lr.fit(x_train, y_train)"
   ]
  },
  {
   "cell_type": "code",
   "execution_count": 443,
   "metadata": {},
   "outputs": [],
   "source": [
    "y_pred = Lr.predict(x_test)"
   ]
  },
  {
   "cell_type": "code",
   "execution_count": 444,
   "metadata": {},
   "outputs": [
    {
     "data": {
      "text/plain": [
       "0.5042371159357082"
      ]
     },
     "execution_count": 444,
     "metadata": {},
     "output_type": "execute_result"
    }
   ],
   "source": [
    "rmse = np.sqrt(metrics.mean_squared_error(y_test,y_pred))\n",
    "rmse"
   ]
  },
  {
   "cell_type": "code",
   "execution_count": 445,
   "metadata": {},
   "outputs": [
    {
     "data": {
      "text/plain": [
       "count    3384.000000\n",
       "mean        0.020317\n",
       "std         0.503902\n",
       "min        -1.306056\n",
       "25%        -0.347518\n",
       "50%         0.044109\n",
       "75%         0.391096\n",
       "max         1.978203\n",
       "Name: home_score, dtype: float64"
      ]
     },
     "execution_count": 445,
     "metadata": {},
     "output_type": "execute_result"
    }
   ],
   "source": [
    "residuals = np.subtract(y_test, y_pred)\n",
    "residuals.describe()"
   ]
  },
  {
   "cell_type": "code",
   "execution_count": 446,
   "metadata": {},
   "outputs": [
    {
     "data": {
      "text/plain": [
       "Text(0, 0.5, 'residuals')"
      ]
     },
     "execution_count": 446,
     "metadata": {},
     "output_type": "execute_result"
    },
    {
     "data": {
      "image/png": "[encoded data removed]",
      "text/plain": [
       "<Figure size 432x288 with 1 Axes>"
      ]
     },
     "metadata": {
      "needs_background": "light"
     },
     "output_type": "display_data"
    }
   ],
   "source": [
    "plt.scatter(y_pred, residuals, color = 'green')\n",
    "plt.xlabel('fitted values')\n",
    "plt.axhline(y=residuals.mean(), color ='red', linewidth = 1)\n",
    "plt.ylabel('residuals')"
   ]
  },
  {
   "cell_type": "markdown",
   "metadata": {},
   "source": [
    "# test for homogeniuity"
   ]
  },
  {
   "cell_type": "code",
   "execution_count": 447,
   "metadata": {},
   "outputs": [
    {
     "name": "stdout",
     "output_type": "stream",
     "text": [
      "inf\n",
      "the variances are homogeneous!\n"
     ]
    }
   ],
   "source": [
    "import scipy as sp\n",
    "\n",
    "test_result, p_value = sp.stats.bartlett(y_pred, residuals)\n",
    "degree_of_freedom = len(y_pred)-1\n",
    "probability = 1 - p_value\n",
    "\n",
    "critical_value = sp.stats.chi2.ppf(probability, degree_of_freedom)\n",
    "print(critical_value)\n",
    "\n",
    "if (test_result > critical_value):\n",
    "  print('the variances are unequal, and the model should be reassessed')\n",
    "else:\n",
    "  print('the variances are homogeneous!')"
   ]
  },
  {
   "cell_type": "code",
   "execution_count": 498,
   "metadata": {},
   "outputs": [
    {
     "data": {
      "text/plain": [
       "1980.6050547583257"
      ]
     },
     "execution_count": 498,
     "metadata": {},
     "output_type": "execute_result"
    }
   ],
   "source": [
    "test_result"
   ]
  },
  {
   "cell_type": "markdown",
   "metadata": {},
   "source": [
    "# Model 2: Predict how many goals the away team scores."
   ]
  },
  {
   "cell_type": "code",
   "execution_count": 448,
   "metadata": {},
   "outputs": [
    {
     "data": {
      "text/html": [
       "<div>\n",
       "<style scoped>\n",
       "    .dataframe tbody tr th:only-of-type {\n",
       "        vertical-align: middle;\n",
       "    }\n",
       "\n",
       "    .dataframe tbody tr th {\n",
       "        vertical-align: top;\n",
       "    }\n",
       "\n",
       "    .dataframe thead th {\n",
       "        text-align: right;\n",
       "    }\n",
       "</style>\n",
       "<table border=\"1\" class=\"dataframe\">\n",
       "  <thead>\n",
       "    <tr style=\"text-align: right;\">\n",
       "      <th></th>\n",
       "      <th>home_team</th>\n",
       "      <th>away_team</th>\n",
       "      <th>home_score</th>\n",
       "      <th>away_score</th>\n",
       "      <th>tournament</th>\n",
       "      <th>year</th>\n",
       "      <th>month</th>\n",
       "      <th>home_team_rank</th>\n",
       "      <th>away_team_rank</th>\n",
       "      <th>Match_outcome</th>\n",
       "    </tr>\n",
       "  </thead>\n",
       "  <tbody>\n",
       "    <tr>\n",
       "      <th>0</th>\n",
       "      <td>41</td>\n",
       "      <td>137</td>\n",
       "      <td>0.000000</td>\n",
       "      <td>0.000000</td>\n",
       "      <td>2</td>\n",
       "      <td>1993</td>\n",
       "      <td>8</td>\n",
       "      <td>19</td>\n",
       "      <td>67</td>\n",
       "      <td>draw</td>\n",
       "    </tr>\n",
       "    <tr>\n",
       "      <th>1</th>\n",
       "      <td>8</td>\n",
       "      <td>137</td>\n",
       "      <td>0.000000</td>\n",
       "      <td>0.000000</td>\n",
       "      <td>2</td>\n",
       "      <td>1993</td>\n",
       "      <td>8</td>\n",
       "      <td>5</td>\n",
       "      <td>67</td>\n",
       "      <td>draw</td>\n",
       "    </tr>\n",
       "    <tr>\n",
       "      <th>2</th>\n",
       "      <td>41</td>\n",
       "      <td>8</td>\n",
       "      <td>1.098612</td>\n",
       "      <td>0.693147</td>\n",
       "      <td>2</td>\n",
       "      <td>1993</td>\n",
       "      <td>8</td>\n",
       "      <td>19</td>\n",
       "      <td>5</td>\n",
       "      <td>win</td>\n",
       "    </tr>\n",
       "    <tr>\n",
       "      <th>3</th>\n",
       "      <td>138</td>\n",
       "      <td>8</td>\n",
       "      <td>0.000000</td>\n",
       "      <td>0.693147</td>\n",
       "      <td>2</td>\n",
       "      <td>1993</td>\n",
       "      <td>8</td>\n",
       "      <td>70</td>\n",
       "      <td>5</td>\n",
       "      <td>loss</td>\n",
       "    </tr>\n",
       "    <tr>\n",
       "      <th>4</th>\n",
       "      <td>137</td>\n",
       "      <td>8</td>\n",
       "      <td>0.693147</td>\n",
       "      <td>1.386294</td>\n",
       "      <td>2</td>\n",
       "      <td>1993</td>\n",
       "      <td>8</td>\n",
       "      <td>67</td>\n",
       "      <td>5</td>\n",
       "      <td>loss</td>\n",
       "    </tr>\n",
       "  </tbody>\n",
       "</table>\n",
       "</div>"
      ],
      "text/plain": [
       "   home_team  away_team  home_score  away_score  tournament  year  month  \\\n",
       "0         41        137    0.000000    0.000000           2  1993      8   \n",
       "1          8        137    0.000000    0.000000           2  1993      8   \n",
       "2         41          8    1.098612    0.693147           2  1993      8   \n",
       "3        138          8    0.000000    0.693147           2  1993      8   \n",
       "4        137          8    0.693147    1.386294           2  1993      8   \n",
       "\n",
       "   home_team_rank  away_team_rank Match_outcome  \n",
       "0              19              67          draw  \n",
       "1               5              67          draw  \n",
       "2              19               5           win  \n",
       "3              70               5          loss  \n",
       "4              67               5          loss  "
      ]
     },
     "execution_count": 448,
     "metadata": {},
     "output_type": "execute_result"
    }
   ],
   "source": [
    "away_team  = tm_rank\n",
    "away_team.head()"
   ]
  },
  {
   "cell_type": "code",
   "execution_count": 449,
   "metadata": {},
   "outputs": [],
   "source": [
    "y = away_team['away_score']\n",
    "x = tm_rank[['home_team','away_team','tournament','home_team_rank','away_team_rank']]"
   ]
  },
  {
   "cell_type": "code",
   "execution_count": 450,
   "metadata": {},
   "outputs": [],
   "source": [
    "x_train,x_test,y_train,y_test = train_test_split(x,y, test_size = 0.2, random_state = 45)\n",
    "lr = LinearRegression()\n",
    "lr = lr.fit(x_train,y_train)\n",
    "#using the model to make prediction\n",
    "y_pred = lr.predict(x_test)"
   ]
  },
  {
   "cell_type": "code",
   "execution_count": 451,
   "metadata": {},
   "outputs": [
    {
     "name": "stdout",
     "output_type": "stream",
     "text": [
      "0.50218766009139\n"
     ]
    }
   ],
   "source": [
    "rmse = np.sqrt(metrics.mean_squared_error(y_test, y_pred))\n",
    "print(rmse)"
   ]
  },
  {
   "cell_type": "code",
   "execution_count": 452,
   "metadata": {},
   "outputs": [],
   "source": [
    "poly = PolynomialFeatures(degree = 3,)\n",
    "x_ptrain = poly.fit_transform(x_train)\n",
    "x_ptest = poly.fit_transform(x_test)\n",
    "poly_r = LinearRegression()\n",
    "poly_r = poly_r.fit(x_ptrain, y_train)"
   ]
  },
  {
   "cell_type": "code",
   "execution_count": 453,
   "metadata": {},
   "outputs": [
    {
     "name": "stdout",
     "output_type": "stream",
     "text": [
      "0.49909195763449243\n"
     ]
    }
   ],
   "source": [
    "# Evaluating the model\n",
    "y_pred = poly_r.predict(x_ptest)#Making prediction\n",
    "#calculating rmse of the model\n",
    "rmse = np.sqrt(metrics.mean_squared_error(y_pred, y_test))\n",
    "print(rmse)"
   ]
  },
  {
   "cell_type": "code",
   "execution_count": 454,
   "metadata": {},
   "outputs": [
    {
     "name": "stdout",
     "output_type": "stream",
     "text": [
      "Best score is -0.23775276770332726\n",
      "Best score is {'fit_intercept': True, 'normalize': True}\n"
     ]
    }
   ],
   "source": [
    "params = {'normalize': [True, False],\n",
    "         'fit_intercept': [True, False]}\n",
    "\n",
    "# Creating a cross validation of 10 folds\n",
    "#\n",
    "kfold = KFold(n_splits = 10)\n",
    "\n",
    "# Using grid search to find the optimal parameters\n",
    "grid_search = GridSearchCV(estimator=lr, param_grid = params, cv = kfold, scoring = 'neg_mean_squared_error')\n",
    "\n",
    "# Fitting the grid search \n",
    "grid_search_results = grid_search.fit(x_ptrain, y_train)\n",
    "\n",
    "# Displaying the best parameters and the the best score\n",
    "print(f'Best score is {grid_search.best_score_}')\n",
    "print(f'Best score is {grid_search.best_params_}')"
   ]
  },
  {
   "cell_type": "code",
   "execution_count": 455,
   "metadata": {},
   "outputs": [],
   "source": [
    "poly_r = LinearRegression(fit_intercept = True, normalize = False)\n",
    "poly_r = poly_r.fit(x_ptrain, y_train)"
   ]
  },
  {
   "cell_type": "code",
   "execution_count": 456,
   "metadata": {},
   "outputs": [
    {
     "name": "stdout",
     "output_type": "stream",
     "text": [
      "0.49909195763449243\n"
     ]
    }
   ],
   "source": [
    "# Evaluating the model\n",
    "y_pred = poly_r.predict(x_ptest)#Making prediction\n",
    "#calculating rmse of the model\n",
    "rmse = np.sqrt(metrics.mean_squared_error(y_pred, y_test))\n",
    "print(rmse)"
   ]
  },
  {
   "cell_type": "code",
   "execution_count": 457,
   "metadata": {},
   "outputs": [
    {
     "data": {
      "text/plain": [
       "count    3384.000000\n",
       "mean        0.009444\n",
       "std         0.499076\n",
       "min        -1.401806\n",
       "25%        -0.438227\n",
       "50%         0.049152\n",
       "75%         0.381590\n",
       "max         1.704565\n",
       "Name: away_score, dtype: float64"
      ]
     },
     "execution_count": 457,
     "metadata": {},
     "output_type": "execute_result"
    }
   ],
   "source": [
    "residuals = np.subtract(y_test, y_pred)\n",
    "residuals.describe()"
   ]
  },
  {
   "cell_type": "code",
   "execution_count": 458,
   "metadata": {},
   "outputs": [
    {
     "data": {
      "text/plain": [
       "Text(0, 0.5, 'residuals')"
      ]
     },
     "execution_count": 458,
     "metadata": {},
     "output_type": "execute_result"
    },
    {
     "data": {
      "image/png": "[encoded data removed]",
      "text/plain": [
       "<Figure size 432x288 with 1 Axes>"
      ]
     },
     "metadata": {
      "needs_background": "light"
     },
     "output_type": "display_data"
    }
   ],
   "source": [
    "plt.scatter(y_pred, residuals, color = 'green')\n",
    "plt.xlabel('fitted values')\n",
    "plt.axhline(y=residuals.mean(), color ='red', linewidth = 1)\n",
    "plt.ylabel('residuals')"
   ]
  },
  {
   "cell_type": "code",
   "execution_count": 459,
   "metadata": {},
   "outputs": [
    {
     "name": "stdout",
     "output_type": "stream",
     "text": [
      "inf\n",
      "the variances are homogeneous!\n"
     ]
    }
   ],
   "source": [
    "import scipy as sp\n",
    "\n",
    "test_result, p_value = sp.stats.bartlett(y_pred, residuals)\n",
    "degree_of_freedom = len(y_pred)-1\n",
    "probability = 1 - p_value\n",
    "\n",
    "critical_value = sp.stats.chi2.ppf(probability, degree_of_freedom)\n",
    "print(critical_value)\n",
    "\n",
    "if (test_result > critical_value):\n",
    "  print('the variances are unequal, and the model should be reassessed')\n",
    "else:\n",
    "  print('the variances are homogeneous!')"
   ]
  },
  {
   "cell_type": "markdown",
   "metadata": {},
   "source": [
    "## Approach 2: Logistic approach"
   ]
  },
  {
   "cell_type": "code",
   "execution_count": 488,
   "metadata": {},
   "outputs": [
    {
     "name": "stdout",
     "output_type": "stream",
     "text": [
      "wins: 8180\n",
      "loss: 4679\n",
      "draw: (4059, 10)\n"
     ]
    }
   ],
   "source": [
    "wins = tm_rank[tm_rank['Match_outcome']== 'win']\n",
    "loss = tm_rank[tm_rank['Match_outcome']== 'loss']\n",
    "draw= tm_rank[tm_rank['Match_outcome']== 'draw']\n",
    "print('wins:',len(wins))\n",
    "print('loss:', len(loss))\n",
    "print('draw:', draw.shape)"
   ]
  },
  {
   "cell_type": "code",
   "execution_count": 489,
   "metadata": {},
   "outputs": [
    {
     "data": {
      "text/html": [
       "<div>\n",
       "<style scoped>\n",
       "    .dataframe tbody tr th:only-of-type {\n",
       "        vertical-align: middle;\n",
       "    }\n",
       "\n",
       "    .dataframe tbody tr th {\n",
       "        vertical-align: top;\n",
       "    }\n",
       "\n",
       "    .dataframe thead th {\n",
       "        text-align: right;\n",
       "    }\n",
       "</style>\n",
       "<table border=\"1\" class=\"dataframe\">\n",
       "  <thead>\n",
       "    <tr style=\"text-align: right;\">\n",
       "      <th></th>\n",
       "      <th>home_team</th>\n",
       "      <th>away_team</th>\n",
       "      <th>tournament</th>\n",
       "      <th>year</th>\n",
       "      <th>month</th>\n",
       "      <th>home_team_rank</th>\n",
       "      <th>away_team_rank</th>\n",
       "      <th>Match_outcome</th>\n",
       "    </tr>\n",
       "  </thead>\n",
       "  <tbody>\n",
       "    <tr>\n",
       "      <th>6785</th>\n",
       "      <td>124</td>\n",
       "      <td>65</td>\n",
       "      <td>2</td>\n",
       "      <td>2004</td>\n",
       "      <td>10</td>\n",
       "      <td>5</td>\n",
       "      <td>45</td>\n",
       "      <td>win</td>\n",
       "    </tr>\n",
       "    <tr>\n",
       "      <th>5631</th>\n",
       "      <td>66</td>\n",
       "      <td>41</td>\n",
       "      <td>2</td>\n",
       "      <td>2003</td>\n",
       "      <td>6</td>\n",
       "      <td>2</td>\n",
       "      <td>22</td>\n",
       "      <td>win</td>\n",
       "    </tr>\n",
       "    <tr>\n",
       "      <th>16229</th>\n",
       "      <td>90</td>\n",
       "      <td>34</td>\n",
       "      <td>2</td>\n",
       "      <td>2017</td>\n",
       "      <td>7</td>\n",
       "      <td>76</td>\n",
       "      <td>100</td>\n",
       "      <td>win</td>\n",
       "    </tr>\n",
       "    <tr>\n",
       "      <th>7477</th>\n",
       "      <td>137</td>\n",
       "      <td>174</td>\n",
       "      <td>1</td>\n",
       "      <td>2005</td>\n",
       "      <td>11</td>\n",
       "      <td>30</td>\n",
       "      <td>56</td>\n",
       "      <td>win</td>\n",
       "    </tr>\n",
       "    <tr>\n",
       "      <th>7218</th>\n",
       "      <td>93</td>\n",
       "      <td>178</td>\n",
       "      <td>2</td>\n",
       "      <td>2005</td>\n",
       "      <td>6</td>\n",
       "      <td>148</td>\n",
       "      <td>14</td>\n",
       "      <td>loss</td>\n",
       "    </tr>\n",
       "    <tr>\n",
       "      <th>15334</th>\n",
       "      <td>186</td>\n",
       "      <td>159</td>\n",
       "      <td>2</td>\n",
       "      <td>2016</td>\n",
       "      <td>5</td>\n",
       "      <td>181</td>\n",
       "      <td>192</td>\n",
       "      <td>loss</td>\n",
       "    </tr>\n",
       "  </tbody>\n",
       "</table>\n",
       "</div>"
      ],
      "text/plain": [
       "       home_team  away_team  tournament  year  month  home_team_rank  \\\n",
       "6785         124         65           2  2004     10               5   \n",
       "5631          66         41           2  2003      6               2   \n",
       "16229         90         34           2  2017      7              76   \n",
       "7477         137        174           1  2005     11              30   \n",
       "7218          93        178           2  2005      6             148   \n",
       "15334        186        159           2  2016      5             181   \n",
       "\n",
       "       away_team_rank Match_outcome  \n",
       "6785               45           win  \n",
       "5631               22           win  \n",
       "16229             100           win  \n",
       "7477               56           win  \n",
       "7218               14          loss  \n",
       "15334             192          loss  "
      ]
     },
     "execution_count": 489,
     "metadata": {},
     "output_type": "execute_result"
    }
   ],
   "source": [
    "#Balancing the data\n",
    "wins = wins.sample(4700)\n",
    "# consolidatingthe datasets\n",
    "bal_out = pd.concat([wins, loss, draw], axis = 0)\n",
    "bal_out = bal_out.drop(['home_score', 'away_score'],1)\n",
    "bal_out.sample(6)\n"
   ]
  },
  {
   "cell_type": "code",
   "execution_count": 490,
   "metadata": {},
   "outputs": [],
   "source": [
    "#label encoding match out comes\n",
    "bal_out['Match_outcome'] = bal_out['Match_outcome'].replace({'win': 1, 'draw': 0, 'loss':-1} )\n",
    "\n",
    "# bal_out[['home_team','away_team','tournament']] = bal_out[['home_team','away_team','tournament']].apply(le.fit_transform)"
   ]
  },
  {
   "cell_type": "code",
   "execution_count": 491,
   "metadata": {},
   "outputs": [
    {
     "name": "stdout",
     "output_type": "stream",
     "text": [
      "<class 'pandas.core.frame.DataFrame'>\n",
      "Int64Index: 13438 entries, 5845 to 16916\n",
      "Data columns (total 8 columns):\n",
      " #   Column          Non-Null Count  Dtype\n",
      "---  ------          --------------  -----\n",
      " 0   home_team       13438 non-null  int32\n",
      " 1   away_team       13438 non-null  int32\n",
      " 2   tournament      13438 non-null  int32\n",
      " 3   year            13438 non-null  int64\n",
      " 4   month           13438 non-null  int64\n",
      " 5   home_team_rank  13438 non-null  int64\n",
      " 6   away_team_rank  13438 non-null  int64\n",
      " 7   Match_outcome   13438 non-null  int64\n",
      "dtypes: int32(3), int64(5)\n",
      "memory usage: 787.4 KB\n"
     ]
    }
   ],
   "source": [
    "bal_out.info()"
   ]
  },
  {
   "cell_type": "code",
   "execution_count": 493,
   "metadata": {},
   "outputs": [],
   "source": [
    "# split dependent and independent variales\n",
    "x = bal_out.drop(['Match_outcome'],1)\n",
    "y = bal_out['Match_outcome']\n",
    "#spliting data into train and validation dataset\n",
    "x_train,x_test,y_train,y_test = train_test_split(x,y, test_size = 0.2, random_state =10)\n"
   ]
  },
  {
   "cell_type": "code",
   "execution_count": 494,
   "metadata": {},
   "outputs": [
    {
     "name": "stdout",
     "output_type": "stream",
     "text": [
      "(10750, 7)\n",
      "(10750,)\n"
     ]
    }
   ],
   "source": [
    "print(x_train.shape)\n",
    "print(y_train.shape)"
   ]
  },
  {
   "cell_type": "code",
   "execution_count": 495,
   "metadata": {},
   "outputs": [],
   "source": [
    "from sklearn.linear_model import LogisticRegression\n",
    "logreg = LogisticRegression(max_iter = 350)\n",
    "logreg = logreg.fit(x_train, y_train)"
   ]
  },
  {
   "cell_type": "code",
   "execution_count": 496,
   "metadata": {},
   "outputs": [
    {
     "name": "stdout",
     "output_type": "stream",
     "text": [
      "[[628 113 223]\n",
      " [336 129 320]\n",
      " [186  90 663]]\n"
     ]
    }
   ],
   "source": [
    "y_pred = logreg.predict(x_test) #making predictions\n",
    "#evaluating the model using confusion matrix\n",
    "from sklearn.metrics import confusion_matrix\n",
    "print(confusion_matrix(y_test, y_pred))"
   ]
  },
  {
   "cell_type": "code",
   "execution_count": 497,
   "metadata": {},
   "outputs": [
    {
     "data": {
      "text/plain": [
       "0.5282738095238095"
      ]
     },
     "execution_count": 497,
     "metadata": {},
     "output_type": "execute_result"
    }
   ],
   "source": [
    "logreg.score(x_test, y_test)"
   ]
  },
  {
   "cell_type": "code",
   "execution_count": 506,
   "metadata": {
    "scrolled": true
   },
   "outputs": [
    {
     "data": {
      "text/plain": [
       "LogisticRegression(C=1.0, class_weight=None, dual=False, fit_intercept=True,\n",
       "                   intercept_scaling=1, l1_ratio=None, max_iter=100,\n",
       "                   multi_class='auto', n_jobs=None, penalty='l2',\n",
       "                   random_state=None, solver='lbfgs', tol=0.0001, verbose=0,\n",
       "                   warm_start=False)"
      ]
     },
     "execution_count": 506,
     "metadata": {},
     "output_type": "execute_result"
    }
   ],
   "source": [
    "#Displaying the parameters\n",
    "LogisticRegression()"
   ]
  },
  {
   "cell_type": "markdown",
   "metadata": {},
   "source": [
    "**Observation:** The logistic regression model has poor prediction overally it achieved an accuracy of 52 percent which barely meets our metric of success.\n",
    "\n",
    "**Conclusion:** the data is insufficient to make predictions of a match outcome"
   ]
  },
  {
   "cell_type": "code",
   "execution_count": null,
   "metadata": {},
   "outputs": [],
   "source": []
  }
 ],
 "metadata": {
  "kernelspec": {
   "display_name": "Python 3",
   "language": "python",
   "name": "python3"
  },
  "language_info": {
   "codemirror_mode": {
    "name": "ipython",
    "version": 3
   },
   "file_extension": ".py",
   "mimetype": "text/x-python",
   "name": "python",
   "nbconvert_exporter": "python",
   "pygments_lexer": "ipython3",
   "version": "3.7.6"
  }
 },
 "nbformat": 4,
 "nbformat_minor": 4
}
